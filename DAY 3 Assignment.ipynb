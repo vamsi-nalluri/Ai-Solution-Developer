{
 "cells": [
  {
   "cell_type": "code",
   "execution_count": 1,
   "id": "0b23e34a",
   "metadata": {},
   "outputs": [],
   "source": [
    "import numpy as np\n",
    "import pandas as pd\n",
    "import matplotlib.pyplot as plt\n",
    "import seaborn as sns\n",
    "from sklearn.model_selection import train_test_split\n",
    "from sklearn.linear_model import LogisticRegression\n",
    "from sklearn.metrics import accuracy_score\n"
   ]
  },
  {
   "cell_type": "code",
   "execution_count": 23,
   "id": "1d1f58ed",
   "metadata": {},
   "outputs": [
    {
     "data": {
      "text/html": [
       "<div>\n",
       "<style scoped>\n",
       "    .dataframe tbody tr th:only-of-type {\n",
       "        vertical-align: middle;\n",
       "    }\n",
       "\n",
       "    .dataframe tbody tr th {\n",
       "        vertical-align: top;\n",
       "    }\n",
       "\n",
       "    .dataframe thead th {\n",
       "        text-align: right;\n",
       "    }\n",
       "</style>\n",
       "<table border=\"1\" class=\"dataframe\">\n",
       "  <thead>\n",
       "    <tr style=\"text-align: right;\">\n",
       "      <th></th>\n",
       "      <th>Unnamed: 0</th>\n",
       "      <th>TRANSACTION_ID</th>\n",
       "      <th>CUSTOMER_ID</th>\n",
       "      <th>TERMINAL_ID</th>\n",
       "      <th>TX_AMOUNT</th>\n",
       "      <th>TX_TIME_SECONDS</th>\n",
       "      <th>TX_TIME_DAYS</th>\n",
       "      <th>TX_FRAUD</th>\n",
       "      <th>TX_FRAUD_SCENARIO</th>\n",
       "    </tr>\n",
       "  </thead>\n",
       "  <tbody>\n",
       "    <tr>\n",
       "      <th>0</th>\n",
       "      <td>0</td>\n",
       "      <td>0</td>\n",
       "      <td>596</td>\n",
       "      <td>3156</td>\n",
       "      <td>533.07</td>\n",
       "      <td>31</td>\n",
       "      <td>0</td>\n",
       "      <td>0</td>\n",
       "      <td>0</td>\n",
       "    </tr>\n",
       "    <tr>\n",
       "      <th>1</th>\n",
       "      <td>1</td>\n",
       "      <td>1</td>\n",
       "      <td>4961</td>\n",
       "      <td>3412</td>\n",
       "      <td>808.56</td>\n",
       "      <td>130</td>\n",
       "      <td>0</td>\n",
       "      <td>0</td>\n",
       "      <td>0</td>\n",
       "    </tr>\n",
       "    <tr>\n",
       "      <th>2</th>\n",
       "      <td>2</td>\n",
       "      <td>2</td>\n",
       "      <td>2</td>\n",
       "      <td>1365</td>\n",
       "      <td>1442.94</td>\n",
       "      <td>476</td>\n",
       "      <td>0</td>\n",
       "      <td>1</td>\n",
       "      <td>1</td>\n",
       "    </tr>\n",
       "    <tr>\n",
       "      <th>3</th>\n",
       "      <td>3</td>\n",
       "      <td>3</td>\n",
       "      <td>4128</td>\n",
       "      <td>8737</td>\n",
       "      <td>620.65</td>\n",
       "      <td>569</td>\n",
       "      <td>0</td>\n",
       "      <td>0</td>\n",
       "      <td>0</td>\n",
       "    </tr>\n",
       "    <tr>\n",
       "      <th>4</th>\n",
       "      <td>4</td>\n",
       "      <td>4</td>\n",
       "      <td>927</td>\n",
       "      <td>9906</td>\n",
       "      <td>490.66</td>\n",
       "      <td>634</td>\n",
       "      <td>0</td>\n",
       "      <td>0</td>\n",
       "      <td>0</td>\n",
       "    </tr>\n",
       "  </tbody>\n",
       "</table>\n",
       "</div>"
      ],
      "text/plain": [
       "   Unnamed: 0  TRANSACTION_ID  CUSTOMER_ID  TERMINAL_ID  TX_AMOUNT  \\\n",
       "0           0               0          596         3156     533.07   \n",
       "1           1               1         4961         3412     808.56   \n",
       "2           2               2            2         1365    1442.94   \n",
       "3           3               3         4128         8737     620.65   \n",
       "4           4               4          927         9906     490.66   \n",
       "\n",
       "   TX_TIME_SECONDS  TX_TIME_DAYS  TX_FRAUD  TX_FRAUD_SCENARIO  \n",
       "0               31             0         0                  0  \n",
       "1              130             0         0                  0  \n",
       "2              476             0         1                  1  \n",
       "3              569             0         0                  0  \n",
       "4              634             0         0                  0  "
      ]
     },
     "execution_count": 23,
     "metadata": {},
     "output_type": "execute_result"
    }
   ],
   "source": [
    "data=pd.read_csv('Financ_Transactions.csv')\n",
    "data=data.drop('TX_DATETIME',axis=1)\n",
    "# data=data.drop('TX_DATETIME',axis=1)\n",
    "# data['TX_DATETIME'] = pd.to_datetime(data['TX_DATETIME'])\n",
    "# data['TX_TIME_SECONDS'] = (data['TX_DATETIME'] - data['TX_DATETIME'].min()).dt.total_seconds()\n",
    "# data['TX_TIME_DAYS'] = (data['TX_DATETIME'] - data['TX_DATETIME'].min()).dt.days\n",
    "data.head()"
   ]
  },
  {
   "cell_type": "code",
   "execution_count": 24,
   "id": "011fa6d6",
   "metadata": {},
   "outputs": [
    {
     "data": {
      "text/plain": [
       "Unnamed: 0           0\n",
       "TRANSACTION_ID       0\n",
       "CUSTOMER_ID          0\n",
       "TERMINAL_ID          0\n",
       "TX_AMOUNT            0\n",
       "TX_TIME_SECONDS      0\n",
       "TX_TIME_DAYS         0\n",
       "TX_FRAUD             0\n",
       "TX_FRAUD_SCENARIO    0\n",
       "dtype: int64"
      ]
     },
     "execution_count": 24,
     "metadata": {},
     "output_type": "execute_result"
    }
   ],
   "source": [
    "data.isna().sum()"
   ]
  },
  {
   "cell_type": "code",
   "execution_count": 25,
   "id": "54d7558a",
   "metadata": {},
   "outputs": [
    {
     "name": "stdout",
     "output_type": "stream",
     "text": [
      "<class 'pandas.core.frame.DataFrame'>\n",
      "RangeIndex: 1754155 entries, 0 to 1754154\n",
      "Data columns (total 9 columns):\n",
      " #   Column             Dtype  \n",
      "---  ------             -----  \n",
      " 0   Unnamed: 0         int64  \n",
      " 1   TRANSACTION_ID     int64  \n",
      " 2   CUSTOMER_ID        int64  \n",
      " 3   TERMINAL_ID        int64  \n",
      " 4   TX_AMOUNT          float64\n",
      " 5   TX_TIME_SECONDS    int64  \n",
      " 6   TX_TIME_DAYS       int64  \n",
      " 7   TX_FRAUD           int64  \n",
      " 8   TX_FRAUD_SCENARIO  int64  \n",
      "dtypes: float64(1), int64(8)\n",
      "memory usage: 120.4 MB\n"
     ]
    }
   ],
   "source": [
    "data.info()"
   ]
  },
  {
   "cell_type": "code",
   "execution_count": 5,
   "id": "69fe3591",
   "metadata": {},
   "outputs": [
    {
     "data": {
      "text/html": [
       "<div>\n",
       "<style scoped>\n",
       "    .dataframe tbody tr th:only-of-type {\n",
       "        vertical-align: middle;\n",
       "    }\n",
       "\n",
       "    .dataframe tbody tr th {\n",
       "        vertical-align: top;\n",
       "    }\n",
       "\n",
       "    .dataframe thead th {\n",
       "        text-align: right;\n",
       "    }\n",
       "</style>\n",
       "<table border=\"1\" class=\"dataframe\">\n",
       "  <thead>\n",
       "    <tr style=\"text-align: right;\">\n",
       "      <th></th>\n",
       "      <th>count</th>\n",
       "      <th>mean</th>\n",
       "      <th>std</th>\n",
       "      <th>min</th>\n",
       "      <th>25%</th>\n",
       "      <th>50%</th>\n",
       "      <th>75%</th>\n",
       "      <th>max</th>\n",
       "    </tr>\n",
       "  </thead>\n",
       "  <tbody>\n",
       "    <tr>\n",
       "      <th>Unnamed: 0</th>\n",
       "      <td>1754155.0</td>\n",
       "      <td>8.770770e+05</td>\n",
       "      <td>5.063811e+05</td>\n",
       "      <td>0.0</td>\n",
       "      <td>438538.50</td>\n",
       "      <td>877077.00</td>\n",
       "      <td>1.315616e+06</td>\n",
       "      <td>1754154.0</td>\n",
       "    </tr>\n",
       "    <tr>\n",
       "      <th>TRANSACTION_ID</th>\n",
       "      <td>1754155.0</td>\n",
       "      <td>8.770770e+05</td>\n",
       "      <td>5.063811e+05</td>\n",
       "      <td>0.0</td>\n",
       "      <td>438538.50</td>\n",
       "      <td>877077.00</td>\n",
       "      <td>1.315616e+06</td>\n",
       "      <td>1754154.0</td>\n",
       "    </tr>\n",
       "    <tr>\n",
       "      <th>CUSTOMER_ID</th>\n",
       "      <td>1754155.0</td>\n",
       "      <td>2.504011e+03</td>\n",
       "      <td>1.445987e+03</td>\n",
       "      <td>0.0</td>\n",
       "      <td>1252.00</td>\n",
       "      <td>2506.00</td>\n",
       "      <td>3.765000e+03</td>\n",
       "      <td>4999.0</td>\n",
       "    </tr>\n",
       "    <tr>\n",
       "      <th>TERMINAL_ID</th>\n",
       "      <td>1754155.0</td>\n",
       "      <td>4.996733e+03</td>\n",
       "      <td>2.886101e+03</td>\n",
       "      <td>0.0</td>\n",
       "      <td>2502.00</td>\n",
       "      <td>4994.00</td>\n",
       "      <td>7.495000e+03</td>\n",
       "      <td>9999.0</td>\n",
       "    </tr>\n",
       "    <tr>\n",
       "      <th>TX_AMOUNT</th>\n",
       "      <td>1754155.0</td>\n",
       "      <td>5.396820e+02</td>\n",
       "      <td>1.179711e+03</td>\n",
       "      <td>0.0</td>\n",
       "      <td>179.95</td>\n",
       "      <td>421.75</td>\n",
       "      <td>7.505950e+02</td>\n",
       "      <td>647837.5</td>\n",
       "    </tr>\n",
       "    <tr>\n",
       "      <th>TX_TIME_SECONDS</th>\n",
       "      <td>1754155.0</td>\n",
       "      <td>7.903234e+06</td>\n",
       "      <td>4.565172e+06</td>\n",
       "      <td>31.0</td>\n",
       "      <td>3940846.50</td>\n",
       "      <td>7902670.00</td>\n",
       "      <td>1.186566e+07</td>\n",
       "      <td>15811197.0</td>\n",
       "    </tr>\n",
       "    <tr>\n",
       "      <th>TX_TIME_DAYS</th>\n",
       "      <td>1754155.0</td>\n",
       "      <td>9.097260e+01</td>\n",
       "      <td>5.283709e+01</td>\n",
       "      <td>0.0</td>\n",
       "      <td>45.00</td>\n",
       "      <td>91.00</td>\n",
       "      <td>1.370000e+02</td>\n",
       "      <td>182.0</td>\n",
       "    </tr>\n",
       "    <tr>\n",
       "      <th>TX_FRAUD</th>\n",
       "      <td>1754155.0</td>\n",
       "      <td>1.345200e-01</td>\n",
       "      <td>3.412103e-01</td>\n",
       "      <td>0.0</td>\n",
       "      <td>0.00</td>\n",
       "      <td>0.00</td>\n",
       "      <td>0.000000e+00</td>\n",
       "      <td>1.0</td>\n",
       "    </tr>\n",
       "    <tr>\n",
       "      <th>TX_FRAUD_SCENARIO</th>\n",
       "      <td>1754155.0</td>\n",
       "      <td>1.449746e-01</td>\n",
       "      <td>3.874872e-01</td>\n",
       "      <td>0.0</td>\n",
       "      <td>0.00</td>\n",
       "      <td>0.00</td>\n",
       "      <td>0.000000e+00</td>\n",
       "      <td>3.0</td>\n",
       "    </tr>\n",
       "  </tbody>\n",
       "</table>\n",
       "</div>"
      ],
      "text/plain": [
       "                       count          mean           std   min         25%  \\\n",
       "Unnamed: 0         1754155.0  8.770770e+05  5.063811e+05   0.0   438538.50   \n",
       "TRANSACTION_ID     1754155.0  8.770770e+05  5.063811e+05   0.0   438538.50   \n",
       "CUSTOMER_ID        1754155.0  2.504011e+03  1.445987e+03   0.0     1252.00   \n",
       "TERMINAL_ID        1754155.0  4.996733e+03  2.886101e+03   0.0     2502.00   \n",
       "TX_AMOUNT          1754155.0  5.396820e+02  1.179711e+03   0.0      179.95   \n",
       "TX_TIME_SECONDS    1754155.0  7.903234e+06  4.565172e+06  31.0  3940846.50   \n",
       "TX_TIME_DAYS       1754155.0  9.097260e+01  5.283709e+01   0.0       45.00   \n",
       "TX_FRAUD           1754155.0  1.345200e-01  3.412103e-01   0.0        0.00   \n",
       "TX_FRAUD_SCENARIO  1754155.0  1.449746e-01  3.874872e-01   0.0        0.00   \n",
       "\n",
       "                          50%           75%         max  \n",
       "Unnamed: 0          877077.00  1.315616e+06   1754154.0  \n",
       "TRANSACTION_ID      877077.00  1.315616e+06   1754154.0  \n",
       "CUSTOMER_ID           2506.00  3.765000e+03      4999.0  \n",
       "TERMINAL_ID           4994.00  7.495000e+03      9999.0  \n",
       "TX_AMOUNT              421.75  7.505950e+02    647837.5  \n",
       "TX_TIME_SECONDS    7902670.00  1.186566e+07  15811197.0  \n",
       "TX_TIME_DAYS            91.00  1.370000e+02       182.0  \n",
       "TX_FRAUD                 0.00  0.000000e+00         1.0  \n",
       "TX_FRAUD_SCENARIO        0.00  0.000000e+00         3.0  "
      ]
     },
     "execution_count": 5,
     "metadata": {},
     "output_type": "execute_result"
    }
   ],
   "source": [
    "data.describe().T"
   ]
  },
  {
   "cell_type": "code",
   "execution_count": 6,
   "id": "d9f58e95",
   "metadata": {},
   "outputs": [
    {
     "name": "stdout",
     "output_type": "stream",
     "text": [
      "********************************************************************************\n",
      "\n",
      "Fradulent percentage 13.45200395632085\n",
      "********************************************************************************\n",
      "\n",
      "Non Fradulent percentage:\t 86.54799604367915\n",
      "********************************************************************************\n",
      "\n",
      "Total Count:\t 1754155\n",
      "********************************************************************************\n"
     ]
    }
   ],
   "source": [
    "cd=data['TX_FRAUD'].value_counts()\n",
    "f_cou=cd[1]\n",
    "nf_cou=cd[0]\n",
    "ttl_cou=len(data)\n",
    "f_per=(f_cou/ttl_cou)*100\n",
    "nf_per=(nf_cou/ttl_cou)*100\n",
    "print('*'*80)\n",
    "print(\"\\nFradulent percentage\",f_per)\n",
    "print('*'*80)\n",
    "print(\"\\nNon Fradulent percentage:\\t\",nf_per)\n",
    "print('*'*80)\n",
    "print(\"\\nTotal Count:\\t\",ttl_cou)\n",
    "print('*'*80)"
   ]
  },
  {
   "cell_type": "code",
   "execution_count": 7,
   "id": "b7f5fd3f",
   "metadata": {},
   "outputs": [
    {
     "data": {
      "image/png": "[encoded data removed]",
      "text/plain": [
       "<Figure size 800x600 with 1 Axes>"
      ]
     },
     "metadata": {},
     "output_type": "display_data"
    }
   ],
   "source": [
    "plt.figure(figsize=(8,6))\n",
    "plt.title(\"Class Distribution\")\n",
    "plt.pie([f_per,nf_per],labels=[\"Fradulent percentage\",\"Non Fradulent percentage\"],autopct='%1.1f%%')\n",
    "plt.show()"
   ]
  },
  {
   "cell_type": "code",
   "execution_count": 8,
   "id": "6c56de21",
   "metadata": {},
   "outputs": [
    {
     "name": "stderr",
     "output_type": "stream",
     "text": [
      "C:\\Users\\vamsi\\AppData\\Roaming\\Python\\Python311\\site-packages\\sklearn\\utils\\validation.py:757: FutureWarning: is_sparse is deprecated and will be removed in a future version. Check `isinstance(dtype, pd.SparseDtype)` instead.\n",
      "  if not hasattr(array, \"sparse\") and array.dtypes.apply(is_sparse).any():\n",
      "C:\\Users\\vamsi\\AppData\\Roaming\\Python\\Python311\\site-packages\\sklearn\\utils\\validation.py:595: FutureWarning: is_sparse is deprecated and will be removed in a future version. Check `isinstance(dtype, pd.SparseDtype)` instead.\n",
      "  if is_sparse(pd_dtype):\n",
      "C:\\Users\\vamsi\\AppData\\Roaming\\Python\\Python311\\site-packages\\sklearn\\utils\\validation.py:604: FutureWarning: is_sparse is deprecated and will be removed in a future version. Check `isinstance(dtype, pd.SparseDtype)` instead.\n",
      "  if is_sparse(pd_dtype) or not is_extension_array_dtype(pd_dtype):\n",
      "C:\\Users\\vamsi\\AppData\\Roaming\\Python\\Python311\\site-packages\\sklearn\\utils\\validation.py:1111: DataConversionWarning: A column-vector y was passed when a 1d array was expected. Please change the shape of y to (n_samples, ), for example using ravel().\n",
      "  y = column_or_1d(y, warn=True)\n",
      "C:\\Users\\vamsi\\AppData\\Roaming\\Python\\Python311\\site-packages\\sklearn\\utils\\validation.py:757: FutureWarning: is_sparse is deprecated and will be removed in a future version. Check `isinstance(dtype, pd.SparseDtype)` instead.\n",
      "  if not hasattr(array, \"sparse\") and array.dtypes.apply(is_sparse).any():\n",
      "C:\\Users\\vamsi\\AppData\\Roaming\\Python\\Python311\\site-packages\\sklearn\\utils\\validation.py:595: FutureWarning: is_sparse is deprecated and will be removed in a future version. Check `isinstance(dtype, pd.SparseDtype)` instead.\n",
      "  if is_sparse(pd_dtype):\n",
      "C:\\Users\\vamsi\\AppData\\Roaming\\Python\\Python311\\site-packages\\sklearn\\utils\\validation.py:604: FutureWarning: is_sparse is deprecated and will be removed in a future version. Check `isinstance(dtype, pd.SparseDtype)` instead.\n",
      "  if is_sparse(pd_dtype) or not is_extension_array_dtype(pd_dtype):\n"
     ]
    }
   ],
   "source": [
    "x=data.iloc[:,1:-2]\n",
    "# x.head(3)\n",
    "y=data.iloc[:,-2:-1]\n",
    "# y.head(2)\n",
    "xtrain,xtest,ytrain,ytest=train_test_split(x,y,test_size=0.25,random_state=3)\n",
    "# ytrain = ytrain.values.ravel()\n",
    "log_reg=LogisticRegression()\n",
    "log_reg.fit(xtrain,ytrain)\n",
    "ypred=log_reg.predict(xtest)"
   ]
  },
  {
   "cell_type": "code",
   "execution_count": 9,
   "id": "9260fa24",
   "metadata": {},
   "outputs": [
    {
     "name": "stdout",
     "output_type": "stream",
     "text": [
      "\n",
      "*****Training Data Shape\" *******\n",
      "\n",
      "\n",
      "Training data-X- Shape:\t (1315616, 6)\n",
      "\n",
      "Training data-y- Shape:\t (1315616, 1)\n",
      "\n",
      "***************Testing Data Shape***************\n",
      "\n",
      "\n",
      "Testing data (x-Input) Shape:\t (438539, 6)\n",
      "\n",
      "Testing data (y-Outcome) Shape:\t (438539, 1)\n"
     ]
    }
   ],
   "source": [
    "print('\\n*****Training Data Shape\" *******\\n')\n",
    "\n",
    "print(\"\\nTraining data-X- Shape:\\t\",xtrain.shape)\n",
    "print(\"\\nTraining data-y- Shape:\\t\",ytrain. shape)\n",
    "\n",
    "print('\\n***************Testing Data Shape***************\\n')\n",
    "\n",
    "print('\\nTesting data (x-Input) Shape:\\t',xtest.shape)\n",
    "\n",
    "print('\\nTesting data (y-Outcome) Shape:\\t',ytest.shape)"
   ]
  },
  {
   "cell_type": "code",
   "execution_count": 11,
   "id": "6d5c7667",
   "metadata": {
    "scrolled": true
   },
   "outputs": [
    {
     "name": "stdout",
     "output_type": "stream",
     "text": [
      "\n",
      "*****Performance measure for logistic regression classification\" *******\n",
      "\n",
      "\n",
      "****************************** \n",
      "****************************** \n",
      "\n",
      "Accuracy Score :\t 0.8930129361356687\n",
      "\n",
      "****************************** \n",
      "****************************** \n",
      "\n",
      "Precision score:\t 0.6015158818542958\n",
      "\n",
      "****************************** \n",
      "****************************** \n",
      "\n",
      "Confusion Matrix:\t [[355432  23974]\n",
      " [ 22944  36189]]\n",
      "\n",
      "****************************** \n",
      "****************************** \n",
      "\n",
      "F1 score: \t 0.6067093615879828\n",
      "\n",
      "****************************** \n",
      "****************************** \n",
      "\n",
      "Recall score: \t 0.611993303231698\n",
      "\n",
      "****************************** \n",
      "****************************** \n"
     ]
    }
   ],
   "source": [
    "from sklearn.metrics import accuracy_score,precision_score,recall_score,f1_score,confusion_matrix\n",
    "print('\\n*****Performance measure for logistic regression classification\" *******\\n')\n",
    "print(\"\\n****************************** \"*2)\n",
    "print(\"\\nAccuracy Score :\\t\",accuracy_score(ytest,ypred))\n",
    "\n",
    "print(\"\\n****************************** \"*2)\n",
    "      \n",
    "print(\"\\nPrecision score:\\t\",precision_score(ytest,ypred))\n",
    "print(\"\\n****************************** \"*2)\n",
    "      \n",
    "print(\"\\nConfusion Matrix:\\t\",confusion_matrix(ytest,ypred))\n",
    "print(\"\\n****************************** \"*2)\n",
    "\n",
    "print('\\nF1 score: \\t',f1_score(ytest,ypred))\n",
    "\n",
    "print(\"\\n****************************** \"*2)\n",
    "\n",
    "print('\\nRecall score: \\t',recall_score(ytest,ypred))\n",
    "\n",
    "print(\"\\n****************************** \"*2)\n"
   ]
  },
  {
   "cell_type": "code",
   "execution_count": 10,
   "id": "4cc4f5d7",
   "metadata": {},
   "outputs": [
    {
     "name": "stderr",
     "output_type": "stream",
     "text": [
      "C:\\Users\\vamsi\\AppData\\Roaming\\Python\\Python311\\site-packages\\sklearn\\utils\\validation.py:757: FutureWarning: is_sparse is deprecated and will be removed in a future version. Check `isinstance(dtype, pd.SparseDtype)` instead.\n",
      "  if not hasattr(array, \"sparse\") and array.dtypes.apply(is_sparse).any():\n",
      "C:\\Users\\vamsi\\AppData\\Roaming\\Python\\Python311\\site-packages\\sklearn\\utils\\validation.py:595: FutureWarning: is_sparse is deprecated and will be removed in a future version. Check `isinstance(dtype, pd.SparseDtype)` instead.\n",
      "  if is_sparse(pd_dtype):\n",
      "C:\\Users\\vamsi\\AppData\\Roaming\\Python\\Python311\\site-packages\\sklearn\\utils\\validation.py:604: FutureWarning: is_sparse is deprecated and will be removed in a future version. Check `isinstance(dtype, pd.SparseDtype)` instead.\n",
      "  if is_sparse(pd_dtype) or not is_extension_array_dtype(pd_dtype):\n",
      "C:\\Users\\vamsi\\AppData\\Roaming\\Python\\Python311\\site-packages\\sklearn\\utils\\validation.py:757: FutureWarning: is_sparse is deprecated and will be removed in a future version. Check `isinstance(dtype, pd.SparseDtype)` instead.\n",
      "  if not hasattr(array, \"sparse\") and array.dtypes.apply(is_sparse).any():\n",
      "C:\\Users\\vamsi\\AppData\\Roaming\\Python\\Python311\\site-packages\\sklearn\\utils\\validation.py:595: FutureWarning: is_sparse is deprecated and will be removed in a future version. Check `isinstance(dtype, pd.SparseDtype)` instead.\n",
      "  if is_sparse(pd_dtype):\n",
      "C:\\Users\\vamsi\\AppData\\Roaming\\Python\\Python311\\site-packages\\sklearn\\utils\\validation.py:604: FutureWarning: is_sparse is deprecated and will be removed in a future version. Check `isinstance(dtype, pd.SparseDtype)` instead.\n",
      "  if is_sparse(pd_dtype) or not is_extension_array_dtype(pd_dtype):\n"
     ]
    }
   ],
   "source": [
    "from sklearn.preprocessing import StandardScaler\n",
    "scaler = StandardScaler()\n",
    "data[['TX_AMOUNT', 'TX_TIME_SECONDS']] = scaler.fit_transform(data[['TX_AMOUNT', 'TX_TIME_SECONDS']])\n",
    "data.fillna(0, inplace=True)\n",
    "data = pd.get_dummies(data, columns=['TERMINAL_ID', 'TX_FRAUD_SCENARIO'], drop_first=True)"
   ]
  },
  {
   "cell_type": "code",
   "execution_count": null,
   "id": "fa387013",
   "metadata": {
    "scrolled": true
   },
   "outputs": [],
   "source": []
  },
  {
   "cell_type": "code",
   "execution_count": null,
   "id": "8c023549",
   "metadata": {},
   "outputs": [],
   "source": []
  },
  {
   "cell_type": "code",
   "execution_count": 11,
   "id": "12a5a85e",
   "metadata": {},
   "outputs": [
    {
     "name": "stderr",
     "output_type": "stream",
     "text": [
      "C:\\Users\\vamsi\\AppData\\Roaming\\Python\\Python311\\site-packages\\sklearn\\utils\\validation.py:757: FutureWarning: is_sparse is deprecated and will be removed in a future version. Check `isinstance(dtype, pd.SparseDtype)` instead.\n",
      "  if not hasattr(array, \"sparse\") and array.dtypes.apply(is_sparse).any():\n",
      "C:\\Users\\vamsi\\AppData\\Roaming\\Python\\Python311\\site-packages\\sklearn\\utils\\validation.py:595: FutureWarning: is_sparse is deprecated and will be removed in a future version. Check `isinstance(dtype, pd.SparseDtype)` instead.\n",
      "  if is_sparse(pd_dtype):\n",
      "C:\\Users\\vamsi\\AppData\\Roaming\\Python\\Python311\\site-packages\\sklearn\\utils\\validation.py:604: FutureWarning: is_sparse is deprecated and will be removed in a future version. Check `isinstance(dtype, pd.SparseDtype)` instead.\n",
      "  if is_sparse(pd_dtype) or not is_extension_array_dtype(pd_dtype):\n"
     ]
    },
    {
     "ename": "MemoryError",
     "evalue": "Unable to allocate 131. GiB for an array with shape (9999, 1754155) and data type float64",
     "output_type": "error",
     "traceback": [
      "\u001b[1;31m---------------------------------------------------------------------------\u001b[0m",
      "\u001b[1;31mMemoryError\u001b[0m                               Traceback (most recent call last)",
      "Cell \u001b[1;32mIn[11], line 3\u001b[0m\n\u001b[0;32m      1\u001b[0m \u001b[38;5;28;01mfrom\u001b[39;00m \u001b[38;5;21;01mimblearn\u001b[39;00m\u001b[38;5;21;01m.\u001b[39;00m\u001b[38;5;21;01mover_sampling\u001b[39;00m \u001b[38;5;28;01mimport\u001b[39;00m SMOTE\n\u001b[0;32m      2\u001b[0m smote \u001b[38;5;241m=\u001b[39m SMOTE(sampling_strategy\u001b[38;5;241m=\u001b[39m\u001b[38;5;241m0.5\u001b[39m, random_state\u001b[38;5;241m=\u001b[39m\u001b[38;5;241m3\u001b[39m)\n\u001b[1;32m----> 3\u001b[0m X_resampled, y_resampled \u001b[38;5;241m=\u001b[39m smote\u001b[38;5;241m.\u001b[39mfit_resample(data\u001b[38;5;241m.\u001b[39miloc[:, \u001b[38;5;241m1\u001b[39m:\u001b[38;5;241m-\u001b[39m\u001b[38;5;241m2\u001b[39m], data\u001b[38;5;241m.\u001b[39miloc[:, \u001b[38;5;241m-\u001b[39m\u001b[38;5;241m2\u001b[39m:\u001b[38;5;241m-\u001b[39m\u001b[38;5;241m1\u001b[39m])\n",
      "File \u001b[1;32mC:\\ProgramData\\anaconda3\\Lib\\site-packages\\imblearn\\base.py:203\u001b[0m, in \u001b[0;36mBaseSampler.fit_resample\u001b[1;34m(self, X, y)\u001b[0m\n\u001b[0;32m    182\u001b[0m \u001b[38;5;250m\u001b[39m\u001b[38;5;124;03m\"\"\"Resample the dataset.\u001b[39;00m\n\u001b[0;32m    183\u001b[0m \n\u001b[0;32m    184\u001b[0m \u001b[38;5;124;03mParameters\u001b[39;00m\n\u001b[1;32m   (...)\u001b[0m\n\u001b[0;32m    200\u001b[0m \u001b[38;5;124;03m    The corresponding label of `X_resampled`.\u001b[39;00m\n\u001b[0;32m    201\u001b[0m \u001b[38;5;124;03m\"\"\"\u001b[39;00m\n\u001b[0;32m    202\u001b[0m \u001b[38;5;28mself\u001b[39m\u001b[38;5;241m.\u001b[39m_validate_params()\n\u001b[1;32m--> 203\u001b[0m \u001b[38;5;28;01mreturn\u001b[39;00m \u001b[38;5;28msuper\u001b[39m()\u001b[38;5;241m.\u001b[39mfit_resample(X, y)\n",
      "File \u001b[1;32mC:\\ProgramData\\anaconda3\\Lib\\site-packages\\imblearn\\base.py:82\u001b[0m, in \u001b[0;36mSamplerMixin.fit_resample\u001b[1;34m(self, X, y)\u001b[0m\n\u001b[0;32m     80\u001b[0m check_classification_targets(y)\n\u001b[0;32m     81\u001b[0m arrays_transformer \u001b[38;5;241m=\u001b[39m ArraysTransformer(X, y)\n\u001b[1;32m---> 82\u001b[0m X, y, binarize_y \u001b[38;5;241m=\u001b[39m \u001b[38;5;28mself\u001b[39m\u001b[38;5;241m.\u001b[39m_check_X_y(X, y)\n\u001b[0;32m     84\u001b[0m \u001b[38;5;28mself\u001b[39m\u001b[38;5;241m.\u001b[39msampling_strategy_ \u001b[38;5;241m=\u001b[39m check_sampling_strategy(\n\u001b[0;32m     85\u001b[0m     \u001b[38;5;28mself\u001b[39m\u001b[38;5;241m.\u001b[39msampling_strategy, y, \u001b[38;5;28mself\u001b[39m\u001b[38;5;241m.\u001b[39m_sampling_type\n\u001b[0;32m     86\u001b[0m )\n\u001b[0;32m     88\u001b[0m output \u001b[38;5;241m=\u001b[39m \u001b[38;5;28mself\u001b[39m\u001b[38;5;241m.\u001b[39m_fit_resample(X, y)\n",
      "File \u001b[1;32mC:\\ProgramData\\anaconda3\\Lib\\site-packages\\imblearn\\base.py:156\u001b[0m, in \u001b[0;36mBaseSampler._check_X_y\u001b[1;34m(self, X, y, accept_sparse)\u001b[0m\n\u001b[0;32m    154\u001b[0m     accept_sparse \u001b[38;5;241m=\u001b[39m [\u001b[38;5;124m\"\u001b[39m\u001b[38;5;124mcsr\u001b[39m\u001b[38;5;124m\"\u001b[39m, \u001b[38;5;124m\"\u001b[39m\u001b[38;5;124mcsc\u001b[39m\u001b[38;5;124m\"\u001b[39m]\n\u001b[0;32m    155\u001b[0m y, binarize_y \u001b[38;5;241m=\u001b[39m check_target_type(y, indicate_one_vs_all\u001b[38;5;241m=\u001b[39m\u001b[38;5;28;01mTrue\u001b[39;00m)\n\u001b[1;32m--> 156\u001b[0m X, y \u001b[38;5;241m=\u001b[39m \u001b[38;5;28mself\u001b[39m\u001b[38;5;241m.\u001b[39m_validate_data(X, y, reset\u001b[38;5;241m=\u001b[39m\u001b[38;5;28;01mTrue\u001b[39;00m, accept_sparse\u001b[38;5;241m=\u001b[39maccept_sparse)\n\u001b[0;32m    157\u001b[0m \u001b[38;5;28;01mreturn\u001b[39;00m X, y, binarize_y\n",
      "File \u001b[1;32m~\\AppData\\Roaming\\Python\\Python311\\site-packages\\sklearn\\base.py:596\u001b[0m, in \u001b[0;36mBaseEstimator._validate_data\u001b[1;34m(self, X, y, reset, validate_separately, **check_params)\u001b[0m\n\u001b[0;32m    594\u001b[0m         y \u001b[38;5;241m=\u001b[39m check_array(y, input_name\u001b[38;5;241m=\u001b[39m\u001b[38;5;124m\"\u001b[39m\u001b[38;5;124my\u001b[39m\u001b[38;5;124m\"\u001b[39m, \u001b[38;5;241m*\u001b[39m\u001b[38;5;241m*\u001b[39mcheck_y_params)\n\u001b[0;32m    595\u001b[0m     \u001b[38;5;28;01melse\u001b[39;00m:\n\u001b[1;32m--> 596\u001b[0m         X, y \u001b[38;5;241m=\u001b[39m check_X_y(X, y, \u001b[38;5;241m*\u001b[39m\u001b[38;5;241m*\u001b[39mcheck_params)\n\u001b[0;32m    597\u001b[0m     out \u001b[38;5;241m=\u001b[39m X, y\n\u001b[0;32m    599\u001b[0m \u001b[38;5;28;01mif\u001b[39;00m \u001b[38;5;129;01mnot\u001b[39;00m no_val_X \u001b[38;5;129;01mand\u001b[39;00m check_params\u001b[38;5;241m.\u001b[39mget(\u001b[38;5;124m\"\u001b[39m\u001b[38;5;124mensure_2d\u001b[39m\u001b[38;5;124m\"\u001b[39m, \u001b[38;5;28;01mTrue\u001b[39;00m):\n",
      "File \u001b[1;32m~\\AppData\\Roaming\\Python\\Python311\\site-packages\\sklearn\\utils\\validation.py:1074\u001b[0m, in \u001b[0;36mcheck_X_y\u001b[1;34m(X, y, accept_sparse, accept_large_sparse, dtype, order, copy, force_all_finite, ensure_2d, allow_nd, multi_output, ensure_min_samples, ensure_min_features, y_numeric, estimator)\u001b[0m\n\u001b[0;32m   1069\u001b[0m         estimator_name \u001b[38;5;241m=\u001b[39m _check_estimator_name(estimator)\n\u001b[0;32m   1070\u001b[0m     \u001b[38;5;28;01mraise\u001b[39;00m \u001b[38;5;167;01mValueError\u001b[39;00m(\n\u001b[0;32m   1071\u001b[0m         \u001b[38;5;124mf\u001b[39m\u001b[38;5;124m\"\u001b[39m\u001b[38;5;132;01m{\u001b[39;00mestimator_name\u001b[38;5;132;01m}\u001b[39;00m\u001b[38;5;124m requires y to be passed, but the target y is None\u001b[39m\u001b[38;5;124m\"\u001b[39m\n\u001b[0;32m   1072\u001b[0m     )\n\u001b[1;32m-> 1074\u001b[0m X \u001b[38;5;241m=\u001b[39m check_array(\n\u001b[0;32m   1075\u001b[0m     X,\n\u001b[0;32m   1076\u001b[0m     accept_sparse\u001b[38;5;241m=\u001b[39maccept_sparse,\n\u001b[0;32m   1077\u001b[0m     accept_large_sparse\u001b[38;5;241m=\u001b[39maccept_large_sparse,\n\u001b[0;32m   1078\u001b[0m     dtype\u001b[38;5;241m=\u001b[39mdtype,\n\u001b[0;32m   1079\u001b[0m     order\u001b[38;5;241m=\u001b[39morder,\n\u001b[0;32m   1080\u001b[0m     copy\u001b[38;5;241m=\u001b[39mcopy,\n\u001b[0;32m   1081\u001b[0m     force_all_finite\u001b[38;5;241m=\u001b[39mforce_all_finite,\n\u001b[0;32m   1082\u001b[0m     ensure_2d\u001b[38;5;241m=\u001b[39mensure_2d,\n\u001b[0;32m   1083\u001b[0m     allow_nd\u001b[38;5;241m=\u001b[39mallow_nd,\n\u001b[0;32m   1084\u001b[0m     ensure_min_samples\u001b[38;5;241m=\u001b[39mensure_min_samples,\n\u001b[0;32m   1085\u001b[0m     ensure_min_features\u001b[38;5;241m=\u001b[39mensure_min_features,\n\u001b[0;32m   1086\u001b[0m     estimator\u001b[38;5;241m=\u001b[39mestimator,\n\u001b[0;32m   1087\u001b[0m     input_name\u001b[38;5;241m=\u001b[39m\u001b[38;5;124m\"\u001b[39m\u001b[38;5;124mX\u001b[39m\u001b[38;5;124m\"\u001b[39m,\n\u001b[0;32m   1088\u001b[0m )\n\u001b[0;32m   1090\u001b[0m y \u001b[38;5;241m=\u001b[39m _check_y(y, multi_output\u001b[38;5;241m=\u001b[39mmulti_output, y_numeric\u001b[38;5;241m=\u001b[39my_numeric, estimator\u001b[38;5;241m=\u001b[39mestimator)\n\u001b[0;32m   1092\u001b[0m check_consistent_length(X, y)\n",
      "File \u001b[1;32m~\\AppData\\Roaming\\Python\\Python311\\site-packages\\sklearn\\utils\\validation.py:791\u001b[0m, in \u001b[0;36mcheck_array\u001b[1;34m(array, accept_sparse, accept_large_sparse, dtype, order, copy, force_all_finite, ensure_2d, allow_nd, ensure_min_samples, ensure_min_features, estimator, input_name)\u001b[0m\n\u001b[0;32m    786\u001b[0m \u001b[38;5;28;01mif\u001b[39;00m pandas_requires_conversion:\n\u001b[0;32m    787\u001b[0m     \u001b[38;5;66;03m# pandas dataframe requires conversion earlier to handle extension dtypes with\u001b[39;00m\n\u001b[0;32m    788\u001b[0m     \u001b[38;5;66;03m# nans\u001b[39;00m\n\u001b[0;32m    789\u001b[0m     \u001b[38;5;66;03m# Use the original dtype for conversion if dtype is None\u001b[39;00m\n\u001b[0;32m    790\u001b[0m     new_dtype \u001b[38;5;241m=\u001b[39m dtype_orig \u001b[38;5;28;01mif\u001b[39;00m dtype \u001b[38;5;129;01mis\u001b[39;00m \u001b[38;5;28;01mNone\u001b[39;00m \u001b[38;5;28;01melse\u001b[39;00m dtype\n\u001b[1;32m--> 791\u001b[0m     array \u001b[38;5;241m=\u001b[39m array\u001b[38;5;241m.\u001b[39mastype(new_dtype)\n\u001b[0;32m    792\u001b[0m     \u001b[38;5;66;03m# Since we converted here, we do not need to convert again later\u001b[39;00m\n\u001b[0;32m    793\u001b[0m     dtype \u001b[38;5;241m=\u001b[39m \u001b[38;5;28;01mNone\u001b[39;00m\n",
      "File \u001b[1;32m~\\AppData\\Roaming\\Python\\Python311\\site-packages\\pandas\\core\\generic.py:6532\u001b[0m, in \u001b[0;36mNDFrame.astype\u001b[1;34m(self, dtype, copy, errors)\u001b[0m\n\u001b[0;32m   6528\u001b[0m     results \u001b[38;5;241m=\u001b[39m [ser\u001b[38;5;241m.\u001b[39mastype(dtype, copy\u001b[38;5;241m=\u001b[39mcopy) \u001b[38;5;28;01mfor\u001b[39;00m _, ser \u001b[38;5;129;01min\u001b[39;00m \u001b[38;5;28mself\u001b[39m\u001b[38;5;241m.\u001b[39mitems()]\n\u001b[0;32m   6530\u001b[0m \u001b[38;5;28;01melse\u001b[39;00m:\n\u001b[0;32m   6531\u001b[0m     \u001b[38;5;66;03m# else, only a single dtype is given\u001b[39;00m\n\u001b[1;32m-> 6532\u001b[0m     new_data \u001b[38;5;241m=\u001b[39m \u001b[38;5;28mself\u001b[39m\u001b[38;5;241m.\u001b[39m_mgr\u001b[38;5;241m.\u001b[39mastype(dtype\u001b[38;5;241m=\u001b[39mdtype, copy\u001b[38;5;241m=\u001b[39mcopy, errors\u001b[38;5;241m=\u001b[39merrors)\n\u001b[0;32m   6533\u001b[0m     res \u001b[38;5;241m=\u001b[39m \u001b[38;5;28mself\u001b[39m\u001b[38;5;241m.\u001b[39m_constructor_from_mgr(new_data, axes\u001b[38;5;241m=\u001b[39mnew_data\u001b[38;5;241m.\u001b[39maxes)\n\u001b[0;32m   6534\u001b[0m     \u001b[38;5;28;01mreturn\u001b[39;00m res\u001b[38;5;241m.\u001b[39m__finalize__(\u001b[38;5;28mself\u001b[39m, method\u001b[38;5;241m=\u001b[39m\u001b[38;5;124m\"\u001b[39m\u001b[38;5;124mastype\u001b[39m\u001b[38;5;124m\"\u001b[39m)\n",
      "File \u001b[1;32m~\\AppData\\Roaming\\Python\\Python311\\site-packages\\pandas\\core\\internals\\managers.py:414\u001b[0m, in \u001b[0;36mBaseBlockManager.astype\u001b[1;34m(self, dtype, copy, errors)\u001b[0m\n\u001b[0;32m    411\u001b[0m \u001b[38;5;28;01melif\u001b[39;00m using_copy_on_write():\n\u001b[0;32m    412\u001b[0m     copy \u001b[38;5;241m=\u001b[39m \u001b[38;5;28;01mFalse\u001b[39;00m\n\u001b[1;32m--> 414\u001b[0m \u001b[38;5;28;01mreturn\u001b[39;00m \u001b[38;5;28mself\u001b[39m\u001b[38;5;241m.\u001b[39mapply(\n\u001b[0;32m    415\u001b[0m     \u001b[38;5;124m\"\u001b[39m\u001b[38;5;124mastype\u001b[39m\u001b[38;5;124m\"\u001b[39m,\n\u001b[0;32m    416\u001b[0m     dtype\u001b[38;5;241m=\u001b[39mdtype,\n\u001b[0;32m    417\u001b[0m     copy\u001b[38;5;241m=\u001b[39mcopy,\n\u001b[0;32m    418\u001b[0m     errors\u001b[38;5;241m=\u001b[39merrors,\n\u001b[0;32m    419\u001b[0m     using_cow\u001b[38;5;241m=\u001b[39musing_copy_on_write(),\n\u001b[0;32m    420\u001b[0m )\n",
      "File \u001b[1;32m~\\AppData\\Roaming\\Python\\Python311\\site-packages\\pandas\\core\\internals\\managers.py:354\u001b[0m, in \u001b[0;36mBaseBlockManager.apply\u001b[1;34m(self, f, align_keys, **kwargs)\u001b[0m\n\u001b[0;32m    352\u001b[0m         applied \u001b[38;5;241m=\u001b[39m b\u001b[38;5;241m.\u001b[39mapply(f, \u001b[38;5;241m*\u001b[39m\u001b[38;5;241m*\u001b[39mkwargs)\n\u001b[0;32m    353\u001b[0m     \u001b[38;5;28;01melse\u001b[39;00m:\n\u001b[1;32m--> 354\u001b[0m         applied \u001b[38;5;241m=\u001b[39m \u001b[38;5;28mgetattr\u001b[39m(b, f)(\u001b[38;5;241m*\u001b[39m\u001b[38;5;241m*\u001b[39mkwargs)\n\u001b[0;32m    355\u001b[0m     result_blocks \u001b[38;5;241m=\u001b[39m extend_blocks(applied, result_blocks)\n\u001b[0;32m    357\u001b[0m out \u001b[38;5;241m=\u001b[39m \u001b[38;5;28mtype\u001b[39m(\u001b[38;5;28mself\u001b[39m)\u001b[38;5;241m.\u001b[39mfrom_blocks(result_blocks, \u001b[38;5;28mself\u001b[39m\u001b[38;5;241m.\u001b[39maxes)\n",
      "File \u001b[1;32m~\\AppData\\Roaming\\Python\\Python311\\site-packages\\pandas\\core\\internals\\blocks.py:616\u001b[0m, in \u001b[0;36mBlock.astype\u001b[1;34m(self, dtype, copy, errors, using_cow)\u001b[0m\n\u001b[0;32m    596\u001b[0m \u001b[38;5;250m\u001b[39m\u001b[38;5;124;03m\"\"\"\u001b[39;00m\n\u001b[0;32m    597\u001b[0m \u001b[38;5;124;03mCoerce to the new dtype.\u001b[39;00m\n\u001b[0;32m    598\u001b[0m \n\u001b[1;32m   (...)\u001b[0m\n\u001b[0;32m    612\u001b[0m \u001b[38;5;124;03mBlock\u001b[39;00m\n\u001b[0;32m    613\u001b[0m \u001b[38;5;124;03m\"\"\"\u001b[39;00m\n\u001b[0;32m    614\u001b[0m values \u001b[38;5;241m=\u001b[39m \u001b[38;5;28mself\u001b[39m\u001b[38;5;241m.\u001b[39mvalues\n\u001b[1;32m--> 616\u001b[0m new_values \u001b[38;5;241m=\u001b[39m astype_array_safe(values, dtype, copy\u001b[38;5;241m=\u001b[39mcopy, errors\u001b[38;5;241m=\u001b[39merrors)\n\u001b[0;32m    618\u001b[0m new_values \u001b[38;5;241m=\u001b[39m maybe_coerce_values(new_values)\n\u001b[0;32m    620\u001b[0m refs \u001b[38;5;241m=\u001b[39m \u001b[38;5;28;01mNone\u001b[39;00m\n",
      "File \u001b[1;32m~\\AppData\\Roaming\\Python\\Python311\\site-packages\\pandas\\core\\dtypes\\astype.py:238\u001b[0m, in \u001b[0;36mastype_array_safe\u001b[1;34m(values, dtype, copy, errors)\u001b[0m\n\u001b[0;32m    235\u001b[0m     dtype \u001b[38;5;241m=\u001b[39m dtype\u001b[38;5;241m.\u001b[39mnumpy_dtype\n\u001b[0;32m    237\u001b[0m \u001b[38;5;28;01mtry\u001b[39;00m:\n\u001b[1;32m--> 238\u001b[0m     new_values \u001b[38;5;241m=\u001b[39m astype_array(values, dtype, copy\u001b[38;5;241m=\u001b[39mcopy)\n\u001b[0;32m    239\u001b[0m \u001b[38;5;28;01mexcept\u001b[39;00m (\u001b[38;5;167;01mValueError\u001b[39;00m, \u001b[38;5;167;01mTypeError\u001b[39;00m):\n\u001b[0;32m    240\u001b[0m     \u001b[38;5;66;03m# e.g. _astype_nansafe can fail on object-dtype of strings\u001b[39;00m\n\u001b[0;32m    241\u001b[0m     \u001b[38;5;66;03m#  trying to convert to float\u001b[39;00m\n\u001b[0;32m    242\u001b[0m     \u001b[38;5;28;01mif\u001b[39;00m errors \u001b[38;5;241m==\u001b[39m \u001b[38;5;124m\"\u001b[39m\u001b[38;5;124mignore\u001b[39m\u001b[38;5;124m\"\u001b[39m:\n",
      "File \u001b[1;32m~\\AppData\\Roaming\\Python\\Python311\\site-packages\\pandas\\core\\dtypes\\astype.py:183\u001b[0m, in \u001b[0;36mastype_array\u001b[1;34m(values, dtype, copy)\u001b[0m\n\u001b[0;32m    180\u001b[0m     values \u001b[38;5;241m=\u001b[39m values\u001b[38;5;241m.\u001b[39mastype(dtype, copy\u001b[38;5;241m=\u001b[39mcopy)\n\u001b[0;32m    182\u001b[0m \u001b[38;5;28;01melse\u001b[39;00m:\n\u001b[1;32m--> 183\u001b[0m     values \u001b[38;5;241m=\u001b[39m _astype_nansafe(values, dtype, copy\u001b[38;5;241m=\u001b[39mcopy)\n\u001b[0;32m    185\u001b[0m \u001b[38;5;66;03m# in pandas we don't store numpy str dtypes, so convert to object\u001b[39;00m\n\u001b[0;32m    186\u001b[0m \u001b[38;5;28;01mif\u001b[39;00m \u001b[38;5;28misinstance\u001b[39m(dtype, np\u001b[38;5;241m.\u001b[39mdtype) \u001b[38;5;129;01mand\u001b[39;00m \u001b[38;5;28missubclass\u001b[39m(values\u001b[38;5;241m.\u001b[39mdtype\u001b[38;5;241m.\u001b[39mtype, \u001b[38;5;28mstr\u001b[39m):\n",
      "File \u001b[1;32m~\\AppData\\Roaming\\Python\\Python311\\site-packages\\pandas\\core\\dtypes\\astype.py:134\u001b[0m, in \u001b[0;36m_astype_nansafe\u001b[1;34m(arr, dtype, copy, skipna)\u001b[0m\n\u001b[0;32m    130\u001b[0m     \u001b[38;5;28;01mraise\u001b[39;00m \u001b[38;5;167;01mValueError\u001b[39;00m(msg)\n\u001b[0;32m    132\u001b[0m \u001b[38;5;28;01mif\u001b[39;00m copy \u001b[38;5;129;01mor\u001b[39;00m arr\u001b[38;5;241m.\u001b[39mdtype \u001b[38;5;241m==\u001b[39m \u001b[38;5;28mobject\u001b[39m \u001b[38;5;129;01mor\u001b[39;00m dtype \u001b[38;5;241m==\u001b[39m \u001b[38;5;28mobject\u001b[39m:\n\u001b[0;32m    133\u001b[0m     \u001b[38;5;66;03m# Explicit copy, or required since NumPy can't view from / to object.\u001b[39;00m\n\u001b[1;32m--> 134\u001b[0m     \u001b[38;5;28;01mreturn\u001b[39;00m arr\u001b[38;5;241m.\u001b[39mastype(dtype, copy\u001b[38;5;241m=\u001b[39m\u001b[38;5;28;01mTrue\u001b[39;00m)\n\u001b[0;32m    136\u001b[0m \u001b[38;5;28;01mreturn\u001b[39;00m arr\u001b[38;5;241m.\u001b[39mastype(dtype, copy\u001b[38;5;241m=\u001b[39mcopy)\n",
      "\u001b[1;31mMemoryError\u001b[0m: Unable to allocate 131. GiB for an array with shape (9999, 1754155) and data type float64"
     ]
    }
   ],
   "source": [
    "from imblearn.over_sampling import SMOTE\n",
    "smote = SMOTE(sampling_strategy=0.5, random_state=3)\n",
    "X_resampled, y_resampled = smote.fit_resample(data.iloc[:, 1:-2], data.iloc[:, -2:-1])\n"
   ]
  },
  {
   "cell_type": "code",
   "execution_count": 84,
   "id": "40c5d97a",
   "metadata": {},
   "outputs": [
    {
     "ename": "AttributeError",
     "evalue": "'LogisticRegression' object has no attribute 'coef_'",
     "output_type": "error",
     "traceback": [
      "\u001b[1;31m---------------------------------------------------------------------------\u001b[0m",
      "\u001b[1;31mAttributeError\u001b[0m                            Traceback (most recent call last)",
      "Cell \u001b[1;32mIn[84], line 1\u001b[0m\n\u001b[1;32m----> 1\u001b[0m feature_importance \u001b[38;5;241m=\u001b[39m pd\u001b[38;5;241m.\u001b[39mSeries(log_reg\u001b[38;5;241m.\u001b[39mcoef_[\u001b[38;5;241m0\u001b[39m], index\u001b[38;5;241m=\u001b[39mdata\u001b[38;5;241m.\u001b[39miloc[:, \u001b[38;5;241m1\u001b[39m:\u001b[38;5;241m-\u001b[39m\u001b[38;5;241m2\u001b[39m]\u001b[38;5;241m.\u001b[39mcolumns)\n\u001b[0;32m      2\u001b[0m feature_importance \u001b[38;5;241m=\u001b[39m feature_importance\u001b[38;5;241m.\u001b[39mabs()\u001b[38;5;241m.\u001b[39msort_values(ascending\u001b[38;5;241m=\u001b[39m\u001b[38;5;28;01mFalse\u001b[39;00m)\n",
      "\u001b[1;31mAttributeError\u001b[0m: 'LogisticRegression' object has no attribute 'coef_'"
     ]
    }
   ],
   "source": [
    "feature_importance = pd.Series(log_reg.coef_[0], index=data.iloc[:, 1:-2].columns)\n",
    "feature_importance = feature_importance.abs().sort_values(ascending=False)\n"
   ]
  },
  {
   "cell_type": "code",
   "execution_count": null,
   "id": "dea9f851",
   "metadata": {},
   "outputs": [],
   "source": []
  },
  {
   "cell_type": "code",
   "execution_count": null,
   "id": "f2374b31",
   "metadata": {},
   "outputs": [],
   "source": []
  },
  {
   "cell_type": "code",
   "execution_count": null,
   "id": "7a4e5cf9",
   "metadata": {},
   "outputs": [],
   "source": []
  },
  {
   "cell_type": "code",
   "execution_count": null,
   "id": "e6295ef9",
   "metadata": {},
   "outputs": [],
   "source": []
  },
  {
   "cell_type": "code",
   "execution_count": null,
   "id": "8053b4d3",
   "metadata": {},
   "outputs": [],
   "source": []
  },
  {
   "cell_type": "code",
   "execution_count": 26,
   "id": "cf188fac",
   "metadata": {},
   "outputs": [
    {
     "name": "stderr",
     "output_type": "stream",
     "text": [
      "C:\\Users\\vamsi\\AppData\\Roaming\\Python\\Python311\\site-packages\\sklearn\\utils\\validation.py:757: FutureWarning: is_sparse is deprecated and will be removed in a future version. Check `isinstance(dtype, pd.SparseDtype)` instead.\n",
      "  if not hasattr(array, \"sparse\") and array.dtypes.apply(is_sparse).any():\n",
      "C:\\Users\\vamsi\\AppData\\Roaming\\Python\\Python311\\site-packages\\sklearn\\utils\\validation.py:595: FutureWarning: is_sparse is deprecated and will be removed in a future version. Check `isinstance(dtype, pd.SparseDtype)` instead.\n",
      "  if is_sparse(pd_dtype):\n",
      "C:\\Users\\vamsi\\AppData\\Roaming\\Python\\Python311\\site-packages\\sklearn\\utils\\validation.py:604: FutureWarning: is_sparse is deprecated and will be removed in a future version. Check `isinstance(dtype, pd.SparseDtype)` instead.\n",
      "  if is_sparse(pd_dtype) or not is_extension_array_dtype(pd_dtype):\n",
      "C:\\Users\\vamsi\\AppData\\Roaming\\Python\\Python311\\site-packages\\sklearn\\utils\\validation.py:757: FutureWarning: is_sparse is deprecated and will be removed in a future version. Check `isinstance(dtype, pd.SparseDtype)` instead.\n",
      "  if not hasattr(array, \"sparse\") and array.dtypes.apply(is_sparse).any():\n",
      "C:\\Users\\vamsi\\AppData\\Roaming\\Python\\Python311\\site-packages\\sklearn\\utils\\validation.py:595: FutureWarning: is_sparse is deprecated and will be removed in a future version. Check `isinstance(dtype, pd.SparseDtype)` instead.\n",
      "  if is_sparse(pd_dtype):\n",
      "C:\\Users\\vamsi\\AppData\\Roaming\\Python\\Python311\\site-packages\\sklearn\\utils\\validation.py:604: FutureWarning: is_sparse is deprecated and will be removed in a future version. Check `isinstance(dtype, pd.SparseDtype)` instead.\n",
      "  if is_sparse(pd_dtype) or not is_extension_array_dtype(pd_dtype):\n",
      "C:\\Users\\vamsi\\AppData\\Roaming\\Python\\Python311\\site-packages\\sklearn\\utils\\validation.py:1111: DataConversionWarning: A column-vector y was passed when a 1d array was expected. Please change the shape of y to (n_samples, ), for example using ravel().\n",
      "  y = column_or_1d(y, warn=True)\n",
      "C:\\Users\\vamsi\\AppData\\Roaming\\Python\\Python311\\site-packages\\sklearn\\utils\\validation.py:757: FutureWarning: is_sparse is deprecated and will be removed in a future version. Check `isinstance(dtype, pd.SparseDtype)` instead.\n",
      "  if not hasattr(array, \"sparse\") and array.dtypes.apply(is_sparse).any():\n",
      "C:\\Users\\vamsi\\AppData\\Roaming\\Python\\Python311\\site-packages\\sklearn\\utils\\validation.py:595: FutureWarning: is_sparse is deprecated and will be removed in a future version. Check `isinstance(dtype, pd.SparseDtype)` instead.\n",
      "  if is_sparse(pd_dtype):\n",
      "C:\\Users\\vamsi\\AppData\\Roaming\\Python\\Python311\\site-packages\\sklearn\\utils\\validation.py:604: FutureWarning: is_sparse is deprecated and will be removed in a future version. Check `isinstance(dtype, pd.SparseDtype)` instead.\n",
      "  if is_sparse(pd_dtype) or not is_extension_array_dtype(pd_dtype):\n"
     ]
    }
   ],
   "source": [
    "from imblearn.over_sampling import SMOTE\n",
    "\n",
    "# Apply SMOTE to oversample the minority class\n",
    "smote = SMOTE(random_state=42)\n",
    "x_resampled, y_resampled = smote.fit_resample(xtrain, ytrain)\n",
    "\n",
    "# Now, you can train the logistic regression model on the resampled data\n",
    "log_reg_resampled = LogisticRegression()\n",
    "log_reg_resampled.fit(x_resampled, y_resampled)\n",
    "ypred_resampled = log_reg_resampled.predict(xtest)\n"
   ]
  },
  {
   "cell_type": "code",
   "execution_count": 28,
   "id": "15596203",
   "metadata": {},
   "outputs": [
    {
     "name": "stdout",
     "output_type": "stream",
     "text": [
      "\n",
      "*****Performance measure for logistic regression with feature-engineered and balanced data\" *******\n",
      "\n",
      "\n",
      "****************************** \n",
      "****************************** \n",
      "\n",
      "Accuracy Score :\t 0.839264010726526\n",
      "\n",
      "****************************** \n",
      "****************************** \n",
      "\n",
      "Precision score:\t 0.4526935830570043\n",
      "\n",
      "****************************** \n",
      "****************************** \n",
      "\n",
      "Confusion Matrix:\t [[313715  65691]\n",
      " [  4798  54335]]\n",
      "\n",
      "****************************** \n",
      "****************************** \n",
      "\n",
      "F1 score: \t 0.6065561875205823\n",
      "\n",
      "****************************** \n",
      "****************************** \n",
      "\n",
      "Recall score: \t 0.9188608729474236\n",
      "\n",
      "****************************** \n",
      "****************************** \n"
     ]
    }
   ],
   "source": [
    "from sklearn.metrics import accuracy_score,precision_score,recall_score,f1_score,confusion_matrix\n",
    "print('\\n*****Performance measure for logistic regression with feature-engineered and balanced data\" *******\\n')\n",
    "print(\"\\n****************************** \"*2)\n",
    "print(\"\\nAccuracy Score :\\t\", accuracy_score(ytest, ypred_resampled))\n",
    "print(\"\\n****************************** \"*2)\n",
    "print(\"\\nPrecision score:\\t\", precision_score(ytest, ypred_resampled))\n",
    "print(\"\\n****************************** \"*2)\n",
    "print(\"\\nConfusion Matrix:\\t\", confusion_matrix(ytest, ypred_resampled))\n",
    "print(\"\\n****************************** \"*2)\n",
    "print('\\nF1 score: \\t', f1_score(ytest, ypred_resampled))\n",
    "print(\"\\n****************************** \"*2)\n",
    "print('\\nRecall score: \\t', recall_score(ytest, ypred_resampled))\n",
    "print(\"\\n****************************** \"*2)\n"
   ]
  },
  {
   "cell_type": "code",
   "execution_count": 29,
   "id": "f54a0d38",
   "metadata": {},
   "outputs": [
    {
     "name": "stdout",
     "output_type": "stream",
     "text": [
      "Top positive features:\n",
      "TX_AMOUNT: 0.006022564255940533\n",
      "CUSTOMER_ID: -0.0006209429358142684\n",
      "TERMINAL_ID: -0.00030817530515176496\n",
      "TRANSACTION_ID: -0.00013012300882090307\n",
      "TX_TIME_SECONDS: 1.4250485416894481e-05\n",
      "\n",
      "Top negative features:\n",
      "CUSTOMER_ID: -0.0006209429358142684\n",
      "TERMINAL_ID: -0.00030817530515176496\n",
      "TRANSACTION_ID: -0.00013012300882090307\n",
      "TX_TIME_SECONDS: 1.4250485416894481e-05\n",
      "TX_TIME_DAYS: 1.523184804085275e-07\n"
     ]
    }
   ],
   "source": [
    "# Get the coefficients of the logistic regression model\n",
    "coefficients = log_reg_resampled.coef_[0]\n",
    "\n",
    "# Pair features with their coefficients\n",
    "feature_coefficients = list(zip(xtrain.columns, coefficients))\n",
    "\n",
    "# Sort features by coefficient magnitude\n",
    "feature_coefficients = sorted(feature_coefficients, key=lambda x: abs(x[1]), reverse=True)\n",
    "\n",
    "# Display the features with the highest positive and negative coefficients\n",
    "top_positive_features = feature_coefficients[:5]\n",
    "top_negative_features = feature_coefficients[-5:]\n",
    "\n",
    "print(\"Top positive features:\")\n",
    "for feature, coefficient in top_positive_features:\n",
    "    print(f\"{feature}: {coefficient}\")\n",
    "\n",
    "print(\"\\nTop negative features:\")\n",
    "for feature, coefficient in top_negative_features:\n",
    "    print(f\"{feature}: {coefficient}\")\n"
   ]
  },
  {
   "cell_type": "code",
   "execution_count": 30,
   "id": "a272c652",
   "metadata": {},
   "outputs": [
    {
     "name": "stdout",
     "output_type": "stream",
     "text": [
      "Comparison of Initial Model and Feature-Engineered Model:\n",
      "--------------------------------------------------------\n",
      "Metric \t\t Initial Model \t Feature-Engineered Model\n",
      "--------------------------------------------------------\n",
      "Accuracy \t\t 0.89 \t\t 0.84\n",
      "Precision \t\t 0.60 \t\t 0.45\n",
      "Recall \t\t\t 0.61 \t\t 0.92\n",
      "F1 Score \t\t 0.61 \t\t 0.61\n",
      "--------------------------------------------------------\n"
     ]
    }
   ],
   "source": [
    "from sklearn.metrics import accuracy_score, precision_score, recall_score, f1_score, confusion_matrix\n",
    "\n",
    "# Calculate performance metrics for the initial model\n",
    "initial_model_accuracy = accuracy_score(ytest, ypred)\n",
    "initial_model_precision = precision_score(ytest, ypred)\n",
    "initial_model_recall = recall_score(ytest, ypred)\n",
    "initial_model_f1 = f1_score(ytest, ypred)\n",
    "\n",
    "# Calculate performance metrics for the feature-engineered and balanced model\n",
    "feature_engineered_model_accuracy = accuracy_score(ytest, ypred_resampled)\n",
    "feature_engineered_model_precision = precision_score(ytest, ypred_resampled)\n",
    "feature_engineered_model_recall = recall_score(ytest, ypred_resampled)\n",
    "feature_engineered_model_f1 = f1_score(ytest, ypred_resampled)\n",
    "\n",
    "# Compare and document the results\n",
    "print(\"Comparison of Initial Model and Feature-Engineered Model:\")\n",
    "print(\"--------------------------------------------------------\")\n",
    "print(\"Metric \\t\\t Initial Model \\t Feature-Engineered Model\")\n",
    "print(\"--------------------------------------------------------\")\n",
    "print(f\"Accuracy \\t\\t {initial_model_accuracy:.2f} \\t\\t {feature_engineered_model_accuracy:.2f}\")\n",
    "print(f\"Precision \\t\\t {initial_model_precision:.2f} \\t\\t {feature_engineered_model_precision:.2f}\")\n",
    "print(f\"Recall \\t\\t\\t {initial_model_recall:.2f} \\t\\t {feature_engineered_model_recall:.2f}\")\n",
    "print(f\"F1 Score \\t\\t {initial_model_f1:.2f} \\t\\t {feature_engineered_model_f1:.2f}\")\n",
    "print(\"--------------------------------------------------------\")\n"
   ]
  },
  {
   "cell_type": "code",
   "execution_count": null,
   "id": "5a9708e5",
   "metadata": {},
   "outputs": [],
   "source": []
  }
 ],
 "metadata": {
  "kernelspec": {
   "display_name": "Python 3 (ipykernel)",
   "language": "python",
   "name": "python3"
  },
  "language_info": {
   "codemirror_mode": {
    "name": "ipython",
    "version": 3
   },
   "file_extension": ".py",
   "mimetype": "text/x-python",
   "name": "python",
   "nbconvert_exporter": "python",
   "pygments_lexer": "ipython3",
   "version": "3.11.4"
  }
 },
 "nbformat": 4,
 "nbformat_minor": 5
}
