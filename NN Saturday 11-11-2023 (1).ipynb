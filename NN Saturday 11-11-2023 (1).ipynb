{
 "cells": [
  {
   "cell_type": "markdown",
   "id": "a49c5d64",
   "metadata": {},
   "source": [
    "# Image Classification with Deep Learning"
   ]
  },
  {
   "cell_type": "code",
   "execution_count": 22,
   "id": "284b57a2",
   "metadata": {},
   "outputs": [],
   "source": [
    "import tensorflow as tf\n",
    "from tensorflow.keras import layers, models\n",
    "from tensorflow.keras.datasets import cifar10\n",
    "from tensorflow.keras.utils import to_categorical"
   ]
  },
  {
   "cell_type": "code",
   "execution_count": 23,
   "id": "6af20f7b",
   "metadata": {},
   "outputs": [],
   "source": [
    "batch_size=25\n",
    "num_classes=10\n",
    "epochs=20"
   ]
  },
  {
   "cell_type": "code",
   "execution_count": 24,
   "id": "d6ac0e14",
   "metadata": {},
   "outputs": [
    {
     "name": "stdout",
     "output_type": "stream",
     "text": [
      "Shape-x:\t (50000, 32, 32, 3)\n",
      "Shape-y:\t (50000, 1)\n"
     ]
    }
   ],
   "source": [
    "(X_train, y_train), (X_test, y_test) = cifar10.load_data()\n",
    "print('Shape-x:\\t',X_train.shape)\n",
    "print('Shape-y:\\t',y_train.shape)\n"
   ]
  },
  {
   "cell_type": "markdown",
   "id": "af121375",
   "metadata": {},
   "source": [
    "# Convert class vectors to binary class matrices"
   ]
  },
  {
   "cell_type": "code",
   "execution_count": 27,
   "id": "2ac552e5",
   "metadata": {},
   "outputs": [],
   "source": [
    "import keras\n",
    "y_train = to_categorical(y_train, num_classes)\n",
    "y_test = to_categorical(y_test, num_classes)\n"
   ]
  },
  {
   "cell_type": "code",
   "execution_count": 28,
   "id": "e399a4e2",
   "metadata": {},
   "outputs": [
    {
     "data": {
      "text/plain": [
       "(50000, 10)"
      ]
     },
     "execution_count": 28,
     "metadata": {},
     "output_type": "execute_result"
    }
   ],
   "source": [
    "y_train.shape"
   ]
  },
  {
   "cell_type": "markdown",
   "id": "57c1b21f",
   "metadata": {},
   "source": [
    "# Sequencial Model"
   ]
  },
  {
   "cell_type": "code",
   "execution_count": 29,
   "id": "c47ef94d",
   "metadata": {},
   "outputs": [
    {
     "name": "stdout",
     "output_type": "stream",
     "text": [
      "Model: \"sequential_1\"\n",
      "_________________________________________________________________\n",
      " Layer (type)                Output Shape              Param #   \n",
      "=================================================================\n",
      " conv2d_2 (Conv2D)           (None, 30, 30, 32)        896       \n",
      "                                                                 \n",
      " max_pooling2d_2 (MaxPoolin  (None, 15, 15, 32)        0         \n",
      " g2D)                                                            \n",
      "                                                                 \n",
      " conv2d_3 (Conv2D)           (None, 13, 13, 64)        18496     \n",
      "                                                                 \n",
      " max_pooling2d_3 (MaxPoolin  (None, 6, 6, 64)          0         \n",
      " g2D)                                                            \n",
      "                                                                 \n",
      " flatten_1 (Flatten)         (None, 2304)              0         \n",
      "                                                                 \n",
      " dense_2 (Dense)             (None, 64)                147520    \n",
      "                                                                 \n",
      " dense_3 (Dense)             (None, 10)                650       \n",
      "                                                                 \n",
      "=================================================================\n",
      "Total params: 167562 (654.54 KB)\n",
      "Trainable params: 167562 (654.54 KB)\n",
      "Non-trainable params: 0 (0.00 Byte)\n",
      "_________________________________________________________________\n"
     ]
    }
   ],
   "source": [
    "model = models.Sequential()\n",
    "model.add(layers.Conv2D(32, (3, 3), activation='relu', input_shape=(32, 32, 3)))\n",
    "model.add(layers.MaxPooling2D((2, 2)))\n",
    "model.add(layers.Conv2D(64, (3, 3), activation='relu'))\n",
    "model.add(layers.MaxPooling2D((2, 2)))\n",
    "model.add(layers.Flatten())\n",
    "model.add(layers.Dense(64, activation='relu'))\n",
    "model.add(layers.Dense(num_classes, activation='softmax'))\n",
    "model.summary()"
   ]
  },
  {
   "cell_type": "markdown",
   "id": "cad4581e",
   "metadata": {},
   "source": [
    "# Compile & Fit the model"
   ]
  },
  {
   "cell_type": "code",
   "execution_count": 30,
   "id": "d8db4b24",
   "metadata": {},
   "outputs": [],
   "source": [
    "model.compile(optimizer='adam',loss='categorical_crossentropy',metrics=['accuracy'])"
   ]
  },
  {
   "cell_type": "code",
   "execution_count": 31,
   "id": "2fd2cb9a",
   "metadata": {},
   "outputs": [
    {
     "name": "stdout",
     "output_type": "stream",
     "text": [
      "Epoch 1/20\n",
      "2000/2000 [==============================] - 29s 14ms/step - loss: 1.4129 - accuracy: 0.4917 - val_loss: 1.1263 - val_accuracy: 0.6089\n",
      "Epoch 2/20\n",
      "2000/2000 [==============================] - 33s 16ms/step - loss: 1.0789 - accuracy: 0.6212 - val_loss: 1.0486 - val_accuracy: 0.6385\n",
      "Epoch 3/20\n",
      "2000/2000 [==============================] - 34s 17ms/step - loss: 0.9574 - accuracy: 0.6670 - val_loss: 0.9694 - val_accuracy: 0.6628\n",
      "Epoch 4/20\n",
      "2000/2000 [==============================] - 34s 17ms/step - loss: 0.8785 - accuracy: 0.6939 - val_loss: 0.9271 - val_accuracy: 0.6846\n",
      "Epoch 5/20\n",
      "2000/2000 [==============================] - 37s 18ms/step - loss: 0.8145 - accuracy: 0.7165 - val_loss: 0.9126 - val_accuracy: 0.6889\n",
      "Epoch 6/20\n",
      "2000/2000 [==============================] - 45s 22ms/step - loss: 0.7553 - accuracy: 0.7377 - val_loss: 0.9115 - val_accuracy: 0.6913\n",
      "Epoch 7/20\n",
      "2000/2000 [==============================] - 45s 23ms/step - loss: 0.7028 - accuracy: 0.7544 - val_loss: 0.9197 - val_accuracy: 0.6892\n",
      "Epoch 8/20\n",
      "2000/2000 [==============================] - 47s 23ms/step - loss: 0.6540 - accuracy: 0.7694 - val_loss: 0.9380 - val_accuracy: 0.6856\n",
      "Epoch 9/20\n",
      "2000/2000 [==============================] - 43s 22ms/step - loss: 0.6161 - accuracy: 0.7850 - val_loss: 1.0029 - val_accuracy: 0.6684\n",
      "Epoch 10/20\n",
      "2000/2000 [==============================] - 53s 26ms/step - loss: 0.5686 - accuracy: 0.8008 - val_loss: 0.9548 - val_accuracy: 0.6952\n",
      "Epoch 11/20\n",
      "2000/2000 [==============================] - 45s 23ms/step - loss: 0.5330 - accuracy: 0.8115 - val_loss: 0.9756 - val_accuracy: 0.6945\n",
      "Epoch 12/20\n",
      "2000/2000 [==============================] - 36s 18ms/step - loss: 0.4915 - accuracy: 0.8254 - val_loss: 1.0593 - val_accuracy: 0.6839\n",
      "Epoch 13/20\n",
      "2000/2000 [==============================] - 46s 23ms/step - loss: 0.4504 - accuracy: 0.8403 - val_loss: 1.0682 - val_accuracy: 0.6904\n",
      "Epoch 14/20\n",
      "2000/2000 [==============================] - 47s 24ms/step - loss: 0.4178 - accuracy: 0.8505 - val_loss: 1.1376 - val_accuracy: 0.6877\n",
      "Epoch 15/20\n",
      "2000/2000 [==============================] - 42s 21ms/step - loss: 0.3836 - accuracy: 0.8640 - val_loss: 1.1298 - val_accuracy: 0.6842\n",
      "Epoch 16/20\n",
      "2000/2000 [==============================] - 48s 24ms/step - loss: 0.3542 - accuracy: 0.8724 - val_loss: 1.2895 - val_accuracy: 0.6727\n",
      "Epoch 17/20\n",
      "2000/2000 [==============================] - 42s 21ms/step - loss: 0.3274 - accuracy: 0.8847 - val_loss: 1.2836 - val_accuracy: 0.6830\n",
      "Epoch 18/20\n",
      "2000/2000 [==============================] - 39s 20ms/step - loss: 0.2996 - accuracy: 0.8926 - val_loss: 1.3597 - val_accuracy: 0.6800\n",
      "Epoch 19/20\n",
      "2000/2000 [==============================] - 51s 25ms/step - loss: 0.2739 - accuracy: 0.9027 - val_loss: 1.4290 - val_accuracy: 0.6777\n",
      "Epoch 20/20\n",
      "2000/2000 [==============================] - 46s 23ms/step - loss: 0.2586 - accuracy: 0.9071 - val_loss: 1.5193 - val_accuracy: 0.6733\n",
      "313/313 [==============================] - 4s 14ms/step - loss: 1.5193 - accuracy: 0.6733\n"
     ]
    }
   ],
   "source": [
    "history = model.fit(X_train, y_train,\n",
    "                    epochs=epochs,\n",
    "                    batch_size=batch_size,\n",
    "                    validation_data=(X_test, y_test),\n",
    "                    validation_split=0.2)\n",
    "score=model.evaluate(X_test, y_test,verbose=1)\n"
   ]
  },
  {
   "cell_type": "markdown",
   "id": "a67d6465",
   "metadata": {},
   "source": [
    "# Model Evaluation"
   ]
  },
  {
   "cell_type": "code",
   "execution_count": 32,
   "id": "84df1f8c",
   "metadata": {},
   "outputs": [
    {
     "name": "stdout",
     "output_type": "stream",
     "text": [
      "Test Loss:1.5192594528198242\n",
      "Test Accuracy: 0.67330002784729\n"
     ]
    }
   ],
   "source": [
    "print(f'Test Loss:{score[0]}')\n",
    "print(f'Test Accuracy: {score[1]}')"
   ]
  },
  {
   "cell_type": "markdown",
   "id": "85d1db4b",
   "metadata": {},
   "source": [
    "# Visualize training history"
   ]
  },
  {
   "cell_type": "code",
   "execution_count": 33,
   "id": "039210d7",
   "metadata": {},
   "outputs": [
    {
     "data": {
      "image/png": "[encoded data removed]",
      "text/plain": [
       "<Figure size 640x480 with 1 Axes>"
      ]
     },
     "metadata": {},
     "output_type": "display_data"
    }
   ],
   "source": [
    "import matplotlib.pyplot as plt\n",
    "plt.plot(history.history['accuracy'], label='accuracy')\n",
    "plt.plot(history.history['val_accuracy'], label='val_accuracy')\n",
    "plt.xlabel('Epoch')\n",
    "plt.ylabel('Accuracy')\n",
    "plt.legend(loc='lower right')\n",
    "plt.show()"
   ]
  },
  {
   "cell_type": "markdown",
   "id": "270d7dea",
   "metadata": {},
   "source": [
    "# Confusion Matrix &  Classification Report"
   ]
  },
  {
   "cell_type": "code",
   "execution_count": 34,
   "id": "10a5f641",
   "metadata": {},
   "outputs": [
    {
     "name": "stdout",
     "output_type": "stream",
     "text": [
      "313/313 [==============================] - 4s 13ms/step\n",
      "\n",
      "Confusion Matrix:\n",
      "[[710  33  32  36  31   6  14  16  71  51]\n",
      " [ 19 787   4  10   5   2  16   4  34 119]\n",
      " [ 72   8 475 106  97  73  92  43  16  18]\n",
      " [ 26  12  48 520  67 143  87  43  22  32]\n",
      " [ 23   6  52  83 627  34  83  74   8  10]\n",
      " [ 12  10  42 236  59 512  48  63   8  10]\n",
      " [  6   9  27  64  36  19 814   7   8  10]\n",
      " [ 19   4  19  54  70  55  15 735   2  27]\n",
      " [ 85  52   6  21  14   2  14   8 764  34]\n",
      " [ 34  88   5  11   9   8  13  15  28 789]]\n",
      "****************************************************************************************************\n",
      "\n",
      "\n",
      "Classification Report:\n",
      "              precision    recall  f1-score   support\n",
      "\n",
      "           0       0.71      0.71      0.71      1000\n",
      "           1       0.78      0.79      0.78      1000\n",
      "           2       0.67      0.47      0.56      1000\n",
      "           3       0.46      0.52      0.49      1000\n",
      "           4       0.62      0.63      0.62      1000\n",
      "           5       0.60      0.51      0.55      1000\n",
      "           6       0.68      0.81      0.74      1000\n",
      "           7       0.73      0.73      0.73      1000\n",
      "           8       0.80      0.76      0.78      1000\n",
      "           9       0.72      0.79      0.75      1000\n",
      "\n",
      "    accuracy                           0.67     10000\n",
      "   macro avg       0.67      0.67      0.67     10000\n",
      "weighted avg       0.67      0.67      0.67     10000\n",
      "\n"
     ]
    }
   ],
   "source": [
    "from sklearn.model_selection import train_test_split\n",
    "from sklearn.metrics import classification_report, confusion_matrix\n",
    "\n",
    "\n",
    "y_pred = model.predict(X_test)\n",
    "y_pred_classes = tf.argmax(y_pred, axis=1)\n",
    "y_test_classes = tf.argmax(y_test, axis=1)\n",
    "conf_matrix = confusion_matrix(y_test_classes, y_pred_classes)\n",
    "print('\\nConfusion Matrix:')\n",
    "print(conf_matrix)\n",
    "print()\n",
    "print(\"*\"*100)\n",
    "\n",
    "class_report = classification_report(y_test_classes, y_pred_classes)\n",
    "print('\\n\\nClassification Report:')\n",
    "print(class_report)\n"
   ]
  },
  {
   "cell_type": "markdown",
   "id": "08d433fd",
   "metadata": {},
   "source": [
    "# Save the model for deployment"
   ]
  },
  {
   "cell_type": "code",
   "execution_count": 35,
   "id": "2adecf6b",
   "metadata": {},
   "outputs": [
    {
     "name": "stderr",
     "output_type": "stream",
     "text": [
      "C:\\Users\\vamsi\\AppData\\Roaming\\Python\\Python311\\site-packages\\keras\\src\\engine\\training.py:3079: UserWarning: You are saving your model as an HDF5 file via `model.save()`. This file format is considered legacy. We recommend using instead the native Keras format, e.g. `model.save('my_model.keras')`.\n",
      "  saving_api.save_model(\n"
     ]
    }
   ],
   "source": [
    "model.save('image_classification_model.h5')"
   ]
  },
  {
   "cell_type": "code",
   "execution_count": null,
   "id": "55597ed4",
   "metadata": {},
   "outputs": [],
   "source": []
  },
  {
   "cell_type": "code",
   "execution_count": null,
   "id": "a6fa5e53",
   "metadata": {},
   "outputs": [],
   "source": []
  }
 ],
 "metadata": {
  "kernelspec": {
   "display_name": "Python 3 (ipykernel)",
   "language": "python",
   "name": "python3"
  },
  "language_info": {
   "codemirror_mode": {
    "name": "ipython",
    "version": 3
   },
   "file_extension": ".py",
   "mimetype": "text/x-python",
   "name": "python",
   "nbconvert_exporter": "python",
   "pygments_lexer": "ipython3",
   "version": "3.11.4"
  }
 },
 "nbformat": 4,
 "nbformat_minor": 5
}
