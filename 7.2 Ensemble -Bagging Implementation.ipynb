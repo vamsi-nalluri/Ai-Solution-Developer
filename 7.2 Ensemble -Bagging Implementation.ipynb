{
 "cells": [
  {
   "cell_type": "code",
   "execution_count": 1,
   "id": "3abd64a7",
   "metadata": {},
   "outputs": [],
   "source": [
    "import numpy as np\n",
    "import pandas as pd\n",
    "import seaborn as sns\n",
    "import matplotlib.pyplot as plt"
   ]
  },
  {
   "cell_type": "code",
   "execution_count": 2,
   "id": "23e22b1a",
   "metadata": {},
   "outputs": [
    {
     "data": {
      "text/html": [
       "<div>\n",
       "<style scoped>\n",
       "    .dataframe tbody tr th:only-of-type {\n",
       "        vertical-align: middle;\n",
       "    }\n",
       "\n",
       "    .dataframe tbody tr th {\n",
       "        vertical-align: top;\n",
       "    }\n",
       "\n",
       "    .dataframe thead th {\n",
       "        text-align: right;\n",
       "    }\n",
       "</style>\n",
       "<table border=\"1\" class=\"dataframe\">\n",
       "  <thead>\n",
       "    <tr style=\"text-align: right;\">\n",
       "      <th></th>\n",
       "      <th>satisfaction_level</th>\n",
       "      <th>last_evaluation</th>\n",
       "      <th>number_project</th>\n",
       "      <th>average_montly_hours</th>\n",
       "      <th>time_spend_company</th>\n",
       "      <th>Work_accident</th>\n",
       "      <th>left</th>\n",
       "      <th>promotion_last_5years</th>\n",
       "      <th>salary</th>\n",
       "    </tr>\n",
       "  </thead>\n",
       "  <tbody>\n",
       "    <tr>\n",
       "      <th>0</th>\n",
       "      <td>0.38</td>\n",
       "      <td>0.53</td>\n",
       "      <td>2</td>\n",
       "      <td>157</td>\n",
       "      <td>3</td>\n",
       "      <td>0</td>\n",
       "      <td>1</td>\n",
       "      <td>0</td>\n",
       "      <td>1</td>\n",
       "    </tr>\n",
       "    <tr>\n",
       "      <th>1</th>\n",
       "      <td>0.80</td>\n",
       "      <td>0.86</td>\n",
       "      <td>5</td>\n",
       "      <td>262</td>\n",
       "      <td>6</td>\n",
       "      <td>0</td>\n",
       "      <td>1</td>\n",
       "      <td>0</td>\n",
       "      <td>2</td>\n",
       "    </tr>\n",
       "    <tr>\n",
       "      <th>2</th>\n",
       "      <td>0.11</td>\n",
       "      <td>0.88</td>\n",
       "      <td>7</td>\n",
       "      <td>272</td>\n",
       "      <td>4</td>\n",
       "      <td>0</td>\n",
       "      <td>1</td>\n",
       "      <td>0</td>\n",
       "      <td>2</td>\n",
       "    </tr>\n",
       "    <tr>\n",
       "      <th>3</th>\n",
       "      <td>0.72</td>\n",
       "      <td>0.87</td>\n",
       "      <td>5</td>\n",
       "      <td>223</td>\n",
       "      <td>5</td>\n",
       "      <td>0</td>\n",
       "      <td>1</td>\n",
       "      <td>0</td>\n",
       "      <td>1</td>\n",
       "    </tr>\n",
       "    <tr>\n",
       "      <th>4</th>\n",
       "      <td>0.37</td>\n",
       "      <td>0.52</td>\n",
       "      <td>2</td>\n",
       "      <td>159</td>\n",
       "      <td>3</td>\n",
       "      <td>0</td>\n",
       "      <td>1</td>\n",
       "      <td>0</td>\n",
       "      <td>1</td>\n",
       "    </tr>\n",
       "  </tbody>\n",
       "</table>\n",
       "</div>"
      ],
      "text/plain": [
       "   satisfaction_level  last_evaluation  number_project  average_montly_hours  \\\n",
       "0                0.38             0.53               2                   157   \n",
       "1                0.80             0.86               5                   262   \n",
       "2                0.11             0.88               7                   272   \n",
       "3                0.72             0.87               5                   223   \n",
       "4                0.37             0.52               2                   159   \n",
       "\n",
       "   time_spend_company  Work_accident  left  promotion_last_5years  salary  \n",
       "0                   3              0     1                      0       1  \n",
       "1                   6              0     1                      0       2  \n",
       "2                   4              0     1                      0       2  \n",
       "3                   5              0     1                      0       1  \n",
       "4                   3              0     1                      0       1  "
      ]
     },
     "execution_count": 2,
     "metadata": {},
     "output_type": "execute_result"
    }
   ],
   "source": [
    "data=pd.read_excel('HR_comma_sep.xlsx')\n",
    "from sklearn.preprocessing import LabelEncoder\n",
    "l=LabelEncoder()\n",
    "data['salary']=l.fit_transform(data['salary'])\n",
    "# sns.countplot(data['salary'])\n",
    "data=data.drop(columns=['sales'])\n",
    "data.head()"
   ]
  },
  {
   "cell_type": "code",
   "execution_count": 5,
   "id": "05d95bb9",
   "metadata": {},
   "outputs": [],
   "source": [
    "import warnings\n",
    "# Suppress future warnings\n",
    "warnings.simplefilter(action='ignore', category=FutureWarning)"
   ]
  },
  {
   "cell_type": "code",
   "execution_count": 6,
   "id": "2e435451",
   "metadata": {},
   "outputs": [
    {
     "data": {
      "text/plain": [
       "satisfaction_level       0\n",
       "last_evaluation          0\n",
       "number_project           0\n",
       "average_montly_hours     0\n",
       "time_spend_company       0\n",
       "Work_accident            0\n",
       "left                     0\n",
       "promotion_last_5years    0\n",
       "salary                   0\n",
       "dtype: int64"
      ]
     },
     "execution_count": 6,
     "metadata": {},
     "output_type": "execute_result"
    }
   ],
   "source": [
    "data.isna().sum()"
   ]
  },
  {
   "cell_type": "code",
   "execution_count": 7,
   "id": "9355db8c",
   "metadata": {},
   "outputs": [
    {
     "data": {
      "text/plain": [
       "<Axes: xlabel='salary', ylabel='count'>"
      ]
     },
     "execution_count": 7,
     "metadata": {},
     "output_type": "execute_result"
    },
    {
     "data": {
      "image/png": "[encoded data removed]",
      "text/plain": [
       "<Figure size 640x480 with 1 Axes>"
      ]
     },
     "metadata": {},
     "output_type": "display_data"
    }
   ],
   "source": [
    "sns.countplot(data,x='salary')"
   ]
  },
  {
   "cell_type": "code",
   "execution_count": 9,
   "id": "6eb7741d",
   "metadata": {},
   "outputs": [
    {
     "data": {
      "text/html": [
       "<div>\n",
       "<style scoped>\n",
       "    .dataframe tbody tr th:only-of-type {\n",
       "        vertical-align: middle;\n",
       "    }\n",
       "\n",
       "    .dataframe tbody tr th {\n",
       "        vertical-align: top;\n",
       "    }\n",
       "\n",
       "    .dataframe thead th {\n",
       "        text-align: right;\n",
       "    }\n",
       "</style>\n",
       "<table border=\"1\" class=\"dataframe\">\n",
       "  <thead>\n",
       "    <tr style=\"text-align: right;\">\n",
       "      <th></th>\n",
       "      <th>count</th>\n",
       "      <th>mean</th>\n",
       "      <th>std</th>\n",
       "      <th>min</th>\n",
       "      <th>25%</th>\n",
       "      <th>50%</th>\n",
       "      <th>75%</th>\n",
       "      <th>max</th>\n",
       "    </tr>\n",
       "  </thead>\n",
       "  <tbody>\n",
       "    <tr>\n",
       "      <th>satisfaction_level</th>\n",
       "      <td>14999.0</td>\n",
       "      <td>0.612834</td>\n",
       "      <td>0.248631</td>\n",
       "      <td>0.09</td>\n",
       "      <td>0.44</td>\n",
       "      <td>0.64</td>\n",
       "      <td>0.82</td>\n",
       "      <td>1.0</td>\n",
       "    </tr>\n",
       "    <tr>\n",
       "      <th>last_evaluation</th>\n",
       "      <td>14999.0</td>\n",
       "      <td>0.716102</td>\n",
       "      <td>0.171169</td>\n",
       "      <td>0.36</td>\n",
       "      <td>0.56</td>\n",
       "      <td>0.72</td>\n",
       "      <td>0.87</td>\n",
       "      <td>1.0</td>\n",
       "    </tr>\n",
       "    <tr>\n",
       "      <th>number_project</th>\n",
       "      <td>14999.0</td>\n",
       "      <td>3.803054</td>\n",
       "      <td>1.232592</td>\n",
       "      <td>2.00</td>\n",
       "      <td>3.00</td>\n",
       "      <td>4.00</td>\n",
       "      <td>5.00</td>\n",
       "      <td>7.0</td>\n",
       "    </tr>\n",
       "    <tr>\n",
       "      <th>average_montly_hours</th>\n",
       "      <td>14999.0</td>\n",
       "      <td>201.050337</td>\n",
       "      <td>49.943099</td>\n",
       "      <td>96.00</td>\n",
       "      <td>156.00</td>\n",
       "      <td>200.00</td>\n",
       "      <td>245.00</td>\n",
       "      <td>310.0</td>\n",
       "    </tr>\n",
       "    <tr>\n",
       "      <th>time_spend_company</th>\n",
       "      <td>14999.0</td>\n",
       "      <td>3.498233</td>\n",
       "      <td>1.460136</td>\n",
       "      <td>2.00</td>\n",
       "      <td>3.00</td>\n",
       "      <td>3.00</td>\n",
       "      <td>4.00</td>\n",
       "      <td>10.0</td>\n",
       "    </tr>\n",
       "    <tr>\n",
       "      <th>Work_accident</th>\n",
       "      <td>14999.0</td>\n",
       "      <td>0.144610</td>\n",
       "      <td>0.351719</td>\n",
       "      <td>0.00</td>\n",
       "      <td>0.00</td>\n",
       "      <td>0.00</td>\n",
       "      <td>0.00</td>\n",
       "      <td>1.0</td>\n",
       "    </tr>\n",
       "    <tr>\n",
       "      <th>left</th>\n",
       "      <td>14999.0</td>\n",
       "      <td>0.238083</td>\n",
       "      <td>0.425924</td>\n",
       "      <td>0.00</td>\n",
       "      <td>0.00</td>\n",
       "      <td>0.00</td>\n",
       "      <td>0.00</td>\n",
       "      <td>1.0</td>\n",
       "    </tr>\n",
       "    <tr>\n",
       "      <th>promotion_last_5years</th>\n",
       "      <td>14999.0</td>\n",
       "      <td>0.021268</td>\n",
       "      <td>0.144281</td>\n",
       "      <td>0.00</td>\n",
       "      <td>0.00</td>\n",
       "      <td>0.00</td>\n",
       "      <td>0.00</td>\n",
       "      <td>1.0</td>\n",
       "    </tr>\n",
       "    <tr>\n",
       "      <th>salary</th>\n",
       "      <td>14999.0</td>\n",
       "      <td>1.347290</td>\n",
       "      <td>0.625819</td>\n",
       "      <td>0.00</td>\n",
       "      <td>1.00</td>\n",
       "      <td>1.00</td>\n",
       "      <td>2.00</td>\n",
       "      <td>2.0</td>\n",
       "    </tr>\n",
       "  </tbody>\n",
       "</table>\n",
       "</div>"
      ],
      "text/plain": [
       "                         count        mean        std    min     25%     50%  \\\n",
       "satisfaction_level     14999.0    0.612834   0.248631   0.09    0.44    0.64   \n",
       "last_evaluation        14999.0    0.716102   0.171169   0.36    0.56    0.72   \n",
       "number_project         14999.0    3.803054   1.232592   2.00    3.00    4.00   \n",
       "average_montly_hours   14999.0  201.050337  49.943099  96.00  156.00  200.00   \n",
       "time_spend_company     14999.0    3.498233   1.460136   2.00    3.00    3.00   \n",
       "Work_accident          14999.0    0.144610   0.351719   0.00    0.00    0.00   \n",
       "left                   14999.0    0.238083   0.425924   0.00    0.00    0.00   \n",
       "promotion_last_5years  14999.0    0.021268   0.144281   0.00    0.00    0.00   \n",
       "salary                 14999.0    1.347290   0.625819   0.00    1.00    1.00   \n",
       "\n",
       "                          75%    max  \n",
       "satisfaction_level       0.82    1.0  \n",
       "last_evaluation          0.87    1.0  \n",
       "number_project           5.00    7.0  \n",
       "average_montly_hours   245.00  310.0  \n",
       "time_spend_company       4.00   10.0  \n",
       "Work_accident            0.00    1.0  \n",
       "left                     0.00    1.0  \n",
       "promotion_last_5years    0.00    1.0  \n",
       "salary                   2.00    2.0  "
      ]
     },
     "execution_count": 9,
     "metadata": {},
     "output_type": "execute_result"
    }
   ],
   "source": [
    "data.describe().T"
   ]
  },
  {
   "cell_type": "code",
   "execution_count": 12,
   "id": "dad94dd5",
   "metadata": {},
   "outputs": [
    {
     "name": "stdout",
     "output_type": "stream",
     "text": [
      "\n",
      "X shape:\t (14999, 8)\n",
      "\n",
      "Y Shape:\t (14999, 1)\n"
     ]
    }
   ],
   "source": [
    "x=data.iloc[:,:-1]\n",
    "y=data.iloc[:,-1:]\n",
    "print('\\nX shape:\\t',x.shape)\n",
    "print('\\nY Shape:\\t',y.shape)"
   ]
  },
  {
   "cell_type": "code",
   "execution_count": 13,
   "id": "c9933a31",
   "metadata": {},
   "outputs": [
    {
     "name": "stdout",
     "output_type": "stream",
     "text": [
      "\n",
      "*****Training Data Shape\" *******\n",
      "\n",
      "\n",
      "Training data-X- Shape:\t (11999, 8)\n",
      "\n",
      "Training data-y- Shape:\t (11999,)\n",
      "\n",
      "***************Testing Data Shape***************\n",
      "\n",
      "\n",
      "Testing data (x-Input) Shape:\t (3000, 8)\n",
      "\n",
      "Testing data (y-Outcome) Shape:\t (3000,)\n"
     ]
    }
   ],
   "source": [
    "from sklearn.metrics import accuracy_score,confusion_matrix,classification_report,f1_score,recall_score\n",
    "from sklearn.model_selection import train_test_split\n",
    "y = y.values.ravel()\n",
    "xtrain,xtest,ytrain,ytest=train_test_split(x,y,test_size=0.2,random_state=6)\n",
    "print('\\n*****Training Data Shape\" *******\\n')\n",
    "print(\"\\nTraining data-X- Shape:\\t\",xtrain.shape)\n",
    "print(\"\\nTraining data-y- Shape:\\t\",ytrain. shape)\n",
    "print('\\n***************Testing Data Shape***************\\n')\n",
    "print('\\nTesting data (x-Input) Shape:\\t',xtest.shape)\n",
    "print('\\nTesting data (y-Outcome) Shape:\\t',ytest.shape)"
   ]
  },
  {
   "cell_type": "code",
   "execution_count": 16,
   "id": "86da36f1",
   "metadata": {},
   "outputs": [
    {
     "name": "stdout",
     "output_type": "stream",
     "text": [
      "\n",
      "Training Completed\n",
      "\n",
      "Predicted values :\t [1 1 0 ... 1 1 1]\n",
      "\n",
      "Testing Completed\n",
      "\n",
      "*****Performance measure for GAUSSIAN NB classification\" *******\n",
      "\n",
      "\n",
      "****************************** \n",
      "****************************** \n",
      "\n",
      "Accuracy Score :\t 0.49233333333333335\n",
      "\n",
      "****************************** \n",
      "****************************** \n",
      "\n",
      "Confusion Matrix:\n",
      "\n",
      " [[  27  208    9]\n",
      " [  38 1416   13]\n",
      " [  70 1185   34]]\n",
      "\n",
      "****************************** \n",
      "****************************** \n",
      "\n",
      "Classification Report : \n",
      "\n",
      "               precision    recall  f1-score   support\n",
      "\n",
      "           0       0.20      0.11      0.14       244\n",
      "           1       0.50      0.97      0.66      1467\n",
      "           2       0.61      0.03      0.05      1289\n",
      "\n",
      "    accuracy                           0.49      3000\n",
      "   macro avg       0.44      0.37      0.29      3000\n",
      "weighted avg       0.52      0.49      0.36      3000\n",
      "\n"
     ]
    }
   ],
   "source": [
    "from sklearn.naive_bayes import GaussianNB\n",
    "gaus_nb=GaussianNB()\n",
    "gaus_nb.fit(xtrain,ytrain)\n",
    "print('\\nTraining Completed')\n",
    "ypred_gaus=gaus_nb.predict(xtest)\n",
    "print('\\nPredicted values :\\t',ypred_gaus)\n",
    "print('\\nTesting Completed')\n",
    "print('\\n*****Performance measure for GAUSSIAN NB classification\" *******\\n')\n",
    "print(\"\\n****************************** \"*2)\n",
    "Accuracy_gaus=accuracy_score(ytest,ypred_gaus)\n",
    "print(\"\\nAccuracy Score :\\t\",accuracy_score(ytest,ypred_gaus))\n",
    "\n",
    "print(\"\\n****************************** \"*2)\n",
    "      \n",
    "print(\"\\nConfusion Matrix:\\n\\n\",confusion_matrix(ytest,ypred_gaus))\n",
    "\n",
    "print(\"\\n****************************** \"*2)\n",
    "\n",
    "print('\\nClassification Report : \\n\\n',classification_report(ytest,ypred_gaus))\n"
   ]
  },
  {
   "cell_type": "code",
   "execution_count": 18,
   "id": "051b198c",
   "metadata": {},
   "outputs": [
    {
     "name": "stdout",
     "output_type": "stream",
     "text": [
      "\n",
      "Training Completed\n",
      "\n",
      "Predicted values :\t [1 1 2 ... 1 1 1]\n",
      "\n",
      "Testing Completed\n",
      "\n",
      "*****Performance measure for Multinomial NB classification\" *******\n",
      "\n",
      "\n",
      "****************************** \n",
      "****************************** \n",
      "\n",
      "Accuracy Score :\t 0.506\n",
      "\n",
      "****************************** \n",
      "****************************** \n",
      "\n",
      "Confusion Matrix:\n",
      "\n",
      " [[   0  205   39]\n",
      " [   0 1402   65]\n",
      " [   0 1173  116]]\n",
      "\n",
      "****************************** \n",
      "****************************** \n",
      "\n",
      "Classification Report : \n",
      "\n",
      "               precision    recall  f1-score   support\n",
      "\n",
      "           0       0.00      0.00      0.00       244\n",
      "           1       0.50      0.96      0.66      1467\n",
      "           2       0.53      0.09      0.15      1289\n",
      "\n",
      "    accuracy                           0.51      3000\n",
      "   macro avg       0.34      0.35      0.27      3000\n",
      "weighted avg       0.47      0.51      0.39      3000\n",
      "\n"
     ]
    }
   ],
   "source": [
    "from sklearn.naive_bayes import MultinomialNB\n",
    "mult_nb=MultinomialNB()\n",
    "mult_nb.fit(xtrain,ytrain)\n",
    "print('\\nTraining Completed')\n",
    "ypred_mult_nb=mult_nb.predict(xtest)\n",
    "print('\\nPredicted values :\\t',ypred_mult_nb)\n",
    "print('\\nTesting Completed')\n",
    "print('\\n*****Performance measure for Multinomial NB classification\" *******\\n')\n",
    "print(\"\\n****************************** \"*2)\n",
    "Accuracy_mult_nb=accuracy_score(ytest,ypred_mult_nb)\n",
    "print(\"\\nAccuracy Score :\\t\",accuracy_score(ytest,ypred_mult_nb))\n",
    "\n",
    "print(\"\\n****************************** \"*2)\n",
    "      \n",
    "print(\"\\nConfusion Matrix:\\n\\n\",confusion_matrix(ytest,ypred_mult_nb))\n",
    "\n",
    "print(\"\\n****************************** \"*2)\n",
    "\n",
    "print('\\nClassification Report : \\n\\n',classification_report(ytest,ypred_mult_nb,zero_division=0))\n"
   ]
  },
  {
   "cell_type": "markdown",
   "id": "4b0cc75a",
   "metadata": {},
   "source": [
    "# Bernoulli NB"
   ]
  },
  {
   "cell_type": "code",
   "execution_count": 20,
   "id": "c3e94118",
   "metadata": {},
   "outputs": [
    {
     "name": "stdout",
     "output_type": "stream",
     "text": [
      "\n",
      "Training Completed\n",
      "\n",
      "Predicted values :\t [1 1 2 ... 1 1 1]\n",
      "\n",
      "Testing Completed\n",
      "\n",
      "*****Performance measure for Bernoulli NB classification\" *******\n",
      "\n",
      "\n",
      "****************************** \n",
      "****************************** \n",
      "\n",
      "Accuracy Score :\t 0.482\n",
      "\n",
      "****************************** \n",
      "****************************** \n",
      "\n",
      "Confusion Matrix:\n",
      "\n",
      " [[   0  200   44]\n",
      " [   0 1252  215]\n",
      " [   0 1095  194]]\n",
      "\n",
      "****************************** \n",
      "****************************** \n",
      "\n",
      "Classification Report : \n",
      "\n",
      "               precision    recall  f1-score   support\n",
      "\n",
      "           0       0.00      0.00      0.00       244\n",
      "           1       0.49      0.85      0.62      1467\n",
      "           2       0.43      0.15      0.22      1289\n",
      "\n",
      "    accuracy                           0.48      3000\n",
      "   macro avg       0.31      0.33      0.28      3000\n",
      "weighted avg       0.42      0.48      0.40      3000\n",
      "\n"
     ]
    }
   ],
   "source": [
    "from sklearn.naive_bayes import BernoulliNB\n",
    "ber_nb=BernoulliNB()\n",
    "ber_nb.fit(xtrain,ytrain)\n",
    "print('\\nTraining Completed')\n",
    "ypred_ber_nb=ber_nb.predict(xtest)\n",
    "print('\\nPredicted values :\\t',ypred_ber_nb)\n",
    "print('\\nTesting Completed')\n",
    "print('\\n*****Performance measure for Bernoulli NB classification\" *******\\n')\n",
    "print(\"\\n****************************** \"*2)\n",
    "Accuracy_ber_nb=accuracy_score(ytest,ypred_ber_nb)\n",
    "print(\"\\nAccuracy Score :\\t\",accuracy_score(ytest,ypred_ber_nb))\n",
    "\n",
    "print(\"\\n****************************** \"*2)\n",
    "      \n",
    "print(\"\\nConfusion Matrix:\\n\\n\",confusion_matrix(ytest,ypred_ber_nb))\n",
    "\n",
    "print(\"\\n****************************** \"*2)\n",
    "\n",
    "print('\\nClassification Report : \\n\\n',classification_report(ytest,ypred_ber_nb,zero_division=0))\n"
   ]
  },
  {
   "cell_type": "markdown",
   "id": "adf27b1d",
   "metadata": {},
   "source": [
    "# Ensemble model"
   ]
  },
  {
   "cell_type": "markdown",
   "id": "d91b8ff7",
   "metadata": {},
   "source": [
    "# 1.Bagging Classifier"
   ]
  },
  {
   "cell_type": "code",
   "execution_count": 32,
   "id": "966a68b1",
   "metadata": {},
   "outputs": [
    {
     "name": "stdout",
     "output_type": "stream",
     "text": [
      "====================================================================================================\n",
      "Confusion Matrix:\n",
      " [[  28  209    7]\n",
      " [  38 1419   10]\n",
      " [  70 1190   29]]\n",
      "====================================================================================================\n",
      "Accuracy Score:\t 0.492\n",
      "====================================================================================================\n",
      "Classification Report: \n",
      "               precision    recall  f1-score   support\n",
      "\n",
      "           0       0.21      0.11      0.15       244\n",
      "           1       0.50      0.97      0.66      1467\n",
      "           2       0.63      0.02      0.04      1289\n",
      "\n",
      "    accuracy                           0.49      3000\n",
      "   macro avg       0.45      0.37      0.28      3000\n",
      "weighted avg       0.53      0.49      0.35      3000\n",
      "\n",
      "====================================================================================================\n"
     ]
    }
   ],
   "source": [
    "from sklearn.ensemble import BaggingClassifier\n",
    "\n",
    "bagc=BaggingClassifier(base_estimator=gaus_nb,n_estimators=5, random_state=12)\n",
    "bagc.fit(xtrain,ytrain)\n",
    "ypred_bagc=bagc.predict(xtest)\n",
    "print('='*100)\n",
    "print('Confusion Matrix:\\n', confusion_matrix(ytest, ypred_bagc))\n",
    "print('='*100)\n",
    "Accuracy_bagc=accuracy_score (ytest, ypred_bagc)\n",
    "print('Accuracy Score:\\t', Accuracy_bagc)\n",
    "print('='*100)\n",
    "print('Classification Report: \\n', classification_report (ytest,ypred_bagc))\n",
    "print('='*100)"
   ]
  },
  {
   "cell_type": "markdown",
   "id": "004447ca",
   "metadata": {},
   "source": [
    "# Random Forest Classifier Model"
   ]
  },
  {
   "cell_type": "code",
   "execution_count": 33,
   "id": "54278aa4",
   "metadata": {},
   "outputs": [
    {
     "name": "stdout",
     "output_type": "stream",
     "text": [
      "====================================================================================================\n",
      "Confusion Matrix:\n",
      " [[ 77  94  73]\n",
      " [ 66 981 420]\n",
      " [ 65 484 740]]\n",
      "====================================================================================================\n",
      "Accuracy Score:\t 0.5993333333333334\n",
      "====================================================================================================\n",
      "Classification Report: \n",
      "               precision    recall  f1-score   support\n",
      "\n",
      "           0       0.37      0.32      0.34       244\n",
      "           1       0.63      0.67      0.65      1467\n",
      "           2       0.60      0.57      0.59      1289\n",
      "\n",
      "    accuracy                           0.60      3000\n",
      "   macro avg       0.53      0.52      0.53      3000\n",
      "weighted avg       0.60      0.60      0.60      3000\n",
      "\n",
      "====================================================================================================\n"
     ]
    }
   ],
   "source": [
    "from sklearn.ensemble import RandomForestClassifier\n",
    "\n",
    "ran_for=RandomForestClassifier(n_estimators=5, random_state=1)\n",
    "ran_for.fit(xtrain,ytrain)\n",
    "ypred_ran_for=ran_for.predict(xtest)\n",
    "print('='*100)\n",
    "print('Confusion Matrix:\\n', confusion_matrix(ytest, ypred_ran_for))\n",
    "print('='*100)\n",
    "Accuracy_ran_for=accuracy_score (ytest, ypred_ran_for)\n",
    "print('Accuracy Score:\\t', Accuracy_ran_for)\n",
    "print('='*100)\n",
    "print('Classification Report: \\n', classification_report (ytest,ypred_ran_for))\n",
    "print('='*100)"
   ]
  },
  {
   "cell_type": "code",
   "execution_count": 36,
   "id": "03bd8ff5",
   "metadata": {},
   "outputs": [
    {
     "name": "stdout",
     "output_type": "stream",
     "text": [
      "====================================================================================================\n",
      "Confusion Matrix:\n",
      " [[   0  198   46]\n",
      " [   0 1374   93]\n",
      " [   0 1146  143]]\n",
      "====================================================================================================\n",
      "Accuracy Score:\t 0.5056666666666667\n",
      "====================================================================================================\n",
      "Classification Report: \n",
      "               precision    recall  f1-score   support\n",
      "\n",
      "           0       0.00      0.00      0.00       244\n",
      "           1       0.51      0.94      0.66      1467\n",
      "           2       0.51      0.11      0.18      1289\n",
      "\n",
      "    accuracy                           0.51      3000\n",
      "   macro avg       0.34      0.35      0.28      3000\n",
      "weighted avg       0.47      0.51      0.40      3000\n",
      "\n",
      "====================================================================================================\n"
     ]
    }
   ],
   "source": [
    "from sklearn.ensemble import RandomForestClassifier\n",
    "\n",
    "ran_for=RandomForestClassifier(n_estimators=5, random_state=1,max_depth=3)\n",
    "ran_for.fit(xtrain,ytrain)\n",
    "ypred_ran_for=ran_for.predict(xtest)\n",
    "print('='*100)\n",
    "print('Confusion Matrix:\\n', confusion_matrix(ytest, ypred_ran_for))\n",
    "print('='*100)\n",
    "Accuracy_ran_for_pru=accuracy_score (ytest, ypred_ran_for)\n",
    "print('Accuracy Score:\\t', Accuracy_ran_for_pru)\n",
    "print('='*100)\n",
    "print('Classification Report: \\n', classification_report (ytest,ypred_ran_for,zero_division=0))\n",
    "print('='*100)"
   ]
  },
  {
   "cell_type": "markdown",
   "id": "de3168a2",
   "metadata": {},
   "source": [
    "# Extra Trees Model"
   ]
  },
  {
   "cell_type": "code",
   "execution_count": 35,
   "id": "d5ca4814",
   "metadata": {},
   "outputs": [
    {
     "name": "stdout",
     "output_type": "stream",
     "text": [
      "building tree 1 of 10\n",
      "building tree 2 of 10\n",
      "building tree 3 of 10\n",
      "building tree 4 of 10\n",
      "building tree 5 of 10\n",
      "building tree 6 of 10\n",
      "building tree 7 of 10\n",
      "building tree 8 of 10\n",
      "building tree 9 of 10\n",
      "building tree 10 of 10\n",
      "====================================================================================================\n",
      "Confusion Matrix:\n",
      " [[  76   95   73]\n",
      " [  27 1023  417]\n",
      " [  32  526  731]]\n",
      "====================================================================================================\n",
      "Accuracy Score:\t 0.61\n",
      "====================================================================================================\n",
      "Classification Report: \n",
      "               precision    recall  f1-score   support\n",
      "\n",
      "           0       0.56      0.31      0.40       244\n",
      "           1       0.62      0.70      0.66      1467\n",
      "           2       0.60      0.57      0.58      1289\n",
      "\n",
      "    accuracy                           0.61      3000\n",
      "   macro avg       0.59      0.53      0.55      3000\n",
      "weighted avg       0.61      0.61      0.60      3000\n",
      "\n",
      "====================================================================================================\n"
     ]
    },
    {
     "name": "stderr",
     "output_type": "stream",
     "text": [
      "[Parallel(n_jobs=1)]: Using backend SequentialBackend with 1 concurrent workers.\n",
      "[Parallel(n_jobs=1)]: Done   1 out of   1 | elapsed:    0.0s remaining:    0.0s\n",
      "[Parallel(n_jobs=1)]: Done  10 out of  10 | elapsed:    0.0s finished\n",
      "[Parallel(n_jobs=1)]: Using backend SequentialBackend with 1 concurrent workers.\n",
      "[Parallel(n_jobs=1)]: Done   1 out of   1 | elapsed:    0.0s remaining:    0.0s\n",
      "[Parallel(n_jobs=1)]: Done  10 out of  10 | elapsed:    0.0s finished\n"
     ]
    }
   ],
   "source": [
    "from sklearn.ensemble import ExtraTreesClassifier\n",
    "\n",
    "extra_tree=ExtraTreesClassifier(n_estimators=10,bootstrap=True,verbose=2)\n",
    "extra_tree.fit(xtrain,ytrain)\n",
    "ypred_extra_tree=extra_tree.predict(xtest)\n",
    "print('='*100)\n",
    "print('Confusion Matrix:\\n', confusion_matrix(ytest, ypred_extra_tree))\n",
    "print('='*100)\n",
    "Accuracy_extra_tree=accuracy_score (ytest, ypred_extra_tree)\n",
    "print('Accuracy Score:\\t', Accuracy_extra_tree)\n",
    "print('='*100)\n",
    "print('Classification Report: \\n', classification_report (ytest,ypred_extra_tree))\n",
    "print('='*100)"
   ]
  },
  {
   "cell_type": "markdown",
   "id": "8a1160b6",
   "metadata": {},
   "source": [
    "# Model with Accuracy Scores"
   ]
  },
  {
   "cell_type": "code",
   "execution_count": 38,
   "id": "cf27ce3a",
   "metadata": {},
   "outputs": [
    {
     "name": "stdout",
     "output_type": "stream",
     "text": [
      "                                  Model  Accuracy_score\n",
      "6                 ExtraTrees Classifier        0.610000\n",
      "1                        Multinomial NB        0.506000\n",
      "4               RandomForest Classifier        0.505667\n",
      "5  RandomForest Classifier with pruning        0.505667\n",
      "0                           Gaussian_NB        0.492333\n",
      "3                    Bagging_classifier        0.492000\n",
      "2                          Bernoulli_NB        0.482000\n"
     ]
    }
   ],
   "source": [
    "scores=[('Gaussian_NB', Accuracy_gaus),\n",
    "        ('Multinomial NB', Accuracy_mult_nb),\n",
    "        ('Bernoulli_NB', Accuracy_ber_nb),\n",
    "        ('Bagging_classifier', Accuracy_bagc),\n",
    "        ('RandomForest Classifier', Accuracy_ran_for),\n",
    "        ('RandomForest Classifier with pruning', Accuracy_ran_for_pru),\n",
    "        ('ExtraTrees Classifier', Accuracy_extra_tree)\n",
    "       ]\n",
    "\n",
    "Accu_scores=pd.DataFrame(scores, columns=['Model', 'Accuracy_score'])\n",
    "\n",
    "print (Accu_scores.sort_values (by='Accuracy_score', ascending=False))"
   ]
  },
  {
   "cell_type": "code",
   "execution_count": 40,
   "id": "c63a9140",
   "metadata": {},
   "outputs": [
    {
     "data": {
      "text/plain": [
       "([0, 1, 2, 3, 4, 5, 6],\n",
       " [Text(0, 0, 'Gaussian_NB'),\n",
       "  Text(1, 0, 'Multinomial NB'),\n",
       "  Text(2, 0, 'Bernoulli_NB'),\n",
       "  Text(3, 0, 'Bagging_classifier'),\n",
       "  Text(4, 0, 'RandomForest Classifier'),\n",
       "  Text(5, 0, 'RandomForest Classifier with pruning'),\n",
       "  Text(6, 0, 'ExtraTrees Classifier')])"
      ]
     },
     "execution_count": 40,
     "metadata": {},
     "output_type": "execute_result"
    },
    {
     "data": {
      "image/png": "[encoded data removed]",
      "text/plain": [
       "<Figure size 640x480 with 1 Axes>"
      ]
     },
     "metadata": {},
     "output_type": "display_data"
    }
   ],
   "source": [
    "sns.lineplot(x=Accu_scores['Model'],y=Accu_scores['Accuracy_score'],data=Accu_scores)\n",
    "plt.xticks(rotation=70)"
   ]
  },
  {
   "cell_type": "code",
   "execution_count": null,
   "id": "2ba1431a",
   "metadata": {},
   "outputs": [],
   "source": []
  }
 ],
 "metadata": {
  "kernelspec": {
   "display_name": "Python 3 (ipykernel)",
   "language": "python",
   "name": "python3"
  },
  "language_info": {
   "codemirror_mode": {
    "name": "ipython",
    "version": 3
   },
   "file_extension": ".py",
   "mimetype": "text/x-python",
   "name": "python",
   "nbconvert_exporter": "python",
   "pygments_lexer": "ipython3",
   "version": "3.11.4"
  }
 },
 "nbformat": 4,
 "nbformat_minor": 5
}
