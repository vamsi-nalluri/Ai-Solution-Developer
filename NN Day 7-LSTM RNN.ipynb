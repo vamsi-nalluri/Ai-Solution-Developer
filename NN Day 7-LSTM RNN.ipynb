{
 "cells": [
  {
   "cell_type": "code",
   "execution_count": 1,
   "id": "340f25bb",
   "metadata": {},
   "outputs": [
    {
     "name": "stdout",
     "output_type": "stream",
     "text": [
      "\n"
     ]
    }
   ],
   "source": [
    "print()"
   ]
  },
  {
   "cell_type": "code",
   "execution_count": 2,
   "id": "bcb0860d",
   "metadata": {},
   "outputs": [],
   "source": [
    "import numpy as np\n",
    "import pandas as pd\n",
    "import matplotlib.pyplot as plt\n",
    "import seaborn as sns"
   ]
  },
  {
   "cell_type": "code",
   "execution_count": 3,
   "id": "effe5608",
   "metadata": {},
   "outputs": [
    {
     "data": {
      "text/html": [
       "<div>\n",
       "<style scoped>\n",
       "    .dataframe tbody tr th:only-of-type {\n",
       "        vertical-align: middle;\n",
       "    }\n",
       "\n",
       "    .dataframe tbody tr th {\n",
       "        vertical-align: top;\n",
       "    }\n",
       "\n",
       "    .dataframe thead th {\n",
       "        text-align: right;\n",
       "    }\n",
       "</style>\n",
       "<table border=\"1\" class=\"dataframe\">\n",
       "  <thead>\n",
       "    <tr style=\"text-align: right;\">\n",
       "      <th></th>\n",
       "      <th>UDI</th>\n",
       "      <th>Product ID</th>\n",
       "      <th>Type</th>\n",
       "      <th>Air temperature [K]</th>\n",
       "      <th>Process temperature [K]</th>\n",
       "      <th>Rotational speed [rpm]</th>\n",
       "      <th>Torque [Nm]</th>\n",
       "      <th>Tool wear [min]</th>\n",
       "      <th>Target</th>\n",
       "      <th>Failure Type</th>\n",
       "    </tr>\n",
       "  </thead>\n",
       "  <tbody>\n",
       "    <tr>\n",
       "      <th>0</th>\n",
       "      <td>1</td>\n",
       "      <td>M14860</td>\n",
       "      <td>M</td>\n",
       "      <td>298.1</td>\n",
       "      <td>308.6</td>\n",
       "      <td>1551</td>\n",
       "      <td>42.8</td>\n",
       "      <td>0</td>\n",
       "      <td>0</td>\n",
       "      <td>No Failure</td>\n",
       "    </tr>\n",
       "    <tr>\n",
       "      <th>1</th>\n",
       "      <td>2</td>\n",
       "      <td>L47181</td>\n",
       "      <td>L</td>\n",
       "      <td>298.2</td>\n",
       "      <td>308.7</td>\n",
       "      <td>1408</td>\n",
       "      <td>46.3</td>\n",
       "      <td>3</td>\n",
       "      <td>0</td>\n",
       "      <td>No Failure</td>\n",
       "    </tr>\n",
       "    <tr>\n",
       "      <th>2</th>\n",
       "      <td>3</td>\n",
       "      <td>L47182</td>\n",
       "      <td>L</td>\n",
       "      <td>298.1</td>\n",
       "      <td>308.5</td>\n",
       "      <td>1498</td>\n",
       "      <td>49.4</td>\n",
       "      <td>5</td>\n",
       "      <td>0</td>\n",
       "      <td>No Failure</td>\n",
       "    </tr>\n",
       "    <tr>\n",
       "      <th>3</th>\n",
       "      <td>4</td>\n",
       "      <td>L47183</td>\n",
       "      <td>L</td>\n",
       "      <td>298.2</td>\n",
       "      <td>308.6</td>\n",
       "      <td>1433</td>\n",
       "      <td>39.5</td>\n",
       "      <td>7</td>\n",
       "      <td>0</td>\n",
       "      <td>No Failure</td>\n",
       "    </tr>\n",
       "    <tr>\n",
       "      <th>4</th>\n",
       "      <td>5</td>\n",
       "      <td>L47184</td>\n",
       "      <td>L</td>\n",
       "      <td>298.2</td>\n",
       "      <td>308.7</td>\n",
       "      <td>1408</td>\n",
       "      <td>40.0</td>\n",
       "      <td>9</td>\n",
       "      <td>0</td>\n",
       "      <td>No Failure</td>\n",
       "    </tr>\n",
       "  </tbody>\n",
       "</table>\n",
       "</div>"
      ],
      "text/plain": [
       "   UDI Product ID Type  Air temperature [K]  Process temperature [K]  \\\n",
       "0    1     M14860    M                298.1                    308.6   \n",
       "1    2     L47181    L                298.2                    308.7   \n",
       "2    3     L47182    L                298.1                    308.5   \n",
       "3    4     L47183    L                298.2                    308.6   \n",
       "4    5     L47184    L                298.2                    308.7   \n",
       "\n",
       "   Rotational speed [rpm]  Torque [Nm]  Tool wear [min]  Target Failure Type  \n",
       "0                    1551         42.8                0       0   No Failure  \n",
       "1                    1408         46.3                3       0   No Failure  \n",
       "2                    1498         49.4                5       0   No Failure  \n",
       "3                    1433         39.5                7       0   No Failure  \n",
       "4                    1408         40.0                9       0   No Failure  "
      ]
     },
     "execution_count": 3,
     "metadata": {},
     "output_type": "execute_result"
    }
   ],
   "source": [
    "data=pd.read_csv('predictive_maintenance.csv')\n",
    "data.head()\n"
   ]
  },
  {
   "cell_type": "code",
   "execution_count": 5,
   "id": "e0d4b0a3",
   "metadata": {},
   "outputs": [
    {
     "data": {
      "text/html": [
       "<div>\n",
       "<style scoped>\n",
       "    .dataframe tbody tr th:only-of-type {\n",
       "        vertical-align: middle;\n",
       "    }\n",
       "\n",
       "    .dataframe tbody tr th {\n",
       "        vertical-align: top;\n",
       "    }\n",
       "\n",
       "    .dataframe thead th {\n",
       "        text-align: right;\n",
       "    }\n",
       "</style>\n",
       "<table border=\"1\" class=\"dataframe\">\n",
       "  <thead>\n",
       "    <tr style=\"text-align: right;\">\n",
       "      <th></th>\n",
       "      <th>UDI</th>\n",
       "      <th>Product ID</th>\n",
       "      <th>Type</th>\n",
       "      <th>Air temperature [K]</th>\n",
       "      <th>Process temperature [K]</th>\n",
       "      <th>Rotational speed [rpm]</th>\n",
       "      <th>Torque [Nm]</th>\n",
       "      <th>Tool wear [min]</th>\n",
       "      <th>Target</th>\n",
       "      <th>Failure Type</th>\n",
       "    </tr>\n",
       "  </thead>\n",
       "  <tbody>\n",
       "    <tr>\n",
       "      <th>0</th>\n",
       "      <td>1</td>\n",
       "      <td>7003</td>\n",
       "      <td>2</td>\n",
       "      <td>298.1</td>\n",
       "      <td>308.6</td>\n",
       "      <td>1551</td>\n",
       "      <td>42.8</td>\n",
       "      <td>0</td>\n",
       "      <td>0</td>\n",
       "      <td>1</td>\n",
       "    </tr>\n",
       "    <tr>\n",
       "      <th>1</th>\n",
       "      <td>2</td>\n",
       "      <td>1003</td>\n",
       "      <td>1</td>\n",
       "      <td>298.2</td>\n",
       "      <td>308.7</td>\n",
       "      <td>1408</td>\n",
       "      <td>46.3</td>\n",
       "      <td>3</td>\n",
       "      <td>0</td>\n",
       "      <td>1</td>\n",
       "    </tr>\n",
       "    <tr>\n",
       "      <th>2</th>\n",
       "      <td>3</td>\n",
       "      <td>1004</td>\n",
       "      <td>1</td>\n",
       "      <td>298.1</td>\n",
       "      <td>308.5</td>\n",
       "      <td>1498</td>\n",
       "      <td>49.4</td>\n",
       "      <td>5</td>\n",
       "      <td>0</td>\n",
       "      <td>1</td>\n",
       "    </tr>\n",
       "    <tr>\n",
       "      <th>3</th>\n",
       "      <td>4</td>\n",
       "      <td>1005</td>\n",
       "      <td>1</td>\n",
       "      <td>298.2</td>\n",
       "      <td>308.6</td>\n",
       "      <td>1433</td>\n",
       "      <td>39.5</td>\n",
       "      <td>7</td>\n",
       "      <td>0</td>\n",
       "      <td>1</td>\n",
       "    </tr>\n",
       "    <tr>\n",
       "      <th>4</th>\n",
       "      <td>5</td>\n",
       "      <td>1006</td>\n",
       "      <td>1</td>\n",
       "      <td>298.2</td>\n",
       "      <td>308.7</td>\n",
       "      <td>1408</td>\n",
       "      <td>40.0</td>\n",
       "      <td>9</td>\n",
       "      <td>0</td>\n",
       "      <td>1</td>\n",
       "    </tr>\n",
       "  </tbody>\n",
       "</table>\n",
       "</div>"
      ],
      "text/plain": [
       "   UDI  Product ID  Type  Air temperature [K]  Process temperature [K]  \\\n",
       "0    1        7003     2                298.1                    308.6   \n",
       "1    2        1003     1                298.2                    308.7   \n",
       "2    3        1004     1                298.1                    308.5   \n",
       "3    4        1005     1                298.2                    308.6   \n",
       "4    5        1006     1                298.2                    308.7   \n",
       "\n",
       "   Rotational speed [rpm]  Torque [Nm]  Tool wear [min]  Target  Failure Type  \n",
       "0                    1551         42.8                0       0             1  \n",
       "1                    1408         46.3                3       0             1  \n",
       "2                    1498         49.4                5       0             1  \n",
       "3                    1433         39.5                7       0             1  \n",
       "4                    1408         40.0                9       0             1  "
      ]
     },
     "execution_count": 5,
     "metadata": {},
     "output_type": "execute_result"
    }
   ],
   "source": [
    "from sklearn.preprocessing import LabelEncoder\n",
    "l=LabelEncoder()\n",
    "\n",
    "data['Product ID']=l.fit_transform(data['Product ID'])\n",
    "data['Type']=l.fit_transform(data['Type'])\n",
    "data['Failure Type']=l.fit_transform(data['Failure Type'])\n",
    "data.head()"
   ]
  },
  {
   "cell_type": "code",
   "execution_count": 6,
   "id": "374b6f69",
   "metadata": {},
   "outputs": [
    {
     "data": {
      "text/plain": [
       "UDI                        0\n",
       "Product ID                 0\n",
       "Type                       0\n",
       "Air temperature [K]        0\n",
       "Process temperature [K]    0\n",
       "Rotational speed [rpm]     0\n",
       "Torque [Nm]                0\n",
       "Tool wear [min]            0\n",
       "Target                     0\n",
       "Failure Type               0\n",
       "dtype: int64"
      ]
     },
     "execution_count": 6,
     "metadata": {},
     "output_type": "execute_result"
    }
   ],
   "source": [
    "data.isna().sum()"
   ]
  },
  {
   "cell_type": "code",
   "execution_count": 7,
   "id": "11c4c887",
   "metadata": {},
   "outputs": [
    {
     "data": {
      "image/png": "[encoded data removed]",
      "text/plain": [
       "<Figure size 640x480 with 1 Axes>"
      ]
     },
     "metadata": {},
     "output_type": "display_data"
    }
   ],
   "source": [
    "df=data.iloc[:,1].values\n",
    "plt.plot(df)\n",
    "plt.xlabel('Time')\n",
    "plt.ylabel('Failure Type')\n",
    "plt.title('Equipment Failures')\n",
    "plt.show()"
   ]
  },
  {
   "cell_type": "code",
   "execution_count": 8,
   "id": "2fd88f2a",
   "metadata": {},
   "outputs": [
    {
     "data": {
      "text/plain": [
       "(10000,)"
      ]
     },
     "execution_count": 8,
     "metadata": {},
     "output_type": "execute_result"
    }
   ],
   "source": [
    "df.shape"
   ]
  },
  {
   "cell_type": "code",
   "execution_count": 9,
   "id": "f657490c",
   "metadata": {},
   "outputs": [
    {
     "data": {
      "text/plain": [
       "(10000, 1)"
      ]
     },
     "execution_count": 9,
     "metadata": {},
     "output_type": "execute_result"
    }
   ],
   "source": [
    "df=df.reshape(-1,1)\n",
    "df=df.astype('float32')\n",
    "df.shape"
   ]
  },
  {
   "cell_type": "code",
   "execution_count": 10,
   "id": "75f0ec3f",
   "metadata": {},
   "outputs": [],
   "source": [
    "#scale the data\n",
    "from sklearn.preprocessing import MinMaxScaler\n",
    "scaler=MinMaxScaler(feature_range=(0,1))\n",
    "df=scaler.fit_transform(df)"
   ]
  },
  {
   "cell_type": "code",
   "execution_count": 11,
   "id": "164a29b9",
   "metadata": {},
   "outputs": [
    {
     "name": "stdout",
     "output_type": "stream",
     "text": [
      "Train Size:\t 8000\n",
      "\n",
      "Test Size:\t 2000\n"
     ]
    }
   ],
   "source": [
    "train_size=int(len(df)*0.8)\n",
    "test_size=len(df)-train_size\n",
    "print('Train Size:\\t',train_size)\n",
    "print()\n",
    "print('Test Size:\\t',test_size)"
   ]
  },
  {
   "cell_type": "code",
   "execution_count": 12,
   "id": "1400706f",
   "metadata": {},
   "outputs": [
    {
     "name": "stdout",
     "output_type": "stream",
     "text": [
      "Train Size:\t 8000\n",
      "\n",
      "Test Size:\t 2000\n"
     ]
    }
   ],
   "source": [
    "train=df[0:train_size,:]\n",
    "test=df[train_size:len(df),:]\n",
    "print('Train Size:\\t',len(train))\n",
    "print()\n",
    "print('Test Size:\\t',len(test))\n"
   ]
  },
  {
   "cell_type": "code",
   "execution_count": 13,
   "id": "e3b6bd75",
   "metadata": {},
   "outputs": [
    {
     "name": "stdout",
     "output_type": "stream",
     "text": [
      "(7989, 10) (7989,)\n"
     ]
    }
   ],
   "source": [
    "datax=[]\n",
    "datay=[]\n",
    "timestamp=10\n",
    "for i in range(len(train)-timestamp-1):\n",
    "    a=train[i:(i+timestamp),0]\n",
    "    datax.append(a)\n",
    "    datay.append(train[i+timestamp,0])\n",
    "\n",
    "trainx,trainy=np.array(datax),np.array(datay)\n",
    "print(trainx.shape,trainy.shape)\n"
   ]
  },
  {
   "cell_type": "code",
   "execution_count": 14,
   "id": "53cdd79a",
   "metadata": {},
   "outputs": [
    {
     "name": "stdout",
     "output_type": "stream",
     "text": [
      "(1989, 10) (1989,)\n"
     ]
    }
   ],
   "source": [
    "datax=[]\n",
    "datay=[]\n",
    "timestamp=10\n",
    "for i in range(len(test)-timestamp-1):\n",
    "    a=test[i:(i+timestamp),0]\n",
    "    datax.append(a)\n",
    "    datay.append(test[i+timestamp,0])\n",
    "\n",
    "testx,testy=np.array(datax),np.array(datay)\n",
    "print(testx.shape,testy.shape)"
   ]
  },
  {
   "cell_type": "code",
   "execution_count": 15,
   "id": "c9dd6ff3",
   "metadata": {},
   "outputs": [],
   "source": [
    "#reshape\n",
    "trainx=np.reshape(trainx,(trainx.shape[0],1,trainx.shape[1]))\n",
    "testx=np.reshape(testx,(testx.shape[0],1,testx.shape[1]))"
   ]
  },
  {
   "cell_type": "code",
   "execution_count": 17,
   "id": "76357759",
   "metadata": {},
   "outputs": [
    {
     "name": "stdout",
     "output_type": "stream",
     "text": [
      "Epoch 1/50\n",
      "7989/7989 - 9s - loss: 0.0725 - accuracy: 1.2517e-04 - 9s/epoch - 1ms/step\n",
      "Epoch 2/50\n",
      "7989/7989 - 9s - loss: 0.0711 - accuracy: 1.2517e-04 - 9s/epoch - 1ms/step\n",
      "Epoch 3/50\n",
      "7989/7989 - 10s - loss: 0.0706 - accuracy: 1.2517e-04 - 10s/epoch - 1ms/step\n",
      "Epoch 4/50\n",
      "7989/7989 - 9s - loss: 0.0703 - accuracy: 1.2517e-04 - 9s/epoch - 1ms/step\n",
      "Epoch 5/50\n",
      "7989/7989 - 9s - loss: 0.0699 - accuracy: 1.2517e-04 - 9s/epoch - 1ms/step\n",
      "Epoch 6/50\n",
      "7989/7989 - 9s - loss: 0.0699 - accuracy: 1.2517e-04 - 9s/epoch - 1ms/step\n",
      "Epoch 7/50\n",
      "7989/7989 - 9s - loss: 0.0697 - accuracy: 1.2517e-04 - 9s/epoch - 1ms/step\n",
      "Epoch 8/50\n",
      "7989/7989 - 9s - loss: 0.0695 - accuracy: 1.2517e-04 - 9s/epoch - 1ms/step\n",
      "Epoch 9/50\n",
      "7989/7989 - 9s - loss: 0.0694 - accuracy: 1.2517e-04 - 9s/epoch - 1ms/step\n",
      "Epoch 10/50\n",
      "7989/7989 - 9s - loss: 0.0690 - accuracy: 1.2517e-04 - 9s/epoch - 1ms/step\n",
      "Epoch 11/50\n",
      "7989/7989 - 9s - loss: 0.0691 - accuracy: 1.2517e-04 - 9s/epoch - 1ms/step\n",
      "Epoch 12/50\n",
      "7989/7989 - 9s - loss: 0.0691 - accuracy: 1.2517e-04 - 9s/epoch - 1ms/step\n",
      "Epoch 13/50\n",
      "7989/7989 - 9s - loss: 0.0690 - accuracy: 1.2517e-04 - 9s/epoch - 1ms/step\n",
      "Epoch 14/50\n",
      "7989/7989 - 9s - loss: 0.0690 - accuracy: 1.2517e-04 - 9s/epoch - 1ms/step\n",
      "Epoch 15/50\n",
      "7989/7989 - 10s - loss: 0.0688 - accuracy: 1.2517e-04 - 10s/epoch - 1ms/step\n",
      "Epoch 16/50\n",
      "7989/7989 - 9s - loss: 0.0685 - accuracy: 1.2517e-04 - 9s/epoch - 1ms/step\n",
      "Epoch 17/50\n",
      "7989/7989 - 9s - loss: 0.0685 - accuracy: 1.2517e-04 - 9s/epoch - 1ms/step\n",
      "Epoch 18/50\n",
      "7989/7989 - 9s - loss: 0.0684 - accuracy: 1.2517e-04 - 9s/epoch - 1ms/step\n",
      "Epoch 19/50\n",
      "7989/7989 - 9s - loss: 0.0683 - accuracy: 1.2517e-04 - 9s/epoch - 1ms/step\n",
      "Epoch 20/50\n",
      "7989/7989 - 9s - loss: 0.0682 - accuracy: 1.2517e-04 - 9s/epoch - 1ms/step\n",
      "Epoch 21/50\n",
      "7989/7989 - 9s - loss: 0.0682 - accuracy: 1.2517e-04 - 9s/epoch - 1ms/step\n",
      "Epoch 22/50\n",
      "7989/7989 - 9s - loss: 0.0680 - accuracy: 1.2517e-04 - 9s/epoch - 1ms/step\n",
      "Epoch 23/50\n",
      "7989/7989 - 9s - loss: 0.0679 - accuracy: 1.2517e-04 - 9s/epoch - 1ms/step\n",
      "Epoch 24/50\n",
      "7989/7989 - 9s - loss: 0.0680 - accuracy: 1.2517e-04 - 9s/epoch - 1ms/step\n",
      "Epoch 25/50\n",
      "7989/7989 - 9s - loss: 0.0679 - accuracy: 1.2517e-04 - 9s/epoch - 1ms/step\n",
      "Epoch 26/50\n",
      "7989/7989 - 9s - loss: 0.0678 - accuracy: 1.2517e-04 - 9s/epoch - 1ms/step\n",
      "Epoch 27/50\n",
      "7989/7989 - 9s - loss: 0.0678 - accuracy: 1.2517e-04 - 9s/epoch - 1ms/step\n",
      "Epoch 28/50\n",
      "7989/7989 - 9s - loss: 0.0677 - accuracy: 1.2517e-04 - 9s/epoch - 1ms/step\n",
      "Epoch 29/50\n",
      "7989/7989 - 9s - loss: 0.0675 - accuracy: 1.2517e-04 - 9s/epoch - 1ms/step\n",
      "Epoch 30/50\n",
      "7989/7989 - 10s - loss: 0.0674 - accuracy: 1.2517e-04 - 10s/epoch - 1ms/step\n",
      "Epoch 31/50\n",
      "7989/7989 - 9s - loss: 0.0674 - accuracy: 1.2517e-04 - 9s/epoch - 1ms/step\n",
      "Epoch 32/50\n",
      "7989/7989 - 9s - loss: 0.0674 - accuracy: 1.2517e-04 - 9s/epoch - 1ms/step\n",
      "Epoch 33/50\n",
      "7989/7989 - 9s - loss: 0.0673 - accuracy: 1.2517e-04 - 9s/epoch - 1ms/step\n",
      "Epoch 34/50\n",
      "7989/7989 - 9s - loss: 0.0672 - accuracy: 1.2517e-04 - 9s/epoch - 1ms/step\n",
      "Epoch 35/50\n",
      "7989/7989 - 9s - loss: 0.0672 - accuracy: 1.2517e-04 - 9s/epoch - 1ms/step\n",
      "Epoch 36/50\n",
      "7989/7989 - 9s - loss: 0.0670 - accuracy: 1.2517e-04 - 9s/epoch - 1ms/step\n",
      "Epoch 37/50\n",
      "7989/7989 - 9s - loss: 0.0671 - accuracy: 1.2517e-04 - 9s/epoch - 1ms/step\n",
      "Epoch 38/50\n",
      "7989/7989 - 9s - loss: 0.0669 - accuracy: 1.2517e-04 - 9s/epoch - 1ms/step\n",
      "Epoch 39/50\n",
      "7989/7989 - 9s - loss: 0.0670 - accuracy: 1.2517e-04 - 9s/epoch - 1ms/step\n",
      "Epoch 40/50\n",
      "7989/7989 - 9s - loss: 0.0669 - accuracy: 1.2517e-04 - 9s/epoch - 1ms/step\n",
      "Epoch 41/50\n",
      "7989/7989 - 9s - loss: 0.0670 - accuracy: 1.2517e-04 - 9s/epoch - 1ms/step\n",
      "Epoch 42/50\n",
      "7989/7989 - 9s - loss: 0.0669 - accuracy: 1.2517e-04 - 9s/epoch - 1ms/step\n",
      "Epoch 43/50\n",
      "7989/7989 - 10s - loss: 0.0668 - accuracy: 1.2517e-04 - 10s/epoch - 1ms/step\n",
      "Epoch 44/50\n",
      "7989/7989 - 11s - loss: 0.0668 - accuracy: 1.2517e-04 - 11s/epoch - 1ms/step\n",
      "Epoch 45/50\n",
      "7989/7989 - 10s - loss: 0.0667 - accuracy: 1.2517e-04 - 10s/epoch - 1ms/step\n",
      "Epoch 46/50\n",
      "7989/7989 - 10s - loss: 0.0666 - accuracy: 1.2517e-04 - 10s/epoch - 1ms/step\n",
      "Epoch 47/50\n",
      "7989/7989 - 10s - loss: 0.0667 - accuracy: 1.2517e-04 - 10s/epoch - 1ms/step\n",
      "Epoch 48/50\n",
      "7989/7989 - 9s - loss: 0.0666 - accuracy: 1.2517e-04 - 9s/epoch - 1ms/step\n",
      "Epoch 49/50\n",
      "7989/7989 - 10s - loss: 0.0665 - accuracy: 1.2517e-04 - 10s/epoch - 1ms/step\n",
      "Epoch 50/50\n",
      "7989/7989 - 9s - loss: 0.0665 - accuracy: 1.2517e-04 - 9s/epoch - 1ms/step\n"
     ]
    },
    {
     "data": {
      "text/plain": [
       "<keras.src.callbacks.History at 0x24958262190>"
      ]
     },
     "execution_count": 17,
     "metadata": {},
     "output_type": "execute_result"
    }
   ],
   "source": [
    "from keras.models import Sequential\n",
    "from keras.layers import Dense\n",
    "from keras.layers import LSTM\n",
    "from sklearn.metrics import mean_squared_error\n",
    "\n",
    "#define the model\n",
    "model=Sequential()\n",
    "model.add(LSTM(50,input_shape=(1,timestamp),activation='relu'))\n",
    "model.add(Dense(1))\n",
    "#model compile\n",
    "model.compile(optimizer='adam',loss='mean_squared_error',metrics=['accuracy'])\n",
    "#run the model\n",
    "model.fit(trainx,trainy,epochs=50,batch_size=1,verbose=2)\n"
   ]
  },
  {
   "cell_type": "code",
   "execution_count": 18,
   "id": "94010a0e",
   "metadata": {},
   "outputs": [
    {
     "name": "stdout",
     "output_type": "stream",
     "text": [
      "250/250 [==============================] - 0s 874us/step\n",
      "63/63 [==============================] - 0s 887us/step\n"
     ]
    },
    {
     "data": {
      "text/plain": [
       "array([[0.28351736],\n",
       "       [0.26886564],\n",
       "       [0.24922475],\n",
       "       [0.2262226 ],\n",
       "       [0.2500161 ]], dtype=float32)"
      ]
     },
     "execution_count": 18,
     "metadata": {},
     "output_type": "execute_result"
    }
   ],
   "source": [
    "\n",
    "#make predictions\n",
    "trainPredict=model.predict(trainx)\n",
    "testPredict=model.predict(testx)\n",
    "trainPredict[:5]"
   ]
  },
  {
   "cell_type": "code",
   "execution_count": 19,
   "id": "a0653dd4",
   "metadata": {},
   "outputs": [
    {
     "data": {
      "text/plain": [
       "array([[2834.8901],\n",
       "       [2688.3875],\n",
       "       [2491.9983],\n",
       "       [2261.9998],\n",
       "       [2499.911 ]], dtype=float32)"
      ]
     },
     "execution_count": 19,
     "metadata": {},
     "output_type": "execute_result"
    }
   ],
   "source": [
    "#Inverse the scalled form of data\n",
    "trainPredict=scaler.inverse_transform(trainPredict)\n",
    "trainPredict[:5]"
   ]
  },
  {
   "cell_type": "code",
   "execution_count": 20,
   "id": "329e5d97",
   "metadata": {},
   "outputs": [],
   "source": [
    "trainy=scaler.inverse_transform([trainy])\n",
    "testPredict=scaler.inverse_transform(testPredict)\n",
    "testy=scaler.inverse_transform([testy])\n"
   ]
  },
  {
   "cell_type": "code",
   "execution_count": 21,
   "id": "3f20abb9",
   "metadata": {},
   "outputs": [
    {
     "name": "stdout",
     "output_type": "stream",
     "text": [
      "Train Score-RMSE:\t 2555.193111654493\n",
      "Test Score-RMSE:\t 2781.375521238244\n"
     ]
    }
   ],
   "source": [
    "import math\n",
    "trainScore=np.sqrt(mean_squared_error(trainy[0],trainPredict[:,0]))\n",
    "print('Train Score-RMSE:\\t',trainScore)\n",
    "testScore=math.sqrt(mean_squared_error(testy[0],testPredict[:,0]))\n",
    "print('Test Score-RMSE:\\t',testScore)\n"
   ]
  },
  {
   "cell_type": "code",
   "execution_count": 26,
   "id": "eabc1a71",
   "metadata": {},
   "outputs": [
    {
     "data": {
      "image/png": "[encoded data removed]",
      "text/plain": [
       "<Figure size 640x480 with 1 Axes>"
      ]
     },
     "metadata": {},
     "output_type": "display_data"
    }
   ],
   "source": [
    "plt.plot(scaler.inverse_transform(df))\n",
    "plt.plot(trainPredict, label='Train Predictions')\n",
    "plt.plot(testPredict, label='Test Predictions')\n",
    "plt.xlabel('Time')\n",
    "plt.ylabel('Failure Type')\n",
    "plt.title('Equipment Failures Prediction')\n",
    "plt.legend()\n",
    "plt.show()"
   ]
  },
  {
   "cell_type": "code",
   "execution_count": 33,
   "id": "cb34c3ca",
   "metadata": {},
   "outputs": [
    {
     "data": {
      "image/png": "[encoded data removed]",
      "text/plain": [
       "<Figure size 640x480 with 1 Axes>"
      ]
     },
     "metadata": {},
     "output_type": "display_data"
    }
   ],
   "source": [
    "trainPredictPlot=np.empty_like(df)\n",
    "trainPredictPlot[:,:]=np.nan\n",
    "trainPredictPlot[timestamp:len(trainPredict)+timestamp,:]=trainPredict\n",
    "testPredictPlot=np.empty_like(df)\n",
    "testPredictPlot[:,:]=np.nan\n",
    "testPredictPlot[len(trainPredict)+(timestamp*2)+1:len(df)-1,:]=testPredict\n",
    "\n",
    "\n",
    "#plot baseline and predictions\n",
    "plt.plot(scaler.inverse_transform(df))\n",
    "plt.plot(trainPredictPlot, label='Train Predictions')\n",
    "plt.plot(testPredictPlot, label='Test Predictions')\n",
    "plt.xlabel('Time')\n",
    "plt.ylabel('Failure Type')\n",
    "plt.title('Equipment Failures Prediction')\n",
    "plt.show()"
   ]
  },
  {
   "cell_type": "code",
   "execution_count": null,
   "id": "00c49ee2",
   "metadata": {},
   "outputs": [],
   "source": []
  }
 ],
 "metadata": {
  "kernelspec": {
   "display_name": "Python 3 (ipykernel)",
   "language": "python",
   "name": "python3"
  },
  "language_info": {
   "codemirror_mode": {
    "name": "ipython",
    "version": 3
   },
   "file_extension": ".py",
   "mimetype": "text/x-python",
   "name": "python",
   "nbconvert_exporter": "python",
   "pygments_lexer": "ipython3",
   "version": "3.11.4"
  }
 },
 "nbformat": 4,
 "nbformat_minor": 5
}
