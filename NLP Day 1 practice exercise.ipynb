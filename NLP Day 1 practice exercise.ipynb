{
 "cells": [
  {
   "cell_type": "markdown",
   "id": "78ef848b",
   "metadata": {},
   "source": [
    "# 1. What is the purpose of text preprocessing in NLP, and why is it essential before analysis?"
   ]
  },
  {
   "cell_type": "markdown",
   "id": "0a23a2ef",
   "metadata": {},
   "source": [
    "Text preprocessing in NLP is essential to clean and prepare raw text data for analysis. It involves tasks like removing noise, tokenization, lowercasing, stemming/lemmatization, and handling stop words. This process improves model performance, reduces dimensionality, and enhances interpretability by highlighting relevant patterns and features in the text data."
   ]
  },
  {
   "cell_type": "markdown",
   "id": "b06d687f",
   "metadata": {},
   "source": [
    "# 2. Describe tokenization in NLP and explain its significance in text processing.\n",
    "\n",
    "Tokenization is the process of breaking down a text into individual units, such as words or phrases (tokens)."
   ]
  },
  {
   "cell_type": "code",
   "execution_count": 25,
   "id": "2804a5b9",
   "metadata": {},
   "outputs": [
    {
     "name": "stdout",
     "output_type": "stream",
     "text": [
      "=============================================================================================================================\n",
      "Original Text:\n",
      "\n",
      "\t This is Day one NLP.\n",
      "=============================================================================================================================\n",
      "\n",
      "After Tokenization\n",
      "\n",
      "\t ['This', 'is', 'Day', 'one', 'NLP', '.']\n"
     ]
    }
   ],
   "source": [
    "from nltk.tokenize import word_tokenize\n",
    "text = \"This is Day one NLP.\"\n",
    "print(\"=\"*125)\n",
    "print(\"Original Text:\\n\\n\\t\",text)\n",
    "tokens = word_tokenize(text)\n",
    "print(\"=\"*125)\n",
    "print(\"\\nAfter Tokenization\\n\\n\\t\",tokens)"
   ]
  },
  {
   "cell_type": "markdown",
   "id": "ab8cca87",
   "metadata": {},
   "source": [
    "# 3. What are the differences between stemming and lemmatization in NLP? When would you choose one over the other?\n",
    "\n",
    "Differences:\n",
    "    \n",
    "    Stemming reduces words to their base form by removing prefixes or suffixes.\n",
    "    Lemmatization considers the context and converts words to their dictionary form.\n",
    "\n",
    "    Use stemming for faster processing and in applications where a crude approximation of the root is acceptable.\n",
    "    Use lemmatization for applications requiring the accurate base or dictionary form of words."
   ]
  },
  {
   "cell_type": "code",
   "execution_count": 26,
   "id": "34fcf62e",
   "metadata": {},
   "outputs": [
    {
     "name": "stdout",
     "output_type": "stream",
     "text": [
      "=============================================================================================================================\n",
      "\n",
      "Stemmed:\n",
      "\n",
      "\t this is day one nlp.\n",
      "=============================================================================================================================\n",
      "\n",
      "Lemmatized:\n",
      "\n",
      "\t This is Day one NLP.\n"
     ]
    }
   ],
   "source": [
    "from nltk.stem import PorterStemmer, WordNetLemmatizer\n",
    "stemmer = PorterStemmer()\n",
    "lemmatizer = WordNetLemmatizer()\n",
    "t = \"This is Day one NLP.\"\n",
    "stemmed_word = stemmer.stem(t)\n",
    "lemmatized_word = lemmatizer.lemmatize(t, pos='v')\n",
    "print(\"=\"*125)\n",
    "print(\"\\nStemmed:\\n\\n\\t\", stemmed_word)\n",
    "print(\"=\"*125)\n",
    "print(\"\\nLemmatized:\\n\\n\\t\", lemmatized_word)\n"
   ]
  },
  {
   "cell_type": "markdown",
   "id": "15a906e1",
   "metadata": {},
   "source": [
    "# 4. Explain the concept of stop words and their role in text preprocessing. How do they impact NLP tasks?\n",
    "\n",
    "        ->Stop words are common words (e.g., \"and,\" \"the,\" \"is\") that are often removed during text preprocessing.\n",
    "        \n",
    "        ->They don't contribute significantly to the meaning, and their removal helps focus on meaningful content."
   ]
  },
  {
   "cell_type": "code",
   "execution_count": 27,
   "id": "d399bcd5",
   "metadata": {},
   "outputs": [
    {
     "name": "stdout",
     "output_type": "stream",
     "text": [
      "=============================================================================================================================\n",
      "Original Text:\n",
      "\n",
      "\t This is Day one NLP.\n",
      "=============================================================================================================================\n",
      "Filtered Text:\n",
      "\n",
      "\t ['Day', 'one', 'NLP', '.']\n"
     ]
    }
   ],
   "source": [
    "from nltk.corpus import stopwords\n",
    "stop_words = set(stopwords.words('english'))\n",
    "filtered_text = [word for word in word_tokenize(text) if word.lower() not in stop_words]\n",
    "print(\"=\"*125)\n",
    "print(\"Original Text:\\n\\n\\t\",text)\n",
    "print(\"=\"*125)\n",
    "print(\"Filtered Text:\\n\\n\\t\",filtered_text)\n",
    "\n"
   ]
  },
  {
   "cell_type": "markdown",
   "id": "f8cd762d",
   "metadata": {},
   "source": [
    "# 5. How does the process of removing punctuation contribute to text preprocessing in NLP? What are its benefits?\n",
    "\n",
    "        Removing punctuation helps in focusing on the actual words and their meanings.\n",
    "        \n",
    "        Benefits: Enhances the efficiency of text analysis and prevents the model from treating words with punctuation as\n",
    "                  different entities."
   ]
  },
  {
   "cell_type": "code",
   "execution_count": 28,
   "id": "3dd3252d",
   "metadata": {},
   "outputs": [
    {
     "name": "stdout",
     "output_type": "stream",
     "text": [
      "=============================================================================================================================\n",
      "Original Text:\n",
      "\n",
      "\t This is Day one NLP.\n",
      "=============================================================================================================================\n",
      "After Punctuation:\n",
      "\n",
      "\t This is Day one NLP\n"
     ]
    }
   ],
   "source": [
    "import string\n",
    "text_no_punct = text.translate(str.maketrans(\"\", \"\", string.punctuation))\n",
    "print(\"=\"*125)\n",
    "print(\"Original Text:\\n\\n\\t\",text)\n",
    "print(\"=\"*125)\n",
    "print(\"After Punctuation:\\n\\n\\t\",text_no_punct)\n"
   ]
  },
  {
   "cell_type": "markdown",
   "id": "edbe8232",
   "metadata": {},
   "source": [
    "# 6. Discuss the importance of lowercase conversion in text preprocessing. Why is it a common step in NLP tasks?\n",
    "        \n",
    "        Importance: Ensures uniformity and consistency in the representation of words, preventing the model from treating \n",
    "                    differently cased words as distinct."
   ]
  },
  {
   "cell_type": "code",
   "execution_count": 29,
   "id": "f42d116c",
   "metadata": {},
   "outputs": [
    {
     "name": "stdout",
     "output_type": "stream",
     "text": [
      "=============================================================================================================================\n",
      "Original Text:\n",
      "\n",
      "\t This is Day one NLP.\n",
      "=============================================================================================================================\n",
      "After lower:\n",
      "\n",
      "\t this is day one nlp.\n"
     ]
    }
   ],
   "source": [
    "text_lower = text.lower()\n",
    "print(\"=\"*125)\n",
    "print(\"Original Text:\\n\\n\\t\",text)\n",
    "print(\"=\"*125)\n",
    "print(\"After lower:\\n\\n\\t\",text_lower)\n"
   ]
  },
  {
   "cell_type": "markdown",
   "id": "14c3bc16",
   "metadata": {},
   "source": [
    "# 7. Explain the term \"vectorization\" concerning text data. How does techniques like CountVectorizer contribute to text preprocessing in NLP?\n",
    "\n",
    "    Vectorization is the process of converting text data into numerical vectors.\n",
    "    \n",
    "    Techniques like CountVectorizer convert text into a matrix of token counts, making it suitable for machine \n",
    "    learning models."
   ]
  },
  {
   "cell_type": "code",
   "execution_count": 30,
   "id": "e0904d06",
   "metadata": {},
   "outputs": [
    {
     "name": "stdout",
     "output_type": "stream",
     "text": [
      "=============================================================================================================================\n",
      "Original Text:\n",
      "\n",
      "\t This is Day one NLP.\n",
      "=============================================================================================================================\n",
      "After Countvectorizer:\n",
      "\n",
      " [[0 1 0 0 1 1 1]\n",
      " [1 1 1 1 0 0 1]]\n"
     ]
    }
   ],
   "source": [
    "from sklearn.feature_extraction.text import CountVectorizer\n",
    "ex = [\"This is a sample text.\", \"This is Day one NLP.\"]\n",
    "vectorizer = CountVectorizer()\n",
    "X = vectorizer.fit_transform(ex)\n",
    "print(\"=\"*125)\n",
    "print(\"Original Text:\\n\\n\\t\",text)\n",
    "print(\"=\"*125)\n",
    "print(\"After Countvectorizer:\\n\\n\",X.toarray())\n"
   ]
  },
  {
   "cell_type": "markdown",
   "id": "fedb770d",
   "metadata": {},
   "source": [
    "# 8. Describe the concept of normalization in NLP. Provide examples of normalization techniques used in text preprocessing.\n",
    "\n",
    "        Normalization involves transforming text to a standard or normalized form.\n"
   ]
  },
  {
   "cell_type": "code",
   "execution_count": 31,
   "id": "37c6b975",
   "metadata": {},
   "outputs": [
    {
     "name": "stdout",
     "output_type": "stream",
     "text": [
      "=============================================================================================================================\n",
      "Original Text:\n",
      "\n",
      "\t This is Day one NLP.\n",
      "=============================================================================================================================\n",
      "After Normalization:\n",
      "\n",
      "\t this is day one nlp.\n",
      "=============================================================================================================================\n",
      "Text Numbers:\n",
      "\n",
      "\t This is Day one NLP.\n"
     ]
    }
   ],
   "source": [
    "text_normalized = text.lower()\n",
    "text_no_numbers = ''.join([word for word in text if not word.isdigit()])\n",
    "print(\"=\"*125)\n",
    "print(\"Original Text:\\n\\n\\t\",text)\n",
    "print(\"=\"*125)\n",
    "print(\"After Normalization:\\n\\n\\t\",text_normalized)\n",
    "print(\"=\"*125)\n",
    "print(\"Text Numbers:\\n\\n\\t\",text_no_numbers)"
   ]
  },
  {
   "cell_type": "code",
   "execution_count": null,
   "id": "07b00657",
   "metadata": {},
   "outputs": [],
   "source": []
  }
 ],
 "metadata": {
  "kernelspec": {
   "display_name": "Python 3 (ipykernel)",
   "language": "python",
   "name": "python3"
  },
  "language_info": {
   "codemirror_mode": {
    "name": "ipython",
    "version": 3
   },
   "file_extension": ".py",
   "mimetype": "text/x-python",
   "name": "python",
   "nbconvert_exporter": "python",
   "pygments_lexer": "ipython3",
   "version": "3.11.4"
  }
 },
 "nbformat": 4,
 "nbformat_minor": 5
}
