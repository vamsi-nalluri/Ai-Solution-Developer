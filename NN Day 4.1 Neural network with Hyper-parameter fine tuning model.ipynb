{
 "cells": [
  {
   "cell_type": "markdown",
   "id": "8ef43efb",
   "metadata": {},
   "source": [
    "# Neural network with Hyper-parameter fine tuning model"
   ]
  },
  {
   "cell_type": "code",
   "execution_count": 31,
   "id": "d7474171",
   "metadata": {},
   "outputs": [],
   "source": [
    "import numpy as np\n",
    "from tensorflow import keras\n",
    "from tensorflow.keras.utils import to_categorical\n",
    "from tensorflow.keras.optimizers import Adam\n",
    "from tensorflow.keras import layers\n",
    "from tensorflow.keras.datasets import fashion_mnist\n",
    "from keras_tuner import RandomSearch\n"
   ]
  },
  {
   "cell_type": "code",
   "execution_count": 32,
   "id": "298728e2",
   "metadata": {},
   "outputs": [],
   "source": [
    "Trails = 3  # Number of models to train\n",
    "epochs = 2  # Number of epochs per model\n"
   ]
  },
  {
   "cell_type": "markdown",
   "id": "548b3908",
   "metadata": {},
   "source": [
    "# Get the Fashion MNIST dataset\n"
   ]
  },
  {
   "cell_type": "code",
   "execution_count": 33,
   "id": "7782ec5c",
   "metadata": {},
   "outputs": [],
   "source": [
    "# Load Fashion MNIST dataset\n",
    "(x_train, y_train), (x_val, y_val) = fashion_mnist.load_data()\n",
    "x_train = np.expand_dims(x_train.astype('float32') / 255., -1)\n",
    "x_val = np.expand_dims(x_val.astype('float32') / 255., -1)\n",
    "y_train = to_categorical(y_train, 10)\n",
    "y_val = to_categorical(y_val, 10)\n"
   ]
  },
  {
   "cell_type": "code",
   "execution_count": 34,
   "id": "fdb0f95e",
   "metadata": {},
   "outputs": [],
   "source": [
    "def build_model_fashion_mnist(hp):\n",
    "    \"\"\"\n",
    "    Function to build a TF model based on hyperparameter values for Fashion MNIST dataset\n",
    "    Args:\n",
    "        hp (hyperparameter): values\n",
    "\n",
    "    Returns:\n",
    "        Model : compiled model\n",
    "    \"\"\"\n",
    "    num_layers = hp.Int('num_layers', 2, 8, default=6)\n",
    "    lr = hp.Choice('learning_rate', [0.0001, 0.05])\n",
    "    inputs = layers.Input(shape=(28, 28, 1))\n",
    "    x = inputs\n",
    "    for idx in range(num_layers):\n",
    "        idx = str(idx)\n",
    "\n",
    "        filters = hp.Int('filters_' + idx, 32, 256, step=32, default=64)\n",
    "        x = layers.Conv2D(filters=filters, kernel_size=3, padding='same', activation='relu')(x)\n",
    "\n",
    "        if x.shape[1] >= 8:\n",
    "            pool_type = hp.Choice('pool_' + idx, values=['max', 'avg'])\n",
    "            if pool_type == 'max':\n",
    "                x = layers.MaxPooling2D(2)(x)\n",
    "            elif pool_type == 'avg':\n",
    "                x = layers.AveragePooling2D(2)(x)\n",
    "\n",
    "    x = layers.Flatten()(x)\n",
    "    outputs = layers.Dense(10, activation='softmax')(x)\n",
    "\n",
    "    # Build model\n",
    "    model = keras.Model(inputs, outputs)\n",
    "    model.compile(optimizer=Adam(lr), loss='categorical_crossentropy', metrics=['accuracy'])\n",
    "    return model\n"
   ]
  },
  {
   "cell_type": "code",
   "execution_count": 35,
   "id": "4d90cf93",
   "metadata": {},
   "outputs": [
    {
     "name": "stdout",
     "output_type": "stream",
     "text": [
      "Reloading Tuner from .\\FashionMNIST_results\\tuner0.json\n"
     ]
    }
   ],
   "source": [
    "\n",
    "tuner_fashion_mnist = RandomSearch(build_model_fashion_mnist, objective='val_accuracy', max_trials=Trails,\n",
    "                                    project_name='FashionMNIST_results')\n"
   ]
  },
  {
   "cell_type": "code",
   "execution_count": 36,
   "id": "6a68dac2",
   "metadata": {},
   "outputs": [
    {
     "name": "stdout",
     "output_type": "stream",
     "text": [
      "Search space summary\n",
      "Default search space size: 10\n",
      "num_layers (Int)\n",
      "{'default': 6, 'conditions': [], 'min_value': 2, 'max_value': 8, 'step': 1, 'sampling': 'linear'}\n",
      "learning_rate (Choice)\n",
      "{'default': 0.0001, 'conditions': [], 'values': [0.0001, 0.05], 'ordered': True}\n",
      "filters_0 (Int)\n",
      "{'default': 64, 'conditions': [], 'min_value': 32, 'max_value': 256, 'step': 32, 'sampling': 'linear'}\n",
      "pool_0 (Choice)\n",
      "{'default': 'max', 'conditions': [], 'values': ['max', 'avg'], 'ordered': False}\n",
      "filters_1 (Int)\n",
      "{'default': 64, 'conditions': [], 'min_value': 32, 'max_value': 256, 'step': 32, 'sampling': 'linear'}\n",
      "pool_1 (Choice)\n",
      "{'default': 'max', 'conditions': [], 'values': ['max', 'avg'], 'ordered': False}\n",
      "filters_2 (Int)\n",
      "{'default': 64, 'conditions': [], 'min_value': 32, 'max_value': 256, 'step': 32, 'sampling': 'linear'}\n",
      "filters_3 (Int)\n",
      "{'default': 64, 'conditions': [], 'min_value': 32, 'max_value': 256, 'step': 32, 'sampling': 'linear'}\n",
      "filters_4 (Int)\n",
      "{'default': 64, 'conditions': [], 'min_value': 32, 'max_value': 256, 'step': 32, 'sampling': 'linear'}\n",
      "filters_5 (Int)\n",
      "{'default': 64, 'conditions': [], 'min_value': 32, 'max_value': 256, 'step': 32, 'sampling': 'linear'}\n"
     ]
    }
   ],
   "source": [
    "tuner_fashion_mnist.search_space_summary()"
   ]
  },
  {
   "cell_type": "code",
   "execution_count": 37,
   "id": "c3cb00a4",
   "metadata": {},
   "outputs": [
    {
     "name": "stdout",
     "output_type": "stream",
     "text": [
      "Trial 3 Complete [00h 05m 06s]\n",
      "val_accuracy: 0.7498999834060669\n",
      "\n",
      "Best val_accuracy So Far: 0.7498999834060669\n",
      "Total elapsed time: 00h 35m 12s\n"
     ]
    }
   ],
   "source": [
    "tuner_fashion_mnist.search(x_train, y_train, batch_size=128, epochs=2, validation_data=(x_val, y_val))"
   ]
  },
  {
   "cell_type": "code",
   "execution_count": 38,
   "id": "e6d9fee9",
   "metadata": {},
   "outputs": [
    {
     "name": "stdout",
     "output_type": "stream",
     "text": [
      "Results summary\n",
      "Results in .\\FashionMNIST_results\n",
      "Showing 10 best trials\n",
      "Objective(name=\"val_accuracy\", direction=\"max\")\n",
      "\n",
      "Trial 2 summary\n",
      "Hyperparameters:\n",
      "num_layers: 4\n",
      "learning_rate: 0.05\n",
      "filters_0: 96\n",
      "pool_0: max\n",
      "filters_1: 224\n",
      "pool_1: avg\n",
      "filters_2: 64\n",
      "filters_3: 32\n",
      "filters_4: 32\n",
      "filters_5: 256\n",
      "Score: 0.7498999834060669\n",
      "\n",
      "Trial 0 summary\n",
      "Hyperparameters:\n",
      "num_layers: 6\n",
      "learning_rate: 0.05\n",
      "filters_0: 32\n",
      "pool_0: max\n",
      "filters_1: 256\n",
      "pool_1: max\n",
      "filters_2: 224\n",
      "filters_3: 256\n",
      "filters_4: 256\n",
      "filters_5: 224\n",
      "Score: 0.10000000149011612\n",
      "\n",
      "Trial 1 summary\n",
      "Hyperparameters:\n",
      "num_layers: 6\n",
      "learning_rate: 0.05\n",
      "filters_0: 256\n",
      "pool_0: max\n",
      "filters_1: 128\n",
      "pool_1: max\n",
      "filters_2: 64\n",
      "filters_3: 192\n",
      "filters_4: 192\n",
      "filters_5: 96\n",
      "Score: 0.10000000149011612\n"
     ]
    }
   ],
   "source": [
    "tuner_fashion_mnist.results_summary()"
   ]
  },
  {
   "cell_type": "code",
   "execution_count": 41,
   "id": "9d461ed6",
   "metadata": {},
   "outputs": [
    {
     "name": "stdout",
     "output_type": "stream",
     "text": [
      "WARNING:tensorflow:Detecting that an object or model or tf.train.Checkpoint is being deleted with unrestored values. See the following logs for the specific values in question. To silence these warnings, use `status.expect_partial()`. See https://www.tensorflow.org/api_docs/python/tf/train/Checkpoint#restorefor details about the status object returned by the restore function.\n",
      "WARNING:tensorflow:Value in checkpoint could not be found in the restored object: (root).optimizer._variables.1\n",
      "WARNING:tensorflow:Value in checkpoint could not be found in the restored object: (root).optimizer._variables.2\n",
      "WARNING:tensorflow:Value in checkpoint could not be found in the restored object: (root).optimizer._variables.3\n",
      "WARNING:tensorflow:Value in checkpoint could not be found in the restored object: (root).optimizer._variables.4\n",
      "WARNING:tensorflow:Value in checkpoint could not be found in the restored object: (root).optimizer._variables.5\n",
      "WARNING:tensorflow:Value in checkpoint could not be found in the restored object: (root).optimizer._variables.6\n",
      "WARNING:tensorflow:Value in checkpoint could not be found in the restored object: (root).optimizer._variables.7\n",
      "WARNING:tensorflow:Value in checkpoint could not be found in the restored object: (root).optimizer._variables.8\n",
      "WARNING:tensorflow:Value in checkpoint could not be found in the restored object: (root).optimizer._variables.9\n",
      "WARNING:tensorflow:Value in checkpoint could not be found in the restored object: (root).optimizer._variables.10\n",
      "WARNING:tensorflow:Value in checkpoint could not be found in the restored object: (root).optimizer._variables.11\n",
      "WARNING:tensorflow:Value in checkpoint could not be found in the restored object: (root).optimizer._variables.12\n",
      "WARNING:tensorflow:Value in checkpoint could not be found in the restored object: (root).optimizer._variables.13\n",
      "WARNING:tensorflow:Value in checkpoint could not be found in the restored object: (root).optimizer._variables.14\n",
      "WARNING:tensorflow:Value in checkpoint could not be found in the restored object: (root).optimizer._variables.15\n",
      "WARNING:tensorflow:Value in checkpoint could not be found in the restored object: (root).optimizer._variables.16\n",
      "WARNING:tensorflow:Value in checkpoint could not be found in the restored object: (root).optimizer._variables.17\n",
      "WARNING:tensorflow:Value in checkpoint could not be found in the restored object: (root).optimizer._variables.18\n",
      "WARNING:tensorflow:Value in checkpoint could not be found in the restored object: (root).optimizer._variables.19\n",
      "WARNING:tensorflow:Value in checkpoint could not be found in the restored object: (root).optimizer._variables.20\n",
      "Model: \"model\"\n",
      "_________________________________________________________________\n",
      " Layer (type)                Output Shape              Param #   \n",
      "=================================================================\n",
      " input_1 (InputLayer)        [(None, 28, 28, 1)]       0         \n",
      "                                                                 \n",
      " conv2d (Conv2D)             (None, 28, 28, 96)        960       \n",
      "                                                                 \n",
      " max_pooling2d (MaxPooling2  (None, 14, 14, 96)        0         \n",
      " D)                                                              \n",
      "                                                                 \n",
      " conv2d_1 (Conv2D)           (None, 14, 14, 224)       193760    \n",
      "                                                                 \n",
      " average_pooling2d (Average  (None, 7, 7, 224)         0         \n",
      " Pooling2D)                                                      \n",
      "                                                                 \n",
      " conv2d_2 (Conv2D)           (None, 7, 7, 64)          129088    \n",
      "                                                                 \n",
      " conv2d_3 (Conv2D)           (None, 7, 7, 32)          18464     \n",
      "                                                                 \n",
      " flatten (Flatten)           (None, 1568)              0         \n",
      "                                                                 \n",
      " dense (Dense)               (None, 10)                15690     \n",
      "                                                                 \n",
      "=================================================================\n",
      "Total params: 357962 (1.37 MB)\n",
      "Trainable params: 357962 (1.37 MB)\n",
      "Non-trainable params: 0 (0.00 Byte)\n",
      "_________________________________________________________________\n"
     ]
    }
   ],
   "source": [
    "best_model_fashion_mnist = tuner_fashion_mnist.get_best_models(num_models=1)[0]\n",
    "best_model_fashion_mnist.summary()\n"
   ]
  },
  {
   "cell_type": "code",
   "execution_count": null,
   "id": "781e77f1",
   "metadata": {},
   "outputs": [],
   "source": []
  },
  {
   "cell_type": "code",
   "execution_count": null,
   "id": "94ee23d7",
   "metadata": {},
   "outputs": [],
   "source": []
  }
 ],
 "metadata": {
  "kernelspec": {
   "display_name": "Python 3 (ipykernel)",
   "language": "python",
   "name": "python3"
  },
  "language_info": {
   "codemirror_mode": {
    "name": "ipython",
    "version": 3
   },
   "file_extension": ".py",
   "mimetype": "text/x-python",
   "name": "python",
   "nbconvert_exporter": "python",
   "pygments_lexer": "ipython3",
   "version": "3.11.4"
  }
 },
 "nbformat": 4,
 "nbformat_minor": 5
}
