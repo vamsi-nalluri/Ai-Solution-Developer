{
 "cells": [
  {
   "cell_type": "code",
   "execution_count": 1,
   "id": "2eac681e",
   "metadata": {},
   "outputs": [],
   "source": [
    "import numpy as np\n",
    "import pandas as pd\n",
    "import seaborn as sns\n",
    "import matplotlib.pyplot as plt"
   ]
  },
  {
   "cell_type": "code",
   "execution_count": 2,
   "id": "bef00f2c",
   "metadata": {},
   "outputs": [
    {
     "data": {
      "text/html": [
       "<div>\n",
       "<style scoped>\n",
       "    .dataframe tbody tr th:only-of-type {\n",
       "        vertical-align: middle;\n",
       "    }\n",
       "\n",
       "    .dataframe tbody tr th {\n",
       "        vertical-align: top;\n",
       "    }\n",
       "\n",
       "    .dataframe thead th {\n",
       "        text-align: right;\n",
       "    }\n",
       "</style>\n",
       "<table border=\"1\" class=\"dataframe\">\n",
       "  <thead>\n",
       "    <tr style=\"text-align: right;\">\n",
       "      <th></th>\n",
       "      <th>fixed acidity</th>\n",
       "      <th>volatile acidity</th>\n",
       "      <th>citric acid</th>\n",
       "      <th>residual sugar</th>\n",
       "      <th>chlorides</th>\n",
       "      <th>free sulfur dioxide</th>\n",
       "      <th>total sulfur dioxide</th>\n",
       "      <th>density</th>\n",
       "      <th>pH</th>\n",
       "      <th>sulphates</th>\n",
       "      <th>alcohol</th>\n",
       "      <th>quality</th>\n",
       "    </tr>\n",
       "  </thead>\n",
       "  <tbody>\n",
       "    <tr>\n",
       "      <th>0</th>\n",
       "      <td>7.4</td>\n",
       "      <td>0.70</td>\n",
       "      <td>0.00</td>\n",
       "      <td>1.9</td>\n",
       "      <td>0.076</td>\n",
       "      <td>11.0</td>\n",
       "      <td>34.0</td>\n",
       "      <td>0.9978</td>\n",
       "      <td>3.51</td>\n",
       "      <td>0.56</td>\n",
       "      <td>9.4</td>\n",
       "      <td>5</td>\n",
       "    </tr>\n",
       "    <tr>\n",
       "      <th>1</th>\n",
       "      <td>7.8</td>\n",
       "      <td>0.88</td>\n",
       "      <td>0.00</td>\n",
       "      <td>2.6</td>\n",
       "      <td>0.098</td>\n",
       "      <td>25.0</td>\n",
       "      <td>67.0</td>\n",
       "      <td>0.9968</td>\n",
       "      <td>3.20</td>\n",
       "      <td>0.68</td>\n",
       "      <td>9.8</td>\n",
       "      <td>5</td>\n",
       "    </tr>\n",
       "    <tr>\n",
       "      <th>2</th>\n",
       "      <td>7.8</td>\n",
       "      <td>0.76</td>\n",
       "      <td>0.04</td>\n",
       "      <td>2.3</td>\n",
       "      <td>0.092</td>\n",
       "      <td>15.0</td>\n",
       "      <td>54.0</td>\n",
       "      <td>0.9970</td>\n",
       "      <td>3.26</td>\n",
       "      <td>0.65</td>\n",
       "      <td>9.8</td>\n",
       "      <td>5</td>\n",
       "    </tr>\n",
       "    <tr>\n",
       "      <th>3</th>\n",
       "      <td>11.2</td>\n",
       "      <td>0.28</td>\n",
       "      <td>0.56</td>\n",
       "      <td>1.9</td>\n",
       "      <td>0.075</td>\n",
       "      <td>17.0</td>\n",
       "      <td>60.0</td>\n",
       "      <td>0.9980</td>\n",
       "      <td>3.16</td>\n",
       "      <td>0.58</td>\n",
       "      <td>9.8</td>\n",
       "      <td>6</td>\n",
       "    </tr>\n",
       "    <tr>\n",
       "      <th>4</th>\n",
       "      <td>7.4</td>\n",
       "      <td>0.70</td>\n",
       "      <td>0.00</td>\n",
       "      <td>1.9</td>\n",
       "      <td>0.076</td>\n",
       "      <td>11.0</td>\n",
       "      <td>34.0</td>\n",
       "      <td>0.9978</td>\n",
       "      <td>3.51</td>\n",
       "      <td>0.56</td>\n",
       "      <td>9.4</td>\n",
       "      <td>5</td>\n",
       "    </tr>\n",
       "  </tbody>\n",
       "</table>\n",
       "</div>"
      ],
      "text/plain": [
       "   fixed acidity  volatile acidity  citric acid  residual sugar  chlorides  \\\n",
       "0            7.4              0.70         0.00             1.9      0.076   \n",
       "1            7.8              0.88         0.00             2.6      0.098   \n",
       "2            7.8              0.76         0.04             2.3      0.092   \n",
       "3           11.2              0.28         0.56             1.9      0.075   \n",
       "4            7.4              0.70         0.00             1.9      0.076   \n",
       "\n",
       "   free sulfur dioxide  total sulfur dioxide  density    pH  sulphates  \\\n",
       "0                 11.0                  34.0   0.9978  3.51       0.56   \n",
       "1                 25.0                  67.0   0.9968  3.20       0.68   \n",
       "2                 15.0                  54.0   0.9970  3.26       0.65   \n",
       "3                 17.0                  60.0   0.9980  3.16       0.58   \n",
       "4                 11.0                  34.0   0.9978  3.51       0.56   \n",
       "\n",
       "   alcohol  quality  \n",
       "0      9.4        5  \n",
       "1      9.8        5  \n",
       "2      9.8        5  \n",
       "3      9.8        6  \n",
       "4      9.4        5  "
      ]
     },
     "execution_count": 2,
     "metadata": {},
     "output_type": "execute_result"
    }
   ],
   "source": [
    "data=pd.read_csv('winequality-red.csv')\n",
    "data.head()"
   ]
  },
  {
   "cell_type": "code",
   "execution_count": 5,
   "id": "43c6c148",
   "metadata": {},
   "outputs": [],
   "source": [
    "import warnings\n",
    "warnings.simplefilter(action='ignore',category=FutureWarning)"
   ]
  },
  {
   "cell_type": "code",
   "execution_count": 6,
   "id": "1b065790",
   "metadata": {},
   "outputs": [
    {
     "name": "stderr",
     "output_type": "stream",
     "text": [
      "C:\\Users\\vamsi\\AppData\\Local\\Temp\\ipykernel_10436\\4274185531.py:1: UserWarning: \n",
      "\n",
      "`distplot` is a deprecated function and will be removed in seaborn v0.14.0.\n",
      "\n",
      "Please adapt your code to use either `displot` (a figure-level function with\n",
      "similar flexibility) or `histplot` (an axes-level function for histograms).\n",
      "\n",
      "For a guide to updating your code to use the new functions, please see\n",
      "https://gist.github.com/mwaskom/de44147ed2974457ad6372750bbe5751\n",
      "\n",
      "  sns.distplot(data['alcohol'])\n"
     ]
    },
    {
     "data": {
      "text/plain": [
       "<Axes: xlabel='alcohol', ylabel='Density'>"
      ]
     },
     "execution_count": 6,
     "metadata": {},
     "output_type": "execute_result"
    },
    {
     "data": {
      "image/png": "[encoded data removed]",
      "text/plain": [
       "<Figure size 640x480 with 1 Axes>"
      ]
     },
     "metadata": {},
     "output_type": "display_data"
    }
   ],
   "source": [
    "sns.distplot(data['alcohol']) "
   ]
  },
  {
   "cell_type": "code",
   "execution_count": 8,
   "id": "8c426a0a",
   "metadata": {},
   "outputs": [
    {
     "data": {
      "text/html": [
       "<div>\n",
       "<style scoped>\n",
       "    .dataframe tbody tr th:only-of-type {\n",
       "        vertical-align: middle;\n",
       "    }\n",
       "\n",
       "    .dataframe tbody tr th {\n",
       "        vertical-align: top;\n",
       "    }\n",
       "\n",
       "    .dataframe thead th {\n",
       "        text-align: right;\n",
       "    }\n",
       "</style>\n",
       "<table border=\"1\" class=\"dataframe\">\n",
       "  <thead>\n",
       "    <tr style=\"text-align: right;\">\n",
       "      <th></th>\n",
       "      <th>fixed acidity</th>\n",
       "      <th>volatile acidity</th>\n",
       "      <th>citric acid</th>\n",
       "      <th>residual sugar</th>\n",
       "      <th>chlorides</th>\n",
       "      <th>free sulfur dioxide</th>\n",
       "      <th>total sulfur dioxide</th>\n",
       "      <th>density</th>\n",
       "      <th>pH</th>\n",
       "      <th>sulphates</th>\n",
       "    </tr>\n",
       "  </thead>\n",
       "  <tbody>\n",
       "    <tr>\n",
       "      <th>0</th>\n",
       "      <td>7.4</td>\n",
       "      <td>0.700</td>\n",
       "      <td>0.00</td>\n",
       "      <td>1.9</td>\n",
       "      <td>0.076</td>\n",
       "      <td>11.0</td>\n",
       "      <td>34.0</td>\n",
       "      <td>0.99780</td>\n",
       "      <td>3.51</td>\n",
       "      <td>0.56</td>\n",
       "    </tr>\n",
       "    <tr>\n",
       "      <th>1</th>\n",
       "      <td>7.8</td>\n",
       "      <td>0.880</td>\n",
       "      <td>0.00</td>\n",
       "      <td>2.6</td>\n",
       "      <td>0.098</td>\n",
       "      <td>25.0</td>\n",
       "      <td>67.0</td>\n",
       "      <td>0.99680</td>\n",
       "      <td>3.20</td>\n",
       "      <td>0.68</td>\n",
       "    </tr>\n",
       "    <tr>\n",
       "      <th>2</th>\n",
       "      <td>7.8</td>\n",
       "      <td>0.760</td>\n",
       "      <td>0.04</td>\n",
       "      <td>2.3</td>\n",
       "      <td>0.092</td>\n",
       "      <td>15.0</td>\n",
       "      <td>54.0</td>\n",
       "      <td>0.99700</td>\n",
       "      <td>3.26</td>\n",
       "      <td>0.65</td>\n",
       "    </tr>\n",
       "    <tr>\n",
       "      <th>3</th>\n",
       "      <td>11.2</td>\n",
       "      <td>0.280</td>\n",
       "      <td>0.56</td>\n",
       "      <td>1.9</td>\n",
       "      <td>0.075</td>\n",
       "      <td>17.0</td>\n",
       "      <td>60.0</td>\n",
       "      <td>0.99800</td>\n",
       "      <td>3.16</td>\n",
       "      <td>0.58</td>\n",
       "    </tr>\n",
       "    <tr>\n",
       "      <th>4</th>\n",
       "      <td>7.4</td>\n",
       "      <td>0.700</td>\n",
       "      <td>0.00</td>\n",
       "      <td>1.9</td>\n",
       "      <td>0.076</td>\n",
       "      <td>11.0</td>\n",
       "      <td>34.0</td>\n",
       "      <td>0.99780</td>\n",
       "      <td>3.51</td>\n",
       "      <td>0.56</td>\n",
       "    </tr>\n",
       "    <tr>\n",
       "      <th>...</th>\n",
       "      <td>...</td>\n",
       "      <td>...</td>\n",
       "      <td>...</td>\n",
       "      <td>...</td>\n",
       "      <td>...</td>\n",
       "      <td>...</td>\n",
       "      <td>...</td>\n",
       "      <td>...</td>\n",
       "      <td>...</td>\n",
       "      <td>...</td>\n",
       "    </tr>\n",
       "    <tr>\n",
       "      <th>1594</th>\n",
       "      <td>6.2</td>\n",
       "      <td>0.600</td>\n",
       "      <td>0.08</td>\n",
       "      <td>2.0</td>\n",
       "      <td>0.090</td>\n",
       "      <td>32.0</td>\n",
       "      <td>44.0</td>\n",
       "      <td>0.99490</td>\n",
       "      <td>3.45</td>\n",
       "      <td>0.58</td>\n",
       "    </tr>\n",
       "    <tr>\n",
       "      <th>1595</th>\n",
       "      <td>5.9</td>\n",
       "      <td>0.550</td>\n",
       "      <td>0.10</td>\n",
       "      <td>2.2</td>\n",
       "      <td>0.062</td>\n",
       "      <td>39.0</td>\n",
       "      <td>51.0</td>\n",
       "      <td>0.99512</td>\n",
       "      <td>3.52</td>\n",
       "      <td>0.76</td>\n",
       "    </tr>\n",
       "    <tr>\n",
       "      <th>1596</th>\n",
       "      <td>6.3</td>\n",
       "      <td>0.510</td>\n",
       "      <td>0.13</td>\n",
       "      <td>2.3</td>\n",
       "      <td>0.076</td>\n",
       "      <td>29.0</td>\n",
       "      <td>40.0</td>\n",
       "      <td>0.99574</td>\n",
       "      <td>3.42</td>\n",
       "      <td>0.75</td>\n",
       "    </tr>\n",
       "    <tr>\n",
       "      <th>1597</th>\n",
       "      <td>5.9</td>\n",
       "      <td>0.645</td>\n",
       "      <td>0.12</td>\n",
       "      <td>2.0</td>\n",
       "      <td>0.075</td>\n",
       "      <td>32.0</td>\n",
       "      <td>44.0</td>\n",
       "      <td>0.99547</td>\n",
       "      <td>3.57</td>\n",
       "      <td>0.71</td>\n",
       "    </tr>\n",
       "    <tr>\n",
       "      <th>1598</th>\n",
       "      <td>6.0</td>\n",
       "      <td>0.310</td>\n",
       "      <td>0.47</td>\n",
       "      <td>3.6</td>\n",
       "      <td>0.067</td>\n",
       "      <td>18.0</td>\n",
       "      <td>42.0</td>\n",
       "      <td>0.99549</td>\n",
       "      <td>3.39</td>\n",
       "      <td>0.66</td>\n",
       "    </tr>\n",
       "  </tbody>\n",
       "</table>\n",
       "<p>1599 rows × 10 columns</p>\n",
       "</div>"
      ],
      "text/plain": [
       "      fixed acidity  volatile acidity  citric acid  residual sugar  chlorides  \\\n",
       "0               7.4             0.700         0.00             1.9      0.076   \n",
       "1               7.8             0.880         0.00             2.6      0.098   \n",
       "2               7.8             0.760         0.04             2.3      0.092   \n",
       "3              11.2             0.280         0.56             1.9      0.075   \n",
       "4               7.4             0.700         0.00             1.9      0.076   \n",
       "...             ...               ...          ...             ...        ...   \n",
       "1594            6.2             0.600         0.08             2.0      0.090   \n",
       "1595            5.9             0.550         0.10             2.2      0.062   \n",
       "1596            6.3             0.510         0.13             2.3      0.076   \n",
       "1597            5.9             0.645         0.12             2.0      0.075   \n",
       "1598            6.0             0.310         0.47             3.6      0.067   \n",
       "\n",
       "      free sulfur dioxide  total sulfur dioxide  density    pH  sulphates  \n",
       "0                    11.0                  34.0  0.99780  3.51       0.56  \n",
       "1                    25.0                  67.0  0.99680  3.20       0.68  \n",
       "2                    15.0                  54.0  0.99700  3.26       0.65  \n",
       "3                    17.0                  60.0  0.99800  3.16       0.58  \n",
       "4                    11.0                  34.0  0.99780  3.51       0.56  \n",
       "...                   ...                   ...      ...   ...        ...  \n",
       "1594                 32.0                  44.0  0.99490  3.45       0.58  \n",
       "1595                 39.0                  51.0  0.99512  3.52       0.76  \n",
       "1596                 29.0                  40.0  0.99574  3.42       0.75  \n",
       "1597                 32.0                  44.0  0.99547  3.57       0.71  \n",
       "1598                 18.0                  42.0  0.99549  3.39       0.66  \n",
       "\n",
       "[1599 rows x 10 columns]"
      ]
     },
     "execution_count": 8,
     "metadata": {},
     "output_type": "execute_result"
    }
   ],
   "source": [
    "x=data.iloc[:,:-2]\n",
    "x"
   ]
  },
  {
   "cell_type": "code",
   "execution_count": 10,
   "id": "a4d73afb",
   "metadata": {},
   "outputs": [
    {
     "data": {
      "text/plain": [
       "0        9.4\n",
       "1        9.8\n",
       "2        9.8\n",
       "3        9.8\n",
       "4        9.4\n",
       "        ... \n",
       "1594    10.5\n",
       "1595    11.2\n",
       "1596    11.0\n",
       "1597    10.2\n",
       "1598    11.0\n",
       "Name: alcohol, Length: 1599, dtype: float64"
      ]
     },
     "execution_count": 10,
     "metadata": {},
     "output_type": "execute_result"
    }
   ],
   "source": [
    "y=data.alcohol\n",
    "y"
   ]
  },
  {
   "cell_type": "code",
   "execution_count": 13,
   "id": "502e0084",
   "metadata": {},
   "outputs": [
    {
     "name": "stdout",
     "output_type": "stream",
     "text": [
      "\n",
      "*****Training Data Shape\" *******\n",
      "\n",
      "\n",
      "Training data-X- Shape:\t (1199, 10)\n",
      "\n",
      "Training data-y- Shape:\t (1199,)\n",
      "\n",
      "***************Testing Data Shape***************\n",
      "\n",
      "\n",
      "Testing data (x-Input) Shape:\t (400, 10)\n",
      "\n",
      "Testing data (y-Outcome) Shape:\t (400,)\n"
     ]
    }
   ],
   "source": [
    "from sklearn.model_selection import train_test_split\n",
    "xtrain,xtest,ytrain,ytest=train_test_split(x,y,test_size=0.25,random_state=6)\n",
    "print('\\n*****Training Data Shape\" *******\\n')\n",
    "print(\"\\nTraining data-X- Shape:\\t\",xtrain.shape)\n",
    "print(\"\\nTraining data-y- Shape:\\t\",ytrain. shape)\n",
    "print('\\n***************Testing Data Shape***************\\n')\n",
    "print('\\nTesting data (x-Input) Shape:\\t',xtest.shape)\n",
    "print('\\nTesting data (y-Outcome) Shape:\\t',ytest.shape)"
   ]
  },
  {
   "cell_type": "markdown",
   "id": "911c59bd",
   "metadata": {},
   "source": [
    "# Base Model"
   ]
  },
  {
   "cell_type": "markdown",
   "id": "1611efc5",
   "metadata": {},
   "source": [
    "# Linear Regression Model"
   ]
  },
  {
   "cell_type": "code",
   "execution_count": 30,
   "id": "c7821a04",
   "metadata": {},
   "outputs": [
    {
     "name": "stdout",
     "output_type": "stream",
     "text": [
      "\n",
      "*****Linear Regression Model\" *******\n",
      "\n",
      "\n",
      "Hyperparameter :\n",
      "\n",
      " {'copy_X': True, 'fit_intercept': True, 'n_jobs': None, 'normalize': 'deprecated', 'positive': False}\n",
      "\n",
      "Training Completed\n",
      "\n",
      "Testing Completed\n",
      "\n",
      "*****Performance measure for Linear Regression \" *******\n",
      "\n",
      "****************************************************************************************************\n",
      "\n",
      "Accuracy Score Linear Regression:\t 0.6670903682188694\n",
      "****************************************************************************************************\n",
      "\n",
      "MSE Linear Regression :\t 0.30581585942431827\n",
      "****************************************************************************************************\n",
      "\n",
      "RMSE Linear Regression : \t 0.5530062019763596\n"
     ]
    }
   ],
   "source": [
    "from sklearn.linear_model import LinearRegression \n",
    "lin_reg=LinearRegression()\n",
    "print('\\n*****Linear Regression Model\" *******\\n')\n",
    "lin_reg.fit(xtrain,ytrain)\n",
    "print('\\nHyperparameter :\\n\\n',lin_reg.get_params())\n",
    "print('\\nTraining Completed')\n",
    "ypred_lin_reg=lin_reg.predict(xtest)\n",
    "print('\\nTesting Completed')\n",
    "print('\\n*****Performance measure for Linear Regression \" *******\\n')\n",
    "from sklearn.metrics import r2_score,mean_squared_error\n",
    "print(\"*\"*100)\n",
    "Accuracy_lin_reg=r2_score(ytest,ypred_lin_reg)\n",
    "MSE_lin_reg=mean_squared_error(ytest,ypred_lin_reg)\n",
    "RMSE_lin_reg=np.sqrt(MSE_lin_reg)\n",
    "print(\"\\nAccuracy Score Linear Regression:\\t\",Accuracy_lin_reg)\n",
    "\n",
    "print(\"*\"*100)\n",
    "      \n",
    "print(\"\\nMSE Linear Regression :\\t\",MSE_lin_reg)\n",
    "\n",
    "print(\"*\"*100)\n",
    "\n",
    "print('\\nRMSE Linear Regression : \\t',RMSE_lin_reg)\n"
   ]
  },
  {
   "cell_type": "markdown",
   "id": "893ca82e",
   "metadata": {},
   "source": [
    "# KNN Regression"
   ]
  },
  {
   "cell_type": "code",
   "execution_count": 29,
   "id": "80673e6b",
   "metadata": {},
   "outputs": [
    {
     "name": "stdout",
     "output_type": "stream",
     "text": [
      "\n",
      "*****KNN Regression Model\" *******\n",
      "\n",
      "\n",
      "Hyperparameter :\n",
      "\n",
      " {'algorithm': 'auto', 'leaf_size': 30, 'metric': 'minkowski', 'metric_params': None, 'n_jobs': None, 'n_neighbors': 3, 'p': 2, 'weights': 'uniform'}\n",
      "\n",
      "Training Completed\n",
      "\n",
      "Testing Completed\n",
      "\n",
      "*****Performance measure for KNN Regression \" *******\n",
      "\n",
      "****************************************************************************************************\n",
      "\n",
      "Accuracy Score KNN Regression:\t -0.04912214305811591\n",
      "****************************************************************************************************\n",
      "\n",
      "MSE KNN Regression :\t 0.9637395833333335\n",
      "****************************************************************************************************\n",
      "\n",
      "RMSE KNN Regression : \t 0.9817023904082813\n"
     ]
    }
   ],
   "source": [
    "from sklearn.neighbors import KNeighborsRegressor\n",
    "knn_reg=KNeighborsRegressor(n_neighbors=3)\n",
    "print('\\n*****KNN Regression Model\" *******\\n')\n",
    "knn_reg.fit(xtrain,ytrain)\n",
    "print('\\nHyperparameter :\\n\\n',knn_reg.get_params())\n",
    "print('\\nTraining Completed')\n",
    "ypred_knn_reg=knn_reg.predict(xtest)\n",
    "print('\\nTesting Completed')\n",
    "print('\\n*****Performance measure for KNN Regression \" *******\\n')\n",
    "from sklearn.metrics import r2_score,mean_squared_error\n",
    "print(\"*\"*100)\n",
    "Accuracy_knn_reg=r2_score(ytest,ypred_knn_reg)\n",
    "MSE_knn_reg=mean_squared_error(ytest,ypred_knn_reg)\n",
    "RMSE_knn_reg=np.sqrt(MSE_knn_reg)\n",
    "print(\"\\nAccuracy Score KNN Regression:\\t\",Accuracy_knn_reg)\n",
    "\n",
    "print(\"*\"*100)\n",
    "      \n",
    "print(\"\\nMSE KNN Regression :\\t\",MSE_knn_reg)\n",
    "\n",
    "print(\"*\"*100)\n",
    "\n",
    "print('\\nRMSE KNN Regression : \\t',RMSE_knn_reg)\n"
   ]
  },
  {
   "cell_type": "markdown",
   "id": "0fc4a85e",
   "metadata": {},
   "source": [
    "# Decision Tree Regression Model"
   ]
  },
  {
   "cell_type": "code",
   "execution_count": 28,
   "id": "7695576e",
   "metadata": {},
   "outputs": [
    {
     "name": "stdout",
     "output_type": "stream",
     "text": [
      "\n",
      "*****Decision Tree Regression Model\" *******\n",
      "\n",
      "\n",
      "Hyperparameter :\n",
      "\n",
      " {'ccp_alpha': 0.0, 'criterion': 'squared_error', 'max_depth': None, 'max_features': None, 'max_leaf_nodes': None, 'min_impurity_decrease': 0.0, 'min_samples_leaf': 1, 'min_samples_split': 2, 'min_weight_fraction_leaf': 0.0, 'random_state': None, 'splitter': 'best'}\n",
      "\n",
      "Training Completed\n",
      "\n",
      "Testing Completed\n",
      "\n",
      "*****Performance measure for Decision Tree Regression \" *******\n",
      "\n",
      "****************************************************************************************************\n",
      "\n",
      "Accuracy Score Decision Tree Regression:\t 0.37162589278141955\n",
      "****************************************************************************************************\n",
      "\n",
      "MSE Decision Tree Regression :\t 0.5772340277777777\n",
      "****************************************************************************************************\n",
      "\n",
      "RMSE Decision Tree Regression : \t 0.7597591906504176\n"
     ]
    }
   ],
   "source": [
    "from sklearn.tree import DecisionTreeRegressor\n",
    "des_tree=DecisionTreeRegressor()\n",
    "print('\\n*****Decision Tree Regression Model\" *******\\n')\n",
    "des_tree.fit(xtrain,ytrain)\n",
    "print('\\nHyperparameter :\\n\\n',des_tree.get_params())\n",
    "print('\\nTraining Completed')\n",
    "ypred_des_tree=des_tree.predict(xtest)\n",
    "print('\\nTesting Completed')\n",
    "print('\\n*****Performance measure for Decision Tree Regression \" *******\\n')\n",
    "from sklearn.metrics import r2_score,mean_squared_error\n",
    "print(\"*\"*100)\n",
    "Accuracy_des_tree=r2_score(ytest,ypred_des_tree)\n",
    "MSE_des_tree=mean_squared_error(ytest,ypred_des_tree)\n",
    "RMSE_des_tree=np.sqrt(MSE_des_tree)\n",
    "print(\"\\nAccuracy Score Decision Tree Regression:\\t\",Accuracy_des_tree)\n",
    "\n",
    "print(\"*\"*100)\n",
    "      \n",
    "print(\"\\nMSE Decision Tree Regression :\\t\",MSE_des_tree)\n",
    "\n",
    "print(\"*\"*100)\n",
    "\n",
    "print('\\nRMSE Decision Tree Regression : \\t',RMSE_des_tree)\n"
   ]
  },
  {
   "cell_type": "markdown",
   "id": "0263cf61",
   "metadata": {},
   "source": [
    "# Support Vector Regression"
   ]
  },
  {
   "cell_type": "code",
   "execution_count": 27,
   "id": "bc56290c",
   "metadata": {},
   "outputs": [
    {
     "name": "stdout",
     "output_type": "stream",
     "text": [
      "\n",
      "*****SVR Regression Model\" *******\n",
      "\n",
      "\n",
      "Hyperparameter :\n",
      "\n",
      " {'C': 1.0, 'cache_size': 200, 'coef0': 0.0, 'degree': 3, 'epsilon': 0.1, 'gamma': 'scale', 'kernel': 'rbf', 'max_iter': -1, 'shrinking': True, 'tol': 0.001, 'verbose': False}\n",
      "\n",
      "Training Completed\n",
      "\n",
      "Testing Completed\n",
      "\n",
      "*****Performance measure for SVR Regression \" *******\n",
      "\n",
      "****************************************************************************************************\n",
      "\n",
      "Accuracy Score SVR Regression:\t 0.07947298110754741\n",
      "****************************************************************************************************\n",
      "\n",
      "MSE SVR Regression :\t 0.8456101432084105\n",
      "****************************************************************************************************\n",
      "\n",
      "RMSE SVR Regression : \t 0.9195706298095925\n"
     ]
    }
   ],
   "source": [
    "from sklearn.svm import SVR\n",
    "svr=SVR()\n",
    "print('\\n*****SVR Regression Model\" *******\\n')\n",
    "svr.fit(xtrain,ytrain)\n",
    "print('\\nHyperparameter :\\n\\n',svr.get_params())\n",
    "print('\\nTraining Completed')\n",
    "ypred_svr=svr.predict(xtest)\n",
    "print('\\nTesting Completed')\n",
    "print('\\n*****Performance measure for SVR Regression \" *******\\n')\n",
    "from sklearn.metrics import r2_score,mean_squared_error\n",
    "print(\"*\"*100)\n",
    "Accuracy_svr=r2_score(ytest,ypred_svr)\n",
    "MSE_svr=mean_squared_error(ytest,ypred_svr)\n",
    "RMSE_svr=np.sqrt(MSE_svr)\n",
    "print(\"\\nAccuracy Score SVR Regression:\\t\",Accuracy_svr)\n",
    "\n",
    "print(\"*\"*100)\n",
    "      \n",
    "print(\"\\nMSE SVR Regression :\\t\",MSE_svr)\n",
    "\n",
    "print(\"*\"*100)\n",
    "\n",
    "print('\\nRMSE SVR Regression : \\t',RMSE_svr)\n"
   ]
  },
  {
   "cell_type": "markdown",
   "id": "ce5a2e8a",
   "metadata": {},
   "source": [
    "# Boosting -Adaboost with knn reg model"
   ]
  },
  {
   "cell_type": "code",
   "execution_count": 47,
   "id": "2b6d33af",
   "metadata": {},
   "outputs": [
    {
     "name": "stdout",
     "output_type": "stream",
     "text": [
      "\n",
      "*****AdaBoost Regression Model\" *******\n",
      "\n",
      "\n",
      "Hyperparameter :\n",
      "\n",
      " {'base_estimator__algorithm': 'auto', 'base_estimator__leaf_size': 30, 'base_estimator__metric': 'minkowski', 'base_estimator__metric_params': None, 'base_estimator__n_jobs': None, 'base_estimator__n_neighbors': 3, 'base_estimator__p': 2, 'base_estimator__weights': 'uniform', 'base_estimator': KNeighborsRegressor(n_neighbors=3), 'learning_rate': 1.0, 'loss': 'linear', 'n_estimators': 8, 'random_state': None}\n",
      "\n",
      "Training Completed\n",
      "\n",
      "Testing Completed\n",
      "\n",
      "*****Performance measure for AdaBoost Regression \" *******\n",
      "\n",
      "****************************************************************************************************\n",
      "\n",
      "Accuracy Score AdaBoost Regression:\t -0.1310312771323563\n",
      "****************************************************************************************************\n",
      "\n",
      "MSE AdaBoost Regression :\t 1.0389825617283952\n",
      "****************************************************************************************************\n",
      "\n",
      "RMSE AdaBoost Regression : \t 1.019304940500337\n"
     ]
    }
   ],
   "source": [
    "from sklearn.ensemble import AdaBoostRegressor\n",
    "ada=AdaBoostRegressor(base_estimator=knn_reg,n_estimators=8)\n",
    "print('\\n*****AdaBoost Regression Model\" *******\\n')\n",
    "ada.fit(xtrain,ytrain)\n",
    "print('\\nHyperparameter :\\n\\n',ada.get_params())\n",
    "print('\\nTraining Completed')\n",
    "ypred_ada=ada.predict(xtest)\n",
    "print('\\nTesting Completed')\n",
    "print('\\n*****Performance measure for AdaBoost Regression \" *******\\n')\n",
    "from sklearn.metrics import r2_score,mean_squared_error\n",
    "print(\"*\"*100)\n",
    "Accuracy_ada=r2_score(ytest,ypred_ada)\n",
    "MSE_ada=mean_squared_error(ytest,ypred_ada)\n",
    "RMSE_ada=np.sqrt(MSE_ada)\n",
    "print(\"\\nAccuracy Score AdaBoost Regression:\\t\",Accuracy_ada)\n",
    "\n",
    "print(\"*\"*100)\n",
    "      \n",
    "print(\"\\nMSE AdaBoost Regression :\\t\",MSE_ada)\n",
    "\n",
    "print(\"*\"*100)\n",
    "\n",
    "print('\\nRMSE AdaBoost Regression : \\t',RMSE_ada)\n"
   ]
  },
  {
   "cell_type": "markdown",
   "id": "e0d93afc",
   "metadata": {},
   "source": [
    "# Boosting Gradient Boost"
   ]
  },
  {
   "cell_type": "code",
   "execution_count": 48,
   "id": "293eae3f",
   "metadata": {},
   "outputs": [
    {
     "name": "stdout",
     "output_type": "stream",
     "text": [
      "\n",
      "*****GradientBoost Regression Model\" *******\n",
      "\n",
      "\n",
      "Hyperparameter :\n",
      "\n",
      " {'alpha': 0.9, 'ccp_alpha': 0.0, 'criterion': 'friedman_mse', 'init': None, 'learning_rate': 0.1, 'loss': 'squared_error', 'max_depth': 3, 'max_features': None, 'max_leaf_nodes': None, 'min_impurity_decrease': 0.0, 'min_samples_leaf': 1, 'min_samples_split': 2, 'min_weight_fraction_leaf': 0.0, 'n_estimators': 25, 'n_iter_no_change': None, 'random_state': None, 'subsample': 1.0, 'tol': 0.0001, 'validation_fraction': 0.1, 'verbose': 0, 'warm_start': False}\n",
      "\n",
      "Training Completed\n",
      "\n",
      "Testing Completed\n",
      "\n",
      "*****Performance measure for GradientBoost Regression \" *******\n",
      "\n",
      "****************************************************************************************************\n",
      "\n",
      "Accuracy Score GradientBoost Regression:\t 0.6522281375553816\n",
      "****************************************************************************************************\n",
      "\n",
      "MSE GradientBoost Regression :\t 0.3194685309285934\n",
      "****************************************************************************************************\n",
      "\n",
      "RMSE GradientBoost Regression : \t 0.5652154730088282\n"
     ]
    }
   ],
   "source": [
    "from sklearn.ensemble import GradientBoostingRegressor\n",
    "grad_boost=GradientBoostingRegressor(n_estimators=25)\n",
    "print('\\n*****GradientBoost Regression Model\" *******\\n')\n",
    "grad_boost.fit(xtrain,ytrain)\n",
    "print('\\nHyperparameter :\\n\\n',grad_boost.get_params())\n",
    "print('\\nTraining Completed')\n",
    "ypred_grad_boost=grad_boost.predict(xtest)\n",
    "print('\\nTesting Completed')\n",
    "print('\\n*****Performance measure for GradientBoost Regression \" *******\\n')\n",
    "from sklearn.metrics import r2_score,mean_squared_error\n",
    "print(\"*\"*100)\n",
    "Accuracy_grad_boost=r2_score(ytest,ypred_grad_boost)\n",
    "MSE_grad_boost=mean_squared_error(ytest,ypred_grad_boost)\n",
    "RMSE_grad_boost=np.sqrt(MSE_grad_boost)\n",
    "print(\"\\nAccuracy Score GradientBoost Regression:\\t\",Accuracy_grad_boost)\n",
    "\n",
    "print(\"*\"*100)\n",
    "      \n",
    "print(\"\\nMSE GradientBoost Regression :\\t\",MSE_grad_boost)\n",
    "\n",
    "print(\"*\"*100)\n",
    "\n",
    "print('\\nRMSE GradientBoost Regression : \\t',RMSE_grad_boost)\n"
   ]
  },
  {
   "cell_type": "markdown",
   "id": "d8ab30a9",
   "metadata": {},
   "source": [
    "# Model with Accuracy Scores"
   ]
  },
  {
   "cell_type": "code",
   "execution_count": 49,
   "id": "b59ea05b",
   "metadata": {},
   "outputs": [
    {
     "name": "stdout",
     "output_type": "stream",
     "text": [
      "                      Model  Accuracy_score\n",
      "0         Linear Regression        0.667090\n",
      "5   GradientBoost Regressor        0.652228\n",
      "2  Desicion_Tree_Regression        0.371626\n",
      "3                       SVR        0.079473\n",
      "1            KNN Regression       -0.049122\n",
      "4        AdaBoost Regressor       -0.131031\n"
     ]
    }
   ],
   "source": [
    "scores=[('Linear Regression', Accuracy_lin_reg),\n",
    "        ('KNN Regression', Accuracy_knn_reg),\n",
    "        ('Desicion_Tree_Regression', Accuracy_des_tree),\n",
    "        ('SVR', Accuracy_svr),\n",
    "        ('AdaBoost Regressor', Accuracy_ada),\n",
    "        ('GradientBoost Regressor', Accuracy_grad_boost),\n",
    "       ]\n",
    "\n",
    "Accu_scores=pd.DataFrame(scores, columns=['Model', 'Accuracy_score'])\n",
    "\n",
    "print (Accu_scores.sort_values (by='Accuracy_score', ascending=False))"
   ]
  },
  {
   "cell_type": "code",
   "execution_count": 50,
   "id": "b13aa06c",
   "metadata": {},
   "outputs": [
    {
     "data": {
      "text/plain": [
       "([0, 1, 2, 3, 4, 5],\n",
       " [Text(0, 0, 'Linear Regression'),\n",
       "  Text(1, 0, 'KNN Regression'),\n",
       "  Text(2, 0, 'Desicion_Tree_Regression'),\n",
       "  Text(3, 0, 'SVR'),\n",
       "  Text(4, 0, 'AdaBoost Regressor'),\n",
       "  Text(5, 0, 'GradientBoost Regressor')])"
      ]
     },
     "execution_count": 50,
     "metadata": {},
     "output_type": "execute_result"
    },
    {
     "data": {
      "image/png": "[encoded data removed]",
      "text/plain": [
       "<Figure size 640x480 with 1 Axes>"
      ]
     },
     "metadata": {},
     "output_type": "display_data"
    }
   ],
   "source": [
    "sns.lineplot(x=Accu_scores['Model'],y=Accu_scores['Accuracy_score'],data=Accu_scores)\n",
    "plt.xticks(rotation=70)"
   ]
  },
  {
   "cell_type": "code",
   "execution_count": null,
   "id": "91c1d294",
   "metadata": {},
   "outputs": [],
   "source": []
  },
  {
   "cell_type": "code",
   "execution_count": null,
   "id": "05bc2076",
   "metadata": {},
   "outputs": [],
   "source": []
  },
  {
   "cell_type": "code",
   "execution_count": null,
   "id": "018a028c",
   "metadata": {},
   "outputs": [],
   "source": []
  },
  {
   "cell_type": "code",
   "execution_count": null,
   "id": "b95c3375",
   "metadata": {},
   "outputs": [],
   "source": []
  },
  {
   "cell_type": "code",
   "execution_count": null,
   "id": "c7fdf094",
   "metadata": {},
   "outputs": [],
   "source": []
  },
  {
   "cell_type": "code",
   "execution_count": null,
   "id": "de93bdaa",
   "metadata": {},
   "outputs": [],
   "source": []
  },
  {
   "cell_type": "code",
   "execution_count": null,
   "id": "fb8f91d6",
   "metadata": {},
   "outputs": [],
   "source": []
  },
  {
   "cell_type": "code",
   "execution_count": null,
   "id": "edd5760d",
   "metadata": {},
   "outputs": [],
   "source": []
  },
  {
   "cell_type": "code",
   "execution_count": null,
   "id": "b7ccc084",
   "metadata": {},
   "outputs": [],
   "source": []
  },
  {
   "cell_type": "code",
   "execution_count": null,
   "id": "b3103b17",
   "metadata": {},
   "outputs": [],
   "source": []
  },
  {
   "cell_type": "code",
   "execution_count": null,
   "id": "13112aee",
   "metadata": {},
   "outputs": [],
   "source": []
  }
 ],
 "metadata": {
  "kernelspec": {
   "display_name": "Python 3 (ipykernel)",
   "language": "python",
   "name": "python3"
  },
  "language_info": {
   "codemirror_mode": {
    "name": "ipython",
    "version": 3
   },
   "file_extension": ".py",
   "mimetype": "text/x-python",
   "name": "python",
   "nbconvert_exporter": "python",
   "pygments_lexer": "ipython3",
   "version": "3.11.4"
  }
 },
 "nbformat": 4,
 "nbformat_minor": 5
}
