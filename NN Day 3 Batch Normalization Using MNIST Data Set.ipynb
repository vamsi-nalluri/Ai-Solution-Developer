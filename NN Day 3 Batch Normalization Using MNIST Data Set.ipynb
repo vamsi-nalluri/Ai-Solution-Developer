{
 "cells": [
  {
   "cell_type": "markdown",
   "id": "1447bab6",
   "metadata": {},
   "source": [
    "# Building a deep learning model to classify the mnist digits dataset with Batch Normalization."
   ]
  },
  {
   "cell_type": "code",
   "execution_count": 1,
   "id": "2b7ed7f4",
   "metadata": {},
   "outputs": [],
   "source": [
    "from keras.datasets import mnist\n",
    "from keras.utils import to_categorical\n",
    "from keras.models import Sequential\n",
    "from keras.layers import Dense\n",
    "from keras.optimizers import SGD\n",
    "from matplotlib import pyplot\n",
    "import matplotlib.pyplot as plt\n",
    "from keras.layers import BatchNormalization"
   ]
  },
  {
   "cell_type": "code",
   "execution_count": 2,
   "id": "b8855ad6",
   "metadata": {},
   "outputs": [],
   "source": [
    "batch_size=128\n",
    "num_classes=10\n",
    "epochs=20\n"
   ]
  },
  {
   "cell_type": "markdown",
   "id": "60897184",
   "metadata": {},
   "source": [
    "# Load and preprocess the MNIST dataset"
   ]
  },
  {
   "cell_type": "code",
   "execution_count": 3,
   "id": "986e6e25",
   "metadata": {},
   "outputs": [
    {
     "name": "stdout",
     "output_type": "stream",
     "text": [
      "Shape-x:\t (60000, 28, 28)\n",
      "Shape-y:\t (60000,)\n"
     ]
    }
   ],
   "source": [
    "(xtrain,ytrain),(xtest,ytest)=mnist.load_data()\n",
    "print('Shape-x:\\t',xtrain.shape)\n",
    "print('Shape-y:\\t',ytrain.shape)\n"
   ]
  },
  {
   "cell_type": "code",
   "execution_count": 4,
   "id": "b384d149",
   "metadata": {},
   "outputs": [
    {
     "name": "stdout",
     "output_type": "stream",
     "text": [
      "Shape-x-train:\t (60000, 784)\n",
      "Shape-x-Test:\t (10000, 784)\n"
     ]
    }
   ],
   "source": [
    "xtrain=xtrain.reshape(60000,784)\n",
    "xtest=xtest.reshape(10000,784)\n",
    "print('Shape-x-train:\\t',xtrain.shape)\n",
    "print('Shape-x-Test:\\t',xtest.shape)\n"
   ]
  },
  {
   "cell_type": "code",
   "execution_count": 5,
   "id": "5be1b836",
   "metadata": {},
   "outputs": [],
   "source": [
    "xtrain=xtrain.astype('float32')\n",
    "xtest=xtest.astype('float32')\n"
   ]
  },
  {
   "cell_type": "code",
   "execution_count": 6,
   "id": "97512e2e",
   "metadata": {},
   "outputs": [],
   "source": [
    "import keras\n",
    "ytrain=keras.utils.to_categorical(ytrain)\n",
    "ytest=keras.utils.to_categorical(ytest)"
   ]
  },
  {
   "cell_type": "markdown",
   "id": "40c3cf8f",
   "metadata": {},
   "source": [
    "# Sequential Model"
   ]
  },
  {
   "cell_type": "code",
   "execution_count": 7,
   "id": "51d3dabf",
   "metadata": {},
   "outputs": [
    {
     "name": "stdout",
     "output_type": "stream",
     "text": [
      "Model: \"sequential\"\n",
      "_________________________________________________________________\n",
      " Layer (type)                Output Shape              Param #   \n",
      "=================================================================\n",
      " dense (Dense)               (None, 128)               100480    \n",
      "                                                                 \n",
      " batch_normalization (Batch  (None, 128)               512       \n",
      " Normalization)                                                  \n",
      "                                                                 \n",
      " dense_1 (Dense)             (None, 64)                8256      \n",
      "                                                                 \n",
      " batch_normalization_1 (Bat  (None, 64)                256       \n",
      " chNormalization)                                                \n",
      "                                                                 \n",
      " dense_2 (Dense)             (None, 10)                650       \n",
      "                                                                 \n",
      "=================================================================\n",
      "Total params: 110154 (430.29 KB)\n",
      "Trainable params: 109770 (428.79 KB)\n",
      "Non-trainable params: 384 (1.50 KB)\n",
      "_________________________________________________________________\n"
     ]
    }
   ],
   "source": [
    "model=Sequential()\n",
    "model.add(Dense(128,kernel_initializer=\"he_uniform\",activation='relu',input_shape=(784,)))\n",
    "model.add(BatchNormalization())\n",
    "model.add(Dense(64,activation='relu',kernel_initializer=\"he_uniform\"))\n",
    "model.add(BatchNormalization())\n",
    "model.add(Dense(num_classes,activation='softmax'))\n",
    "model.summary()\n"
   ]
  },
  {
   "cell_type": "markdown",
   "id": "0f558046",
   "metadata": {},
   "source": [
    "# Model Compilation and Fitting"
   ]
  },
  {
   "cell_type": "code",
   "execution_count": 8,
   "id": "513a989b",
   "metadata": {},
   "outputs": [],
   "source": [
    "model.compile(loss='categorical_crossentropy',optimizer=SGD(learning_rate=0.01,momentum=0.9),metrics=['accuracy'])"
   ]
  },
  {
   "cell_type": "code",
   "execution_count": 9,
   "id": "57420ea7",
   "metadata": {
    "scrolled": true
   },
   "outputs": [
    {
     "name": "stdout",
     "output_type": "stream",
     "text": [
      "Epoch 1/20\n",
      "469/469 [==============================] - 2s 3ms/step - loss: 0.3002 - accuracy: 0.9111 - val_loss: 0.1536 - val_accuracy: 0.9536\n",
      "Epoch 2/20\n",
      "469/469 [==============================] - 1s 3ms/step - loss: 0.1250 - accuracy: 0.9638 - val_loss: 0.1135 - val_accuracy: 0.9644\n",
      "Epoch 3/20\n",
      "469/469 [==============================] - 1s 3ms/step - loss: 0.0900 - accuracy: 0.9730 - val_loss: 0.1008 - val_accuracy: 0.9684\n",
      "Epoch 4/20\n",
      "469/469 [==============================] - 1s 3ms/step - loss: 0.0701 - accuracy: 0.9794 - val_loss: 0.0904 - val_accuracy: 0.9713\n",
      "Epoch 5/20\n",
      "469/469 [==============================] - 1s 2ms/step - loss: 0.0572 - accuracy: 0.9833 - val_loss: 0.0835 - val_accuracy: 0.9734\n",
      "Epoch 6/20\n",
      "469/469 [==============================] - 1s 2ms/step - loss: 0.0463 - accuracy: 0.9863 - val_loss: 0.0797 - val_accuracy: 0.9746\n",
      "Epoch 7/20\n",
      "469/469 [==============================] - 1s 2ms/step - loss: 0.0385 - accuracy: 0.9887 - val_loss: 0.0801 - val_accuracy: 0.9745\n",
      "Epoch 8/20\n",
      "469/469 [==============================] - 1s 3ms/step - loss: 0.0309 - accuracy: 0.9916 - val_loss: 0.0753 - val_accuracy: 0.9757\n",
      "Epoch 9/20\n",
      "469/469 [==============================] - 1s 2ms/step - loss: 0.0257 - accuracy: 0.9928 - val_loss: 0.0788 - val_accuracy: 0.9747\n",
      "Epoch 10/20\n",
      "469/469 [==============================] - 1s 2ms/step - loss: 0.0223 - accuracy: 0.9938 - val_loss: 0.0779 - val_accuracy: 0.9762\n",
      "Epoch 11/20\n",
      "469/469 [==============================] - 1s 3ms/step - loss: 0.0194 - accuracy: 0.9950 - val_loss: 0.0775 - val_accuracy: 0.9764\n",
      "Epoch 12/20\n",
      "469/469 [==============================] - 1s 2ms/step - loss: 0.0151 - accuracy: 0.9965 - val_loss: 0.0797 - val_accuracy: 0.9774\n",
      "Epoch 13/20\n",
      "469/469 [==============================] - 1s 2ms/step - loss: 0.0134 - accuracy: 0.9968 - val_loss: 0.0791 - val_accuracy: 0.9770\n",
      "Epoch 14/20\n",
      "469/469 [==============================] - 1s 2ms/step - loss: 0.0117 - accuracy: 0.9973 - val_loss: 0.0757 - val_accuracy: 0.9785\n",
      "Epoch 15/20\n",
      "469/469 [==============================] - 1s 2ms/step - loss: 0.0105 - accuracy: 0.9977 - val_loss: 0.0802 - val_accuracy: 0.9768\n",
      "Epoch 16/20\n",
      "469/469 [==============================] - 1s 3ms/step - loss: 0.0085 - accuracy: 0.9984 - val_loss: 0.0805 - val_accuracy: 0.9781\n",
      "Epoch 17/20\n",
      "469/469 [==============================] - 1s 2ms/step - loss: 0.0080 - accuracy: 0.9982 - val_loss: 0.0822 - val_accuracy: 0.9781\n",
      "Epoch 18/20\n",
      "469/469 [==============================] - 1s 3ms/step - loss: 0.0075 - accuracy: 0.9984 - val_loss: 0.0775 - val_accuracy: 0.9789\n",
      "Epoch 19/20\n",
      "469/469 [==============================] - 1s 3ms/step - loss: 0.0068 - accuracy: 0.9986 - val_loss: 0.0838 - val_accuracy: 0.9777\n",
      "Epoch 20/20\n",
      "469/469 [==============================] - 1s 3ms/step - loss: 0.0060 - accuracy: 0.9989 - val_loss: 0.0818 - val_accuracy: 0.9783\n"
     ]
    }
   ],
   "source": [
    "history=model.fit(xtrain,ytrain,\n",
    " batch_size=batch_size,\n",
    " epochs=epochs,\n",
    " verbose=1,\n",
    " validation_data=(xtest,ytest))"
   ]
  },
  {
   "cell_type": "markdown",
   "id": "78a50f71",
   "metadata": {},
   "source": [
    "# Evaluate the model"
   ]
  },
  {
   "cell_type": "code",
   "execution_count": 11,
   "id": "38371209",
   "metadata": {},
   "outputs": [
    {
     "name": "stdout",
     "output_type": "stream",
     "text": [
      "1875/1875 [==============================] - 2s 1ms/step - loss: 0.0032 - accuracy: 0.9997\n",
      "313/313 [==============================] - 0s 1ms/step - loss: 0.0818 - accuracy: 0.9783\n",
      "\n",
      "\n",
      "Train Accuracy:\t 0.9997333288192749\n",
      "\n",
      "\n",
      "Test Accuracy:\t 0.9782999753952026\n"
     ]
    }
   ],
   "source": [
    "_, train_acc_mnist = model.evaluate(xtrain, ytrain, verbose=1)\n",
    "_, test_acc_mnist = model.evaluate(xtest, ytest, verbose=1)\n",
    "print('\\n\\nTrain Accuracy:\\t', train_acc_mnist)\n",
    "print('\\n\\nTest Accuracy:\\t', test_acc_mnist)"
   ]
  },
  {
   "cell_type": "markdown",
   "id": "78e42b1b",
   "metadata": {},
   "source": [
    "# Plot training history"
   ]
  },
  {
   "cell_type": "code",
   "execution_count": 12,
   "id": "401adb54",
   "metadata": {},
   "outputs": [
    {
     "data": {
      "image/png": "[encoded data removed]",
      "text/plain": [
       "<Figure size 640x480 with 1 Axes>"
      ]
     },
     "metadata": {},
     "output_type": "display_data"
    }
   ],
   "source": [
    "pyplot.plot(history.history['accuracy'], label='train')\n",
    "pyplot.plot(history.history['val_accuracy'], label='test')\n",
    "pyplot.legend()\n",
    "pyplot.show()"
   ]
  },
  {
   "cell_type": "code",
   "execution_count": 13,
   "id": "b026ab59",
   "metadata": {},
   "outputs": [
    {
     "data": {
      "image/png": "[encoded data removed]",
      "text/plain": [
       "<Figure size 640x480 with 1 Axes>"
      ]
     },
     "metadata": {},
     "output_type": "display_data"
    }
   ],
   "source": [
    "pyplot.plot(history.history['loss'], label='train')\n",
    "pyplot.plot(history.history['val_loss'], label='test')\n",
    "pyplot.legend()\n",
    "pyplot.show()"
   ]
  },
  {
   "cell_type": "code",
   "execution_count": null,
   "id": "f54678e4",
   "metadata": {},
   "outputs": [],
   "source": []
  },
  {
   "cell_type": "code",
   "execution_count": null,
   "id": "e7a0f17a",
   "metadata": {},
   "outputs": [],
   "source": []
  },
  {
   "cell_type": "code",
   "execution_count": null,
   "id": "0ad258c2",
   "metadata": {},
   "outputs": [],
   "source": []
  }
 ],
 "metadata": {
  "kernelspec": {
   "display_name": "Python 3 (ipykernel)",
   "language": "python",
   "name": "python3"
  },
  "language_info": {
   "codemirror_mode": {
    "name": "ipython",
    "version": 3
   },
   "file_extension": ".py",
   "mimetype": "text/x-python",
   "name": "python",
   "nbconvert_exporter": "python",
   "pygments_lexer": "ipython3",
   "version": "3.11.4"
  }
 },
 "nbformat": 4,
 "nbformat_minor": 5
}
