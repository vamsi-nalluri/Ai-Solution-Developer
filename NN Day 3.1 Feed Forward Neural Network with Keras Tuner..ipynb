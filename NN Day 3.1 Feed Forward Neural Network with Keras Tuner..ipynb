{
 "cells": [
  {
   "cell_type": "code",
   "execution_count": 1,
   "id": "9255243b",
   "metadata": {},
   "outputs": [],
   "source": [
    "from tensorflow import keras\n",
    "from tensorflow.keras import layers\n",
    "import keras_tuner as kt\n",
    "import numpy as np\n"
   ]
  },
  {
   "cell_type": "markdown",
   "id": "94317878",
   "metadata": {},
   "source": [
    "# Hypermodel class for the Feed Forward Neural Network"
   ]
  },
  {
   "cell_type": "code",
   "execution_count": 2,
   "id": "5813f5ef",
   "metadata": {},
   "outputs": [],
   "source": [
    "class FeedForwardNN(kt.HyperModel):\n",
    "    def __init__(self, input_shape, num_classes):\n",
    "        self.input_shape = input_shape\n",
    "        self.num_classes = num_classes\n",
    "\n",
    "    def build(self, hp):\n",
    "        model = keras.Sequential()\n",
    "        model.add(layers.InputLayer(input_shape=self.input_shape))\n",
    "\n",
    "        for i in range(hp.Int('num_layers', min_value=1, max_value=3, step=1)):\n",
    "            model.add(layers.Dense(units=hp.Int(f'units_{i}', min_value=16, max_value=128, step=16),\n",
    "                                   activation='relu'))\n",
    "\n",
    "        model.add(layers.Dense(self.num_classes, activation='softmax'))\n",
    "\n",
    "        optimizer = hp.Choice('optimizer', values=['adam', 'sgd'])\n",
    "        model.compile(optimizer=optimizer,\n",
    "                      loss='sparse_categorical_crossentropy',\n",
    "                      metrics=['accuracy'])\n",
    "        return model\n"
   ]
  },
  {
   "cell_type": "code",
   "execution_count": 3,
   "id": "199d49a6",
   "metadata": {},
   "outputs": [],
   "source": [
    "input_shape = (20,)\n",
    "num_classes = 2\n",
    "\n",
    "hypermodel = FeedForwardNN(input_shape=input_shape, num_classes=num_classes)\n"
   ]
  },
  {
   "cell_type": "code",
   "execution_count": 4,
   "id": "21518010",
   "metadata": {},
   "outputs": [
    {
     "name": "stdout",
     "output_type": "stream",
     "text": [
      "Reloading Tuner from .\\untitled_project\\tuner0.json\n"
     ]
    }
   ],
   "source": [
    "\n",
    "tuner = kt.BayesianOptimization(hypermodel.build, objective='val_accuracy', max_trials=5)\n"
   ]
  },
  {
   "cell_type": "code",
   "execution_count": 5,
   "id": "ca9b5479",
   "metadata": {},
   "outputs": [],
   "source": [
    "x_train = np.random.rand(1000, 20)\n",
    "y_train = np.random.randint(2, size=(1000,))\n"
   ]
  },
  {
   "cell_type": "markdown",
   "id": "ad2e6db4",
   "metadata": {},
   "source": [
    "# Split the data into training and validation sets"
   ]
  },
  {
   "cell_type": "code",
   "execution_count": 6,
   "id": "7473b6e7",
   "metadata": {},
   "outputs": [],
   "source": [
    "x_val = x_train[-200:]\n",
    "y_val = y_train[-200:]\n",
    "x_train = x_train[:-200]\n",
    "y_train = y_train[:-200]\n"
   ]
  },
  {
   "cell_type": "markdown",
   "id": "f7c47511",
   "metadata": {},
   "source": [
    "# Model with the best hyperparameters"
   ]
  },
  {
   "cell_type": "code",
   "execution_count": 7,
   "id": "4a1d7b3c",
   "metadata": {
    "scrolled": true
   },
   "outputs": [
    {
     "name": "stdout",
     "output_type": "stream",
     "text": [
      "*****************************************************************************************************************************\n",
      "Best Hyperparameters: <keras_tuner.src.engine.hyperparameters.hyperparameters.HyperParameters object at 0x00000195F4FB7510>\n",
      "\n",
      "\n",
      "*****************************************************************************************************************************\n",
      "*****************************************************************************************************************************\n",
      "\n",
      "\n",
      "\n",
      "Epoch 1/10\n",
      "25/25 [==============================] - 1s 7ms/step - loss: 0.6957 - accuracy: 0.5288 - val_loss: 0.7033 - val_accuracy: 0.4700\n",
      "Epoch 2/10\n",
      "25/25 [==============================] - 0s 3ms/step - loss: 0.6957 - accuracy: 0.5200 - val_loss: 0.6959 - val_accuracy: 0.5250\n",
      "Epoch 3/10\n",
      "25/25 [==============================] - 0s 2ms/step - loss: 0.6918 - accuracy: 0.5213 - val_loss: 0.6946 - val_accuracy: 0.4950\n",
      "Epoch 4/10\n",
      "25/25 [==============================] - 0s 2ms/step - loss: 0.6876 - accuracy: 0.5650 - val_loss: 0.6930 - val_accuracy: 0.5050\n",
      "Epoch 5/10\n",
      "25/25 [==============================] - 0s 2ms/step - loss: 0.6853 - accuracy: 0.5525 - val_loss: 0.6937 - val_accuracy: 0.5050\n",
      "Epoch 6/10\n",
      "25/25 [==============================] - 0s 2ms/step - loss: 0.6835 - accuracy: 0.5663 - val_loss: 0.6978 - val_accuracy: 0.4950\n",
      "Epoch 7/10\n",
      "25/25 [==============================] - 0s 2ms/step - loss: 0.6849 - accuracy: 0.5500 - val_loss: 0.7052 - val_accuracy: 0.4800\n",
      "Epoch 8/10\n",
      "25/25 [==============================] - 0s 2ms/step - loss: 0.6798 - accuracy: 0.5650 - val_loss: 0.6920 - val_accuracy: 0.4800\n",
      "Epoch 9/10\n",
      "25/25 [==============================] - 0s 2ms/step - loss: 0.6710 - accuracy: 0.6175 - val_loss: 0.6970 - val_accuracy: 0.4950\n",
      "Epoch 10/10\n",
      "25/25 [==============================] - 0s 2ms/step - loss: 0.6691 - accuracy: 0.5987 - val_loss: 0.6978 - val_accuracy: 0.5100\n",
      "\n",
      "\n",
      "\n",
      "*****************************************************************************************************************************\n",
      "\n",
      "\n",
      "Model: \"sequential\"\n",
      "_________________________________________________________________\n",
      " Layer (type)                Output Shape              Param #   \n",
      "=================================================================\n",
      " dense (Dense)               (None, 112)               2352      \n",
      "                                                                 \n",
      " dense_1 (Dense)             (None, 128)               14464     \n",
      "                                                                 \n",
      " dense_2 (Dense)             (None, 16)                2064      \n",
      "                                                                 \n",
      " dense_3 (Dense)             (None, 2)                 34        \n",
      "                                                                 \n",
      "=================================================================\n",
      "Total params: 18914 (73.88 KB)\n",
      "Trainable params: 18914 (73.88 KB)\n",
      "Non-trainable params: 0 (0.00 Byte)\n",
      "_________________________________________________________________\n"
     ]
    }
   ],
   "source": [
    "tuner.search(x_train, y_train, epochs=10, validation_data=(x_val, y_val))\n",
    "\n",
    "\n",
    "best_hps = tuner.oracle.get_best_trials(num_trials=1)[0].hyperparameters\n",
    "print(\"*\"*125)\n",
    "print(f\"Best Hyperparameters: {best_hps}\")\n",
    "print('\\n')\n",
    "print(\"*\"*125)\n",
    "\n",
    "best_model = hypermodel.build(best_hps)\n",
    "print(\"*\"*125)\n",
    "print('\\n\\n')\n",
    "history = best_model.fit(x_train, y_train, epochs=10, validation_data=(x_val, y_val))\n",
    "print('\\n\\n')\n",
    "print(\"*\"*125)\n",
    "print('\\n')\n",
    "best_model.summary()\n"
   ]
  },
  {
   "cell_type": "code",
   "execution_count": 8,
   "id": "cd9e2cd4",
   "metadata": {},
   "outputs": [
    {
     "data": {
      "image/png": "[encoded data removed]",
      "text/plain": [
       "<Figure size 640x480 with 1 Axes>"
      ]
     },
     "metadata": {},
     "output_type": "display_data"
    }
   ],
   "source": [
    "import matplotlib.pyplot as plt\n",
    "\n",
    "plt.plot(history.history['accuracy'], label='Training Accuracy')\n",
    "plt.plot(history.history['val_accuracy'], label='Validation Accuracy')\n",
    "plt.xlabel('Epochs')\n",
    "plt.ylabel('Accuracy')\n",
    "plt.legend()\n",
    "plt.show()"
   ]
  },
  {
   "cell_type": "code",
   "execution_count": null,
   "id": "3ea535e2",
   "metadata": {},
   "outputs": [],
   "source": []
  },
  {
   "cell_type": "code",
   "execution_count": null,
   "id": "a72a284e",
   "metadata": {},
   "outputs": [],
   "source": []
  },
  {
   "cell_type": "code",
   "execution_count": null,
   "id": "39a8b7e3",
   "metadata": {},
   "outputs": [],
   "source": []
  },
  {
   "cell_type": "code",
   "execution_count": null,
   "id": "62afa28a",
   "metadata": {},
   "outputs": [],
   "source": []
  },
  {
   "cell_type": "code",
   "execution_count": null,
   "id": "cef00c39",
   "metadata": {},
   "outputs": [],
   "source": []
  },
  {
   "cell_type": "code",
   "execution_count": null,
   "id": "329269bf",
   "metadata": {},
   "outputs": [],
   "source": []
  }
 ],
 "metadata": {
  "kernelspec": {
   "display_name": "Python 3 (ipykernel)",
   "language": "python",
   "name": "python3"
  },
  "language_info": {
   "codemirror_mode": {
    "name": "ipython",
    "version": 3
   },
   "file_extension": ".py",
   "mimetype": "text/x-python",
   "name": "python",
   "nbconvert_exporter": "python",
   "pygments_lexer": "ipython3",
   "version": "3.11.4"
  }
 },
 "nbformat": 4,
 "nbformat_minor": 5
}
