{
 "cells": [
  {
   "cell_type": "markdown",
   "id": "0097d2b2",
   "metadata": {},
   "source": [
    "# NLP Language model for text generation involves train a neural network to predict the next word in a sequence of words."
   ]
  },
  {
   "cell_type": "code",
   "execution_count": 17,
   "id": "2a653b1e",
   "metadata": {},
   "outputs": [],
   "source": [
    "import numpy as np\n",
    "import tensorflow as tf\n",
    "from tensorflow.keras.models import Sequential\n",
    "from tensorflow.keras.layers import Embedding, LSTM, Dense\n"
   ]
  },
  {
   "cell_type": "code",
   "execution_count": 18,
   "id": "5562dabc",
   "metadata": {},
   "outputs": [],
   "source": [
    "# Sample Data\n",
    "text_data = [\n",
    "    \"The sun sets behind the mountains, casting a warm glow across the valley.\",\n",
    "    \"Gardeners plant seeds in the fertile soil, hoping for a bountiful harvest.\",\n",
    "    \"Soft whispers of the wind rustle through the leaves of the ancient oak tree.\",\n",
    "    \"Children giggle and play in the vibrant meadow, surrounded by wildflowers.\",\n",
    "    \"A mysterious figure emerges from the shadows, capturing everyone's attention.\",\n",
    "    \"Raindrops dance on the windowpane, creating a soothing melody.\",\n",
    "    \"The old bookstore is filled with the scent of aging paper and forgotten tales.\",\n",
    "    \"In the bustling city, neon lights illuminate the streets as people hurry by.\",\n",
    "    \"As the moon rises, nocturnal creatures awaken, beginning their nightly rituals.\",\n",
    "    \"Ocean waves gently kiss the shore, carrying secrets from distant lands.\"\n",
    "]\n",
    "\n",
    "# Tokenization\n",
    "tokenizer = tf.keras.preprocessing.text.Tokenizer()\n",
    "tokenizer.fit_on_texts(text_data)\n",
    "total_words = len(tokenizer.word_index) + 1\n"
   ]
  },
  {
   "cell_type": "code",
   "execution_count": 19,
   "id": "f5d42d76",
   "metadata": {},
   "outputs": [],
   "source": [
    "# Create input sequences and targets\n",
    "input_sequences = []\n",
    "for line in text_data:\n",
    "    token_list = tokenizer.texts_to_sequences([line])[0]\n",
    "    for i in range(1, len(token_list)):\n",
    "        n_gram_sequence = token_list[:i+1]\n",
    "        input_sequences.append(n_gram_sequence)\n",
    "\n",
    "max_sequence_length = max([len(seq) for seq in input_sequences])\n",
    "input_sequences = tf.keras.preprocessing.sequence.pad_sequences(input_sequences, maxlen=max_sequence_length)\n",
    "\n",
    "x, y = input_sequences[:, :-1], input_sequences[:, -1]\n",
    "y = tf.keras.utils.to_categorical(y, num_classes=total_words)\n",
    "\n",
    "\n"
   ]
  },
  {
   "cell_type": "code",
   "execution_count": 20,
   "id": "af59a00c",
   "metadata": {},
   "outputs": [
    {
     "name": "stdout",
     "output_type": "stream",
     "text": [
      "Epoch 1/100\n",
      "4/4 - 3s - loss: 4.5322 - accuracy: 0.0093 - 3s/epoch - 693ms/step\n",
      "Epoch 2/100\n",
      "4/4 - 0s - loss: 4.5140 - accuracy: 0.1296 - 60ms/epoch - 15ms/step\n",
      "Epoch 3/100\n",
      "4/4 - 0s - loss: 4.4908 - accuracy: 0.1296 - 44ms/epoch - 11ms/step\n",
      "Epoch 4/100\n",
      "4/4 - 0s - loss: 4.4507 - accuracy: 0.1296 - 42ms/epoch - 10ms/step\n",
      "Epoch 5/100\n",
      "4/4 - 0s - loss: 4.3526 - accuracy: 0.1296 - 40ms/epoch - 10ms/step\n",
      "Epoch 6/100\n",
      "4/4 - 0s - loss: 4.2765 - accuracy: 0.1296 - 41ms/epoch - 10ms/step\n",
      "Epoch 7/100\n",
      "4/4 - 0s - loss: 4.2576 - accuracy: 0.1296 - 46ms/epoch - 11ms/step\n",
      "Epoch 8/100\n",
      "4/4 - 0s - loss: 4.2133 - accuracy: 0.1296 - 50ms/epoch - 13ms/step\n",
      "Epoch 9/100\n",
      "4/4 - 0s - loss: 4.2001 - accuracy: 0.1296 - 50ms/epoch - 12ms/step\n",
      "Epoch 10/100\n",
      "4/4 - 0s - loss: 4.1868 - accuracy: 0.1296 - 56ms/epoch - 14ms/step\n",
      "Epoch 11/100\n",
      "4/4 - 0s - loss: 4.1475 - accuracy: 0.1296 - 44ms/epoch - 11ms/step\n",
      "Epoch 12/100\n",
      "4/4 - 0s - loss: 4.1243 - accuracy: 0.1296 - 41ms/epoch - 10ms/step\n",
      "Epoch 13/100\n",
      "4/4 - 0s - loss: 4.0856 - accuracy: 0.1481 - 40ms/epoch - 10ms/step\n",
      "Epoch 14/100\n",
      "4/4 - 0s - loss: 4.0421 - accuracy: 0.1481 - 39ms/epoch - 10ms/step\n",
      "Epoch 15/100\n",
      "4/4 - 0s - loss: 4.0005 - accuracy: 0.1481 - 41ms/epoch - 10ms/step\n",
      "Epoch 16/100\n",
      "4/4 - 0s - loss: 3.9523 - accuracy: 0.1389 - 42ms/epoch - 10ms/step\n",
      "Epoch 17/100\n",
      "4/4 - 0s - loss: 3.9032 - accuracy: 0.1481 - 40ms/epoch - 10ms/step\n",
      "Epoch 18/100\n",
      "4/4 - 0s - loss: 3.8456 - accuracy: 0.1574 - 41ms/epoch - 10ms/step\n",
      "Epoch 19/100\n",
      "4/4 - 0s - loss: 3.8183 - accuracy: 0.1574 - 42ms/epoch - 11ms/step\n",
      "Epoch 20/100\n",
      "4/4 - 0s - loss: 3.7461 - accuracy: 0.1574 - 42ms/epoch - 10ms/step\n",
      "Epoch 21/100\n",
      "4/4 - 0s - loss: 3.6775 - accuracy: 0.1481 - 41ms/epoch - 10ms/step\n",
      "Epoch 22/100\n",
      "4/4 - 0s - loss: 3.6198 - accuracy: 0.1481 - 41ms/epoch - 10ms/step\n",
      "Epoch 23/100\n",
      "4/4 - 0s - loss: 3.5618 - accuracy: 0.1389 - 41ms/epoch - 10ms/step\n",
      "Epoch 24/100\n",
      "4/4 - 0s - loss: 3.4841 - accuracy: 0.1574 - 42ms/epoch - 10ms/step\n",
      "Epoch 25/100\n",
      "4/4 - 0s - loss: 3.4004 - accuracy: 0.1481 - 42ms/epoch - 10ms/step\n",
      "Epoch 26/100\n",
      "4/4 - 0s - loss: 3.3283 - accuracy: 0.1852 - 41ms/epoch - 10ms/step\n",
      "Epoch 27/100\n",
      "4/4 - 0s - loss: 3.2569 - accuracy: 0.2037 - 41ms/epoch - 10ms/step\n",
      "Epoch 28/100\n",
      "4/4 - 0s - loss: 3.1750 - accuracy: 0.1944 - 38ms/epoch - 10ms/step\n",
      "Epoch 29/100\n",
      "4/4 - 0s - loss: 3.0805 - accuracy: 0.2130 - 39ms/epoch - 10ms/step\n",
      "Epoch 30/100\n",
      "4/4 - 0s - loss: 3.0158 - accuracy: 0.2407 - 47ms/epoch - 12ms/step\n",
      "Epoch 31/100\n",
      "4/4 - 0s - loss: 2.9138 - accuracy: 0.2407 - 41ms/epoch - 10ms/step\n",
      "Epoch 32/100\n",
      "4/4 - 0s - loss: 2.8314 - accuracy: 0.2407 - 43ms/epoch - 11ms/step\n",
      "Epoch 33/100\n",
      "4/4 - 0s - loss: 2.7555 - accuracy: 0.2778 - 72ms/epoch - 18ms/step\n",
      "Epoch 34/100\n",
      "4/4 - 0s - loss: 2.6860 - accuracy: 0.3426 - 70ms/epoch - 17ms/step\n",
      "Epoch 35/100\n",
      "4/4 - 0s - loss: 2.6346 - accuracy: 0.3241 - 71ms/epoch - 18ms/step\n",
      "Epoch 36/100\n",
      "4/4 - 0s - loss: 2.5770 - accuracy: 0.3704 - 72ms/epoch - 18ms/step\n",
      "Epoch 37/100\n",
      "4/4 - 0s - loss: 2.5450 - accuracy: 0.3796 - 67ms/epoch - 17ms/step\n",
      "Epoch 38/100\n",
      "4/4 - 0s - loss: 2.4307 - accuracy: 0.3981 - 59ms/epoch - 15ms/step\n",
      "Epoch 39/100\n",
      "4/4 - 0s - loss: 2.3511 - accuracy: 0.3796 - 48ms/epoch - 12ms/step\n",
      "Epoch 40/100\n",
      "4/4 - 0s - loss: 2.2779 - accuracy: 0.3889 - 37ms/epoch - 9ms/step\n",
      "Epoch 41/100\n",
      "4/4 - 0s - loss: 2.2011 - accuracy: 0.4444 - 35ms/epoch - 9ms/step\n",
      "Epoch 42/100\n",
      "4/4 - 0s - loss: 2.1695 - accuracy: 0.4630 - 37ms/epoch - 9ms/step\n",
      "Epoch 43/100\n",
      "4/4 - 0s - loss: 2.0939 - accuracy: 0.5185 - 35ms/epoch - 9ms/step\n",
      "Epoch 44/100\n",
      "4/4 - 0s - loss: 2.0432 - accuracy: 0.5185 - 36ms/epoch - 9ms/step\n",
      "Epoch 45/100\n",
      "4/4 - 0s - loss: 1.9807 - accuracy: 0.5463 - 36ms/epoch - 9ms/step\n",
      "Epoch 46/100\n",
      "4/4 - 0s - loss: 1.9305 - accuracy: 0.5833 - 40ms/epoch - 10ms/step\n",
      "Epoch 47/100\n",
      "4/4 - 0s - loss: 1.8788 - accuracy: 0.5741 - 43ms/epoch - 11ms/step\n",
      "Epoch 48/100\n",
      "4/4 - 0s - loss: 1.8300 - accuracy: 0.5741 - 47ms/epoch - 12ms/step\n",
      "Epoch 49/100\n",
      "4/4 - 0s - loss: 1.7846 - accuracy: 0.5926 - 38ms/epoch - 9ms/step\n",
      "Epoch 50/100\n",
      "4/4 - 0s - loss: 1.7433 - accuracy: 0.6204 - 39ms/epoch - 10ms/step\n",
      "Epoch 51/100\n",
      "4/4 - 0s - loss: 1.6927 - accuracy: 0.6389 - 46ms/epoch - 12ms/step\n",
      "Epoch 52/100\n",
      "4/4 - 0s - loss: 1.6491 - accuracy: 0.6296 - 37ms/epoch - 9ms/step\n",
      "Epoch 53/100\n",
      "4/4 - 0s - loss: 1.6033 - accuracy: 0.6481 - 36ms/epoch - 9ms/step\n",
      "Epoch 54/100\n",
      "4/4 - 0s - loss: 1.5770 - accuracy: 0.6667 - 36ms/epoch - 9ms/step\n",
      "Epoch 55/100\n",
      "4/4 - 0s - loss: 1.5236 - accuracy: 0.6759 - 36ms/epoch - 9ms/step\n",
      "Epoch 56/100\n",
      "4/4 - 0s - loss: 1.5103 - accuracy: 0.6944 - 36ms/epoch - 9ms/step\n",
      "Epoch 57/100\n",
      "4/4 - 0s - loss: 1.4682 - accuracy: 0.7130 - 36ms/epoch - 9ms/step\n",
      "Epoch 58/100\n",
      "4/4 - 0s - loss: 1.4351 - accuracy: 0.6944 - 34ms/epoch - 9ms/step\n",
      "Epoch 59/100\n",
      "4/4 - 0s - loss: 1.4026 - accuracy: 0.6944 - 35ms/epoch - 9ms/step\n",
      "Epoch 60/100\n",
      "4/4 - 0s - loss: 1.3610 - accuracy: 0.7222 - 35ms/epoch - 9ms/step\n",
      "Epoch 61/100\n",
      "4/4 - 0s - loss: 1.3295 - accuracy: 0.7315 - 38ms/epoch - 10ms/step\n",
      "Epoch 62/100\n",
      "4/4 - 0s - loss: 1.2987 - accuracy: 0.6944 - 38ms/epoch - 10ms/step\n",
      "Epoch 63/100\n",
      "4/4 - 0s - loss: 1.2710 - accuracy: 0.6944 - 39ms/epoch - 10ms/step\n",
      "Epoch 64/100\n",
      "4/4 - 0s - loss: 1.2417 - accuracy: 0.7685 - 40ms/epoch - 10ms/step\n",
      "Epoch 65/100\n",
      "4/4 - 0s - loss: 1.2195 - accuracy: 0.7870 - 40ms/epoch - 10ms/step\n",
      "Epoch 66/100\n",
      "4/4 - 0s - loss: 1.1925 - accuracy: 0.8056 - 38ms/epoch - 10ms/step\n",
      "Epoch 67/100\n",
      "4/4 - 0s - loss: 1.1680 - accuracy: 0.7315 - 40ms/epoch - 10ms/step\n",
      "Epoch 68/100\n",
      "4/4 - 0s - loss: 1.1479 - accuracy: 0.7870 - 48ms/epoch - 12ms/step\n",
      "Epoch 69/100\n",
      "4/4 - 0s - loss: 1.1184 - accuracy: 0.7685 - 40ms/epoch - 10ms/step\n",
      "Epoch 70/100\n",
      "4/4 - 0s - loss: 1.0946 - accuracy: 0.8426 - 39ms/epoch - 10ms/step\n",
      "Epoch 71/100\n",
      "4/4 - 0s - loss: 1.0693 - accuracy: 0.8148 - 40ms/epoch - 10ms/step\n",
      "Epoch 72/100\n",
      "4/4 - 0s - loss: 1.0422 - accuracy: 0.8426 - 40ms/epoch - 10ms/step\n",
      "Epoch 73/100\n",
      "4/4 - 0s - loss: 1.0191 - accuracy: 0.8611 - 39ms/epoch - 10ms/step\n",
      "Epoch 74/100\n",
      "4/4 - 0s - loss: 0.9984 - accuracy: 0.8519 - 39ms/epoch - 10ms/step\n",
      "Epoch 75/100\n",
      "4/4 - 0s - loss: 0.9795 - accuracy: 0.8796 - 48ms/epoch - 12ms/step\n",
      "Epoch 76/100\n",
      "4/4 - 0s - loss: 0.9568 - accuracy: 0.9074 - 36ms/epoch - 9ms/step\n",
      "Epoch 77/100\n",
      "4/4 - 0s - loss: 0.9467 - accuracy: 0.8611 - 35ms/epoch - 9ms/step\n",
      "Epoch 78/100\n",
      "4/4 - 0s - loss: 0.9165 - accuracy: 0.9259 - 35ms/epoch - 9ms/step\n",
      "Epoch 79/100\n",
      "4/4 - 0s - loss: 0.9074 - accuracy: 0.9259 - 35ms/epoch - 9ms/step\n",
      "Epoch 80/100\n",
      "4/4 - 0s - loss: 0.8829 - accuracy: 0.9167 - 36ms/epoch - 9ms/step\n",
      "Epoch 81/100\n",
      "4/4 - 0s - loss: 0.8652 - accuracy: 0.9259 - 35ms/epoch - 9ms/step\n",
      "Epoch 82/100\n",
      "4/4 - 0s - loss: 0.8454 - accuracy: 0.9167 - 36ms/epoch - 9ms/step\n",
      "Epoch 83/100\n",
      "4/4 - 0s - loss: 0.8335 - accuracy: 0.9444 - 37ms/epoch - 9ms/step\n",
      "Epoch 84/100\n",
      "4/4 - 0s - loss: 0.8161 - accuracy: 0.9167 - 39ms/epoch - 10ms/step\n",
      "Epoch 85/100\n",
      "4/4 - 0s - loss: 0.8063 - accuracy: 0.9537 - 39ms/epoch - 10ms/step\n",
      "Epoch 86/100\n",
      "4/4 - 0s - loss: 0.7894 - accuracy: 0.9444 - 38ms/epoch - 10ms/step\n",
      "Epoch 87/100\n",
      "4/4 - 0s - loss: 0.7647 - accuracy: 0.9259 - 48ms/epoch - 12ms/step\n",
      "Epoch 88/100\n",
      "4/4 - 0s - loss: 0.7532 - accuracy: 0.9537 - 49ms/epoch - 12ms/step\n",
      "Epoch 89/100\n",
      "4/4 - 0s - loss: 0.7315 - accuracy: 0.9537 - 41ms/epoch - 10ms/step\n",
      "Epoch 90/100\n",
      "4/4 - 0s - loss: 0.7197 - accuracy: 0.9537 - 41ms/epoch - 10ms/step\n",
      "Epoch 91/100\n",
      "4/4 - 0s - loss: 0.7016 - accuracy: 0.9537 - 39ms/epoch - 10ms/step\n",
      "Epoch 92/100\n",
      "4/4 - 0s - loss: 0.6838 - accuracy: 0.9630 - 41ms/epoch - 10ms/step\n",
      "Epoch 93/100\n",
      "4/4 - 0s - loss: 0.6711 - accuracy: 0.9444 - 43ms/epoch - 11ms/step\n",
      "Epoch 94/100\n",
      "4/4 - 0s - loss: 0.6527 - accuracy: 0.9537 - 43ms/epoch - 11ms/step\n",
      "Epoch 95/100\n",
      "4/4 - 0s - loss: 0.6382 - accuracy: 0.9722 - 62ms/epoch - 15ms/step\n",
      "Epoch 96/100\n",
      "4/4 - 0s - loss: 0.6250 - accuracy: 0.9907 - 57ms/epoch - 14ms/step\n",
      "Epoch 97/100\n",
      "4/4 - 0s - loss: 0.6112 - accuracy: 0.9907 - 59ms/epoch - 15ms/step\n",
      "Epoch 98/100\n",
      "4/4 - 0s - loss: 0.6010 - accuracy: 0.9907 - 39ms/epoch - 10ms/step\n",
      "Epoch 99/100\n",
      "4/4 - 0s - loss: 0.5891 - accuracy: 0.9907 - 41ms/epoch - 10ms/step\n",
      "Epoch 100/100\n",
      "4/4 - 0s - loss: 0.5798 - accuracy: 0.9907 - 36ms/epoch - 9ms/step\n"
     ]
    },
    {
     "data": {
      "text/plain": [
       "<keras.src.callbacks.History at 0x247059bec10>"
      ]
     },
     "execution_count": 20,
     "metadata": {},
     "output_type": "execute_result"
    }
   ],
   "source": [
    "# Build the model\n",
    "model = Sequential()\n",
    "model.add(Embedding(total_words, 100, input_length=max_sequence_length-1))\n",
    "model.add(LSTM(100))\n",
    "model.add(Dense(total_words, activation='softmax'))\n",
    "\n",
    "# Compile the model\n",
    "model.compile(optimizer='adam', loss='categorical_crossentropy', metrics=['accuracy'])\n",
    "\n",
    "# Train the model\n",
    "model.fit(x, y, epochs=100, verbose=2)\n",
    "\n"
   ]
  },
  {
   "cell_type": "code",
   "execution_count": 21,
   "id": "908d0a6a",
   "metadata": {},
   "outputs": [
    {
     "name": "stdout",
     "output_type": "stream",
     "text": [
      "Raindrops dance on the windowpane creating a soothing\n"
     ]
    }
   ],
   "source": [
    "# Generate text\n",
    "seed_text = \"Raindrops dance on\"\n",
    "next_words = 5\n",
    "for _ in range(next_words):\n",
    "    token_list = tokenizer.texts_to_sequences([seed_text])[0]\n",
    "    token_list = tf.keras.preprocessing.sequence.pad_sequences([token_list], maxlen=max_sequence_length-1)\n",
    "    predicted = np.argmax(model.predict(token_list, verbose=0))\n",
    "    output_word = \"\"\n",
    "    for word, index in tokenizer.word_index.items():\n",
    "        if index == predicted:\n",
    "            output_word = word\n",
    "            break\n",
    "    seed_text += \" \" + output_word\n",
    "\n",
    "print(seed_text)"
   ]
  },
  {
   "cell_type": "markdown",
   "id": "bc435c49",
   "metadata": {},
   "source": [
    "# Speech to Text model."
   ]
  },
  {
   "cell_type": "code",
   "execution_count": 16,
   "id": "9b2a9208",
   "metadata": {},
   "outputs": [],
   "source": [
    "def speech_to_text(file):\n",
    "    samp=sr.AudioFile(file)\n",
    "    with samp as source:\n",
    "        audio=recog.record(samp)\n",
    "    return recog.recognize_google(audio)\n"
   ]
  },
  {
   "cell_type": "code",
   "execution_count": 65,
   "id": "a167955e",
   "metadata": {},
   "outputs": [
    {
     "name": "stdout",
     "output_type": "stream",
     "text": [
      "I was broken from my young age the message from the beginning from the brain in the beauty\n"
     ]
    }
   ],
   "source": [
    "print(speech_to_text(\"I Was Broken.wav\"))"
   ]
  },
  {
   "cell_type": "code",
   "execution_count": 10,
   "id": "e7b81ee3",
   "metadata": {},
   "outputs": [],
   "source": [
    "import speech_recognition as sr\n",
    "recog=sr.Recognizer()\n",
    "mic=sr.Microphone()\n",
    "mic.list_microphone_names()\n",
    "with mic as source:\n",
    "    audio=recog.listen(source)"
   ]
  },
  {
   "cell_type": "code",
   "execution_count": 12,
   "id": "f8e14b2c",
   "metadata": {},
   "outputs": [],
   "source": [
    "recog.recognize_google(audio)"
   ]
  },
  {
   "cell_type": "markdown",
   "id": "b9b4039f",
   "metadata": {},
   "source": [
    "# Text to Speech model."
   ]
  },
  {
   "cell_type": "code",
   "execution_count": 15,
   "id": "b6272dc1",
   "metadata": {},
   "outputs": [
    {
     "name": "stdout",
     "output_type": "stream",
     "text": [
      "User text pl >>:Hai How are you,i'm waiting for you since 143 days\n"
     ]
    }
   ],
   "source": [
    "from gtts import gTTS\n",
    "import os\n",
    "\n",
    "\n",
    "def text_to_speech(text,language='en',filename='output.mp3'):\n",
    "    tts=gTTS(text=text,lang=language,slow=False)\n",
    "    tts.save(filename)\n",
    "    os.system(f\"start {filename}\")\n",
    "\n",
    "if __name__==\"__main__\":\n",
    "    input_text=input('User text pl >>:')\n",
    "    text_to_speech(input_text)\n"
   ]
  },
  {
   "cell_type": "markdown",
   "id": "ce43b300",
   "metadata": {},
   "source": [
    "# NLP Language model to detect the sentence/word error in the text corpus."
   ]
  },
  {
   "cell_type": "code",
   "execution_count": 45,
   "id": "a39a60a9",
   "metadata": {},
   "outputs": [],
   "source": [
    "# Sample dataset with correct and incorrect sentences\n",
    "correct_sentences = ['hello', 'world', 'python', 'spell', 'language', 'model', 'check']\n",
    "incorrect_sentences = ['helo', 'worl', 'pythoon', 'spl', 'langage', 'moel', 'chek']\n"
   ]
  },
  {
   "cell_type": "code",
   "execution_count": 46,
   "id": "f8181cee",
   "metadata": {},
   "outputs": [],
   "source": [
    "# Combine correct and incorrect sentences into a single dataset\n",
    "all_sentences = correct_sentences + incorrect_sentences\n",
    "\n",
    "# Labels: 1 for correct sentences, 0 for incorrect sentences\n",
    "labels = [1] * len(correct_sentences) + [0] * len(incorrect_sentences)\n",
    "\n"
   ]
  },
  {
   "cell_type": "code",
   "execution_count": 47,
   "id": "eea7c3de",
   "metadata": {},
   "outputs": [],
   "source": [
    "# Split the dataset into train and test\n",
    "x_train, x_test, y_train, y_test = train_test_split(all_sentences, labels, test_size=0.2, random_state=42)\n",
    "\n",
    "# Load spaCy English language model\n",
    "nlp = spacy.load(\"en_core_web_sm\")\n"
   ]
  },
  {
   "cell_type": "code",
   "execution_count": 48,
   "id": "2f0b0539",
   "metadata": {},
   "outputs": [
    {
     "name": "stdout",
     "output_type": "stream",
     "text": [
      "The sentence 'Hello, this is a sample text with som misspelled words. Can you find the error?' is correct.\n"
     ]
    },
    {
     "name": "stderr",
     "output_type": "stream",
     "text": [
      "C:\\Users\\vamsi\\AppData\\Local\\Temp\\ipykernel_18608\\2934246227.py:6: DeprecationWarning: [W107] The property `Doc.is_parsed` is deprecated. Use `Doc.has_annotation(\"DEP\")` instead.\n",
      "  if doc.is_parsed:\n"
     ]
    }
   ],
   "source": [
    "# Test the error detection\n",
    "def detect_error(test_sentence):\n",
    "    doc = nlp(test_sentence)\n",
    "\n",
    "    # Check if the sentence contains any parsing errors\n",
    "    if doc.is_parsed:\n",
    "        print(f\"The sentence '{test_sentence}' is correct.\")\n",
    "    else:\n",
    "        print(f\"The sentence '{test_sentence}' may contain errors.\")\n",
    "\n",
    "# Test the error detection function\n",
    "detect_error(\"Hello, this is a sample text with som misspelled words. Can you find the error?\")\n",
    "\n"
   ]
  },
  {
   "cell_type": "code",
   "execution_count": 49,
   "id": "b5d82c72",
   "metadata": {},
   "outputs": [
    {
     "name": "stdout",
     "output_type": "stream",
     "text": [
      "Accuracy: 33.33%\n"
     ]
    },
    {
     "name": "stderr",
     "output_type": "stream",
     "text": [
      "C:\\Users\\vamsi\\AppData\\Local\\Temp\\ipykernel_18608\\84542700.py:2: DeprecationWarning: [W107] The property `Doc.is_parsed` is deprecated. Use `Doc.has_annotation(\"DEP\")` instead.\n",
      "  y_pred = [nlp(sentence).is_parsed for sentence in x_test]\n"
     ]
    }
   ],
   "source": [
    "# Evaluate the model\n",
    "y_pred = [nlp(sentence).is_parsed for sentence in x_test]\n",
    "accuracy = accuracy_score(y_test, y_pred)\n",
    "print(f\"Accuracy: {accuracy * 100:.2f}%\")\n"
   ]
  },
  {
   "cell_type": "markdown",
   "id": "dcbf9671",
   "metadata": {},
   "source": [
    "# Language model to correct the error in the text"
   ]
  },
  {
   "cell_type": "code",
   "execution_count": 61,
   "id": "594657bc",
   "metadata": {},
   "outputs": [
    {
     "name": "stderr",
     "output_type": "stream",
     "text": [
      "Setting `pad_token_id` to `eos_token_id`:50256 for open-end generation.\n"
     ]
    },
    {
     "name": "stdout",
     "output_type": "stream",
     "text": [
      "\n",
      "Original text: This s is an examplee of incorrectt textt.\n",
      "\n",
      "Corrected text: This s is an examplee of incorrectt textt.\n",
      "\n",
      "If you want to see more examples, check out this page.\n"
     ]
    }
   ],
   "source": [
    "from transformers import GPT2LMHeadModel, GPT2Tokenizer\n",
    "import torch\n",
    "\n",
    "def correct_errors(input_text):\n",
    "    # Load pre-trained GPT-2 model and tokenizer\n",
    "    model = GPT2LMHeadModel.from_pretrained(\"gpt2\")\n",
    "    tokenizer = GPT2Tokenizer.from_pretrained(\"gpt2\")\n",
    "\n",
    "    # Tokenize input text\n",
    "    input_ids = tokenizer.encode(input_text, return_tensors=\"pt\")\n",
    "\n",
    "    # Generate corrected text with explicit attention_mask\n",
    "    attention_mask = torch.ones_like(input_ids)  # Create attention mask with all 1s\n",
    "    with torch.no_grad():\n",
    "        output = model.generate(\n",
    "            input_ids,\n",
    "            max_length=100,\n",
    "            num_beams=5,\n",
    "            no_repeat_ngram_size=2,\n",
    "            top_k=50,\n",
    "            top_p=0.95,\n",
    "            do_sample=True,\n",
    "            attention_mask=attention_mask\n",
    "        )\n",
    "\n",
    "    corrected_text = tokenizer.decode(output[0], skip_special_tokens=True)\n",
    "\n",
    "    return corrected_text\n",
    "\n",
    "# Example usage\n",
    "input_text = \"This s is an examplee of incorrectt textt.\"\n",
    "corrected_text = correct_errors(input_text)\n",
    "\n",
    "print(f\"\\nOriginal text: {input_text}\")\n",
    "print(f\"\\nCorrected text: {corrected_text}\")\n"
   ]
  },
  {
   "cell_type": "code",
   "execution_count": null,
   "id": "1661caed",
   "metadata": {},
   "outputs": [],
   "source": []
  }
 ],
 "metadata": {
  "kernelspec": {
   "display_name": "Python 3 (ipykernel)",
   "language": "python",
   "name": "python3"
  },
  "language_info": {
   "codemirror_mode": {
    "name": "ipython",
    "version": 3
   },
   "file_extension": ".py",
   "mimetype": "text/x-python",
   "name": "python",
   "nbconvert_exporter": "python",
   "pygments_lexer": "ipython3",
   "version": "3.11.4"
  }
 },
 "nbformat": 4,
 "nbformat_minor": 5
}
