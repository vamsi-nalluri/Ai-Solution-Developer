{
 "cells": [
  {
   "cell_type": "code",
   "execution_count": 1,
   "id": "81dbb7f1",
   "metadata": {},
   "outputs": [],
   "source": [
    "import numpy as np"
   ]
  },
  {
   "cell_type": "code",
   "execution_count": 2,
   "id": "e15b0035",
   "metadata": {},
   "outputs": [
    {
     "data": {
      "text/plain": [
       "matrix([[ -1,  -1,  -1,  -1,   0,  -1],\n",
       "        [ -1,  -1,  -1,   0,  -1, 100],\n",
       "        [ -1,  -1,  -1,   0,  -1,  -1],\n",
       "        [ -1,   0,   0,  -1,   0,  -1],\n",
       "        [ -1,   0,   0,  -1,  -1, 100],\n",
       "        [ -1,   0,  -1,  -1,   0, 100]])"
      ]
     },
     "execution_count": 2,
     "metadata": {},
     "output_type": "execute_result"
    }
   ],
   "source": [
    "R=np.matrix([\n",
    " \n",
    " [-1,-1,-1,-1,0,-1],\n",
    " [-1,-1,-1,0,-1,100],\n",
    " [-1,-1,-1,0,-1,-1],\n",
    " [-1,0,0,-1,0,-1],\n",
    " [-1,0,0,-1,-1,100],\n",
    " [-1,0,-1,-1,0,100]\n",
    "])\n",
    "R\n"
   ]
  },
  {
   "cell_type": "markdown",
   "id": "120a593f",
   "metadata": {},
   "source": [
    "# Construct the zero matrix of the size of R matrix to form\n",
    "the Q matrix"
   ]
  },
  {
   "cell_type": "code",
   "execution_count": 3,
   "id": "f3c99517",
   "metadata": {},
   "outputs": [
    {
     "name": "stdout",
     "output_type": "stream",
     "text": [
      "[[0. 0. 0. 0. 0. 0.]\n",
      " [0. 0. 0. 0. 0. 0.]\n",
      " [0. 0. 0. 0. 0. 0.]\n",
      " [0. 0. 0. 0. 0. 0.]\n",
      " [0. 0. 0. 0. 0. 0.]\n",
      " [0. 0. 0. 0. 0. 0.]]\n"
     ]
    }
   ],
   "source": [
    "Q=np.matrix(np.zeros([6,6]))\n",
    "print(Q)"
   ]
  },
  {
   "cell_type": "markdown",
   "id": "4cb53c52",
   "metadata": {},
   "source": [
    "# Define gamma value - Learning Parameter\n"
   ]
  },
  {
   "cell_type": "code",
   "execution_count": 4,
   "id": "f99ea966",
   "metadata": {},
   "outputs": [],
   "source": [
    "gamma=0.8"
   ]
  },
  {
   "cell_type": "markdown",
   "id": "2edbf13a",
   "metadata": {},
   "source": [
    "# Q- Learning:\n",
    "Q(state,action)= R(state,action) + gamma * Max(Q(next state,all actions))"
   ]
  },
  {
   "cell_type": "markdown",
   "id": "79129080",
   "metadata": {},
   "source": [
    "# Initial state(usually to be choosen as random)"
   ]
  },
  {
   "cell_type": "code",
   "execution_count": 5,
   "id": "6966647e",
   "metadata": {},
   "outputs": [],
   "source": [
    "initial_state=1"
   ]
  },
  {
   "cell_type": "markdown",
   "id": "245920a8",
   "metadata": {},
   "source": [
    "# Define the Available action function"
   ]
  },
  {
   "cell_type": "code",
   "execution_count": 6,
   "id": "7f228d8b",
   "metadata": {},
   "outputs": [],
   "source": [
    "def available_actions(state):\n",
    "    current_state_row=R[state,]\n",
    "    av_act=np.where(current_state_row>=0)[1]\n",
    "    return av_act"
   ]
  },
  {
   "cell_type": "code",
   "execution_count": 7,
   "id": "4f428066",
   "metadata": {},
   "outputs": [
    {
     "name": "stdout",
     "output_type": "stream",
     "text": [
      "[3 5]\n"
     ]
    }
   ],
   "source": [
    "available_act=available_actions(initial_state)\n",
    "print(available_act)"
   ]
  },
  {
   "cell_type": "code",
   "execution_count": 8,
   "id": "7ee75219",
   "metadata": {},
   "outputs": [],
   "source": [
    "#Define the sample next action function\n",
    "def sample_next_action(available_actions_range):\n",
    "    next_action=int(np.random.choice(available_act,1))\n",
    "    return next_action"
   ]
  },
  {
   "cell_type": "code",
   "execution_count": 9,
   "id": "d90eb571",
   "metadata": {},
   "outputs": [
    {
     "name": "stdout",
     "output_type": "stream",
     "text": [
      "3\n"
     ]
    },
    {
     "name": "stderr",
     "output_type": "stream",
     "text": [
      "C:\\Users\\vamsi\\AppData\\Local\\Temp\\ipykernel_18176\\3170987770.py:3: DeprecationWarning: Conversion of an array with ndim > 0 to a scalar is deprecated, and will error in future. Ensure you extract a single element from your array before performing this operation. (Deprecated NumPy 1.25.)\n",
      "  next_action=int(np.random.choice(available_act,1))\n"
     ]
    }
   ],
   "source": [
    "action=sample_next_action(available_act)\n",
    "print(action)\n"
   ]
  },
  {
   "cell_type": "markdown",
   "id": "a54cc535",
   "metadata": {},
   "source": [
    "# Q Matrix - update function"
   ]
  },
  {
   "cell_type": "code",
   "execution_count": 10,
   "id": "b7684877",
   "metadata": {},
   "outputs": [],
   "source": [
    "def update(current_state,action,gamma):\n",
    "\n",
    "    #Max(Q(next state,all actions))\n",
    "    max_index=np.where(Q[action,]==np.max(Q[action,]))[1] \n",
    "\n",
    "    if max_index.shape[0]>1:\n",
    "        max_index=int(np.random.choice(max_index,size=1))\n",
    "\n",
    "    else:\n",
    "        max_index=int(max_index)\n",
    "    max_value=Q[action,max_index]\n",
    "\n",
    "    Q[current_state,action]=R[current_state,action]+gamma*max_value"
   ]
  },
  {
   "cell_type": "code",
   "execution_count": 11,
   "id": "dfcaf1f6",
   "metadata": {},
   "outputs": [
    {
     "name": "stderr",
     "output_type": "stream",
     "text": [
      "C:\\Users\\vamsi\\AppData\\Local\\Temp\\ipykernel_18176\\2422335457.py:7: DeprecationWarning: Conversion of an array with ndim > 0 to a scalar is deprecated, and will error in future. Ensure you extract a single element from your array before performing this operation. (Deprecated NumPy 1.25.)\n",
      "  max_index=int(np.random.choice(max_index,size=1))\n"
     ]
    }
   ],
   "source": [
    "update(initial_state,action,gamma)"
   ]
  },
  {
   "cell_type": "markdown",
   "id": "3fe1c376",
   "metadata": {},
   "source": [
    "# Train the agent with this environment information"
   ]
  },
  {
   "cell_type": "code",
   "execution_count": 13,
   "id": "3141803f",
   "metadata": {},
   "outputs": [
    {
     "name": "stderr",
     "output_type": "stream",
     "text": [
      "C:\\Users\\vamsi\\AppData\\Local\\Temp\\ipykernel_18176\\3170987770.py:3: DeprecationWarning: Conversion of an array with ndim > 0 to a scalar is deprecated, and will error in future. Ensure you extract a single element from your array before performing this operation. (Deprecated NumPy 1.25.)\n",
      "  next_action=int(np.random.choice(available_act,1))\n",
      "C:\\Users\\vamsi\\AppData\\Local\\Temp\\ipykernel_18176\\2422335457.py:10: DeprecationWarning: Conversion of an array with ndim > 0 to a scalar is deprecated, and will error in future. Ensure you extract a single element from your array before performing this operation. (Deprecated NumPy 1.25.)\n",
      "  max_index=int(max_index)\n"
     ]
    }
   ],
   "source": [
    "for i in range(10000):\n",
    "    current_state=np.random.randint(0,int(Q.shape[0]))\n",
    "    action=sample_next_action(available_act)\n",
    "    update(current_state,action,gamma)"
   ]
  },
  {
   "cell_type": "markdown",
   "id": "4b20d17c",
   "metadata": {},
   "source": [
    "# Testing\n",
    "goal_state=5\n"
   ]
  },
  {
   "cell_type": "code",
   "execution_count": 15,
   "id": "3594abdf",
   "metadata": {},
   "outputs": [
    {
     "name": "stdout",
     "output_type": "stream",
     "text": [
      "Optimum path of initail state 1 to the Goal State is [4, 5]\n"
     ]
    },
    {
     "name": "stderr",
     "output_type": "stream",
     "text": [
      "C:\\Users\\vamsi\\AppData\\Local\\Temp\\ipykernel_18176\\2435647595.py:8: DeprecationWarning: Conversion of an array with ndim > 0 to a scalar is deprecated, and will error in future. Ensure you extract a single element from your array before performing this operation. (Deprecated NumPy 1.25.)\n",
      "  next_step_index=int(next_step_index)\n"
     ]
    }
   ],
   "source": [
    "current_state=4\n",
    "steps=[current_state]\n",
    "while current_state!=5:\n",
    "    next_step_index=np.where(Q[current_state,]==np.max(Q[current_state,]))[1]\n",
    "    if next_step_index.shape[0]>1:\n",
    "        next_step_index=int(np.random.choice(next_step_index,size=1))\n",
    "    else:\n",
    "        next_step_index=int(next_step_index)\n",
    "    steps.append(next_step_index)\n",
    "    current_state=next_step_index\n",
    "\n",
    "print('Optimum path of initail state {} to the Goal State is {}'.format(initial_state,steps))"
   ]
  },
  {
   "cell_type": "code",
   "execution_count": null,
   "id": "089cf0ef",
   "metadata": {},
   "outputs": [],
   "source": []
  }
 ],
 "metadata": {
  "kernelspec": {
   "display_name": "Python 3 (ipykernel)",
   "language": "python",
   "name": "python3"
  },
  "language_info": {
   "codemirror_mode": {
    "name": "ipython",
    "version": 3
   },
   "file_extension": ".py",
   "mimetype": "text/x-python",
   "name": "python",
   "nbconvert_exporter": "python",
   "pygments_lexer": "ipython3",
   "version": "3.11.4"
  }
 },
 "nbformat": 4,
 "nbformat_minor": 5
}
