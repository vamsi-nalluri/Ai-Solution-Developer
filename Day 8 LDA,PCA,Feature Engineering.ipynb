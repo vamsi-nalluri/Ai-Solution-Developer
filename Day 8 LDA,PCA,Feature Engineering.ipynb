{
 "cells": [
  {
   "cell_type": "code",
   "execution_count": 1,
   "id": "ff8ccc09",
   "metadata": {},
   "outputs": [],
   "source": [
    "import numpy as np\n",
    "import pandas as pd\n",
    "import matplotlib.pyplot as plt\n",
    "import seaborn as sns"
   ]
  },
  {
   "cell_type": "code",
   "execution_count": 2,
   "id": "ee5305e5",
   "metadata": {},
   "outputs": [],
   "source": [
    "import warnings\n",
    "# Suppress future warnings\n",
    "warnings.simplefilter(action='ignore', category=FutureWarning)"
   ]
  },
  {
   "cell_type": "code",
   "execution_count": 3,
   "id": "d4c0de80",
   "metadata": {},
   "outputs": [],
   "source": [
    "# Load and preprocess your dataset\n",
    "data = pd.read_csv('Day4_medico.csv')  \n",
    "X = data.drop('Outcome', axis=1)  \n",
    "y = data['Outcome']"
   ]
  },
  {
   "cell_type": "code",
   "execution_count": 4,
   "id": "8a44d511",
   "metadata": {},
   "outputs": [
    {
     "data": {
      "text/html": [
       "<div>\n",
       "<style scoped>\n",
       "    .dataframe tbody tr th:only-of-type {\n",
       "        vertical-align: middle;\n",
       "    }\n",
       "\n",
       "    .dataframe tbody tr th {\n",
       "        vertical-align: top;\n",
       "    }\n",
       "\n",
       "    .dataframe thead th {\n",
       "        text-align: right;\n",
       "    }\n",
       "</style>\n",
       "<table border=\"1\" class=\"dataframe\">\n",
       "  <thead>\n",
       "    <tr style=\"text-align: right;\">\n",
       "      <th></th>\n",
       "      <th>Pregnancies</th>\n",
       "      <th>Glucose</th>\n",
       "      <th>BloodPressure</th>\n",
       "      <th>SkinThickness</th>\n",
       "      <th>Insulin</th>\n",
       "      <th>BMI</th>\n",
       "      <th>DiabetesPedigreeFunction</th>\n",
       "      <th>Age</th>\n",
       "      <th>Outcome</th>\n",
       "    </tr>\n",
       "  </thead>\n",
       "  <tbody>\n",
       "    <tr>\n",
       "      <th>0</th>\n",
       "      <td>6</td>\n",
       "      <td>148</td>\n",
       "      <td>72</td>\n",
       "      <td>35</td>\n",
       "      <td>0</td>\n",
       "      <td>33.6</td>\n",
       "      <td>0.627</td>\n",
       "      <td>50</td>\n",
       "      <td>1</td>\n",
       "    </tr>\n",
       "    <tr>\n",
       "      <th>1</th>\n",
       "      <td>1</td>\n",
       "      <td>85</td>\n",
       "      <td>66</td>\n",
       "      <td>29</td>\n",
       "      <td>0</td>\n",
       "      <td>26.6</td>\n",
       "      <td>0.351</td>\n",
       "      <td>31</td>\n",
       "      <td>0</td>\n",
       "    </tr>\n",
       "    <tr>\n",
       "      <th>2</th>\n",
       "      <td>8</td>\n",
       "      <td>183</td>\n",
       "      <td>64</td>\n",
       "      <td>0</td>\n",
       "      <td>0</td>\n",
       "      <td>23.3</td>\n",
       "      <td>0.672</td>\n",
       "      <td>32</td>\n",
       "      <td>1</td>\n",
       "    </tr>\n",
       "    <tr>\n",
       "      <th>3</th>\n",
       "      <td>1</td>\n",
       "      <td>89</td>\n",
       "      <td>66</td>\n",
       "      <td>23</td>\n",
       "      <td>94</td>\n",
       "      <td>28.1</td>\n",
       "      <td>0.167</td>\n",
       "      <td>21</td>\n",
       "      <td>0</td>\n",
       "    </tr>\n",
       "    <tr>\n",
       "      <th>4</th>\n",
       "      <td>0</td>\n",
       "      <td>137</td>\n",
       "      <td>40</td>\n",
       "      <td>35</td>\n",
       "      <td>168</td>\n",
       "      <td>43.1</td>\n",
       "      <td>2.288</td>\n",
       "      <td>33</td>\n",
       "      <td>1</td>\n",
       "    </tr>\n",
       "  </tbody>\n",
       "</table>\n",
       "</div>"
      ],
      "text/plain": [
       "   Pregnancies  Glucose  BloodPressure  SkinThickness  Insulin   BMI  \\\n",
       "0            6      148             72             35        0  33.6   \n",
       "1            1       85             66             29        0  26.6   \n",
       "2            8      183             64              0        0  23.3   \n",
       "3            1       89             66             23       94  28.1   \n",
       "4            0      137             40             35      168  43.1   \n",
       "\n",
       "   DiabetesPedigreeFunction  Age  Outcome  \n",
       "0                     0.627   50        1  \n",
       "1                     0.351   31        0  \n",
       "2                     0.672   32        1  \n",
       "3                     0.167   21        0  \n",
       "4                     2.288   33        1  "
      ]
     },
     "execution_count": 4,
     "metadata": {},
     "output_type": "execute_result"
    }
   ],
   "source": [
    "data.head()"
   ]
  },
  {
   "cell_type": "code",
   "execution_count": 5,
   "id": "fa14d8a5",
   "metadata": {},
   "outputs": [
    {
     "data": {
      "text/plain": [
       "Pregnancies                 0\n",
       "Glucose                     0\n",
       "BloodPressure               0\n",
       "SkinThickness               0\n",
       "Insulin                     0\n",
       "BMI                         0\n",
       "DiabetesPedigreeFunction    0\n",
       "Age                         0\n",
       "Outcome                     0\n",
       "dtype: int64"
      ]
     },
     "execution_count": 5,
     "metadata": {},
     "output_type": "execute_result"
    }
   ],
   "source": [
    "data.isna().sum()"
   ]
  },
  {
   "cell_type": "code",
   "execution_count": 6,
   "id": "5acc5b18",
   "metadata": {},
   "outputs": [
    {
     "data": {
      "text/plain": [
       "<Axes: xlabel='Outcome', ylabel='count'>"
      ]
     },
     "execution_count": 6,
     "metadata": {},
     "output_type": "execute_result"
    },
    {
     "data": {
      "image/png": "[encoded data removed]",
      "text/plain": [
       "<Figure size 640x480 with 1 Axes>"
      ]
     },
     "metadata": {},
     "output_type": "display_data"
    }
   ],
   "source": [
    "sns.countplot(data,x='Outcome')"
   ]
  },
  {
   "cell_type": "code",
   "execution_count": 7,
   "id": "ccdced8d",
   "metadata": {},
   "outputs": [
    {
     "name": "stdout",
     "output_type": "stream",
     "text": [
      "****************Training Data Shape********************\n",
      "\n",
      "Training data-X- Shape:\t (614, 8)\n",
      "\n",
      "Training data-y- Shape:\t (614,)\n",
      "\n",
      "****************Testing Data Shape********************\n",
      "\n",
      "Testing data(x-Input) Shape:\t (154, 8)\n",
      "\n",
      "Testing data(y-Outcome) Shape:\t (154,)\n"
     ]
    }
   ],
   "source": [
    "# Split data into training and testing sets\n",
    "from sklearn.model_selection import train_test_split\n",
    "from sklearn.ensemble import RandomForestClassifier\n",
    "ran_f=RandomForestClassifier()\n",
    "\n",
    "X_train, X_test, y_train, y_test = train_test_split(X, y, test_size=0.2, random_state=42)\n",
    "print('****************Training Data Shape********************\\n')\n",
    "print('Training data-X- Shape:\\t',X_train.shape)\n",
    "print()\n",
    "print('Training data-y- Shape:\\t',y_train.shape)\n",
    "print()\n",
    "print('****************Testing Data Shape********************\\n')\n",
    "print('Testing data(x-Input) Shape:\\t',X_test.shape)\n",
    "print()\n",
    "print('Testing data(y-Outcome) Shape:\\t',y_test.shape)"
   ]
  },
  {
   "cell_type": "markdown",
   "id": "ceb71314",
   "metadata": {},
   "source": [
    "# Scaling"
   ]
  },
  {
   "cell_type": "code",
   "execution_count": 8,
   "id": "c5ed5549",
   "metadata": {},
   "outputs": [
    {
     "name": "stdout",
     "output_type": "stream",
     "text": [
      "\n",
      "Feature Scaling Accuracy:\t 0.7467532467532467\n"
     ]
    }
   ],
   "source": [
    "# Apply feature scaling\n",
    "from sklearn.preprocessing import StandardScaler\n",
    "from sklearn.metrics import accuracy_score, f1_score, confusion_matrix, roc_curve, roc_auc_score\n",
    "scaler = StandardScaler()\n",
    "X_train_scaled = scaler.fit_transform(X_train)\n",
    "X_test_scaled = scaler.transform(X_test)\n",
    "\n",
    "ran_f.fit(X_train_scaled, y_train)\n",
    "y_pred = ran_f.predict(X_test_scaled)\n",
    "accuracy_scalling = accuracy_score(y_test, y_pred)\n",
    "\n",
    "print(\"\\nFeature Scaling Accuracy:\\t\", accuracy_scalling)"
   ]
  },
  {
   "cell_type": "markdown",
   "id": "79b3f0ed",
   "metadata": {},
   "source": [
    "# LDA (Linear Discriminant Analysis)"
   ]
  },
  {
   "cell_type": "code",
   "execution_count": 9,
   "id": "4e9f7c15",
   "metadata": {},
   "outputs": [
    {
     "name": "stdout",
     "output_type": "stream",
     "text": [
      "\n",
      "LDA Accuracy:\t 0.7597402597402597\n"
     ]
    }
   ],
   "source": [
    "# LDA (Linear Discriminant Analysis)\n",
    "from sklearn.discriminant_analysis import LinearDiscriminantAnalysis\n",
    "from sklearn.metrics import accuracy_score, f1_score, confusion_matrix, roc_curve, roc_auc_score\n",
    "\n",
    "lda = LinearDiscriminantAnalysis(n_components=1) \n",
    "X_train_lda = lda.fit_transform(X_train_scaled, y_train)\n",
    "X_test_lda = lda.transform(X_test_scaled)\n",
    "\n",
    "ran_f.fit(X_train_lda, y_train)\n",
    "y_pred_LDA = ran_f.predict(X_test_lda)\n",
    "accuracy_LDA = accuracy_score(y_test, y_pred_LDA)\n",
    "\n",
    "print(\"\\nLDA Accuracy:\\t\", accuracy_LDA)\n"
   ]
  },
  {
   "cell_type": "code",
   "execution_count": null,
   "id": "85526034",
   "metadata": {},
   "outputs": [],
   "source": []
  },
  {
   "cell_type": "markdown",
   "id": "2488b727",
   "metadata": {},
   "source": [
    "# PCA (Principal Component Analysis)"
   ]
  },
  {
   "cell_type": "code",
   "execution_count": 10,
   "id": "ed2c0d2e",
   "metadata": {},
   "outputs": [
    {
     "name": "stdout",
     "output_type": "stream",
     "text": [
      "\n",
      "PCA Accuracy:\t 0.6753246753246753\n"
     ]
    }
   ],
   "source": [
    "# PCA (Principal Component Analysis)\n",
    "from sklearn.decomposition import PCA\n",
    "\n",
    "pca = PCA(n_components=5)  # We can adjust the number of components\n",
    "X_train_pca = pca.fit_transform(X_train_scaled)\n",
    "X_test_pca = pca.transform(X_test_scaled)\n",
    "\n",
    "ran_f.fit(X_train_pca, y_train)\n",
    "y_pred_PCA = ran_f.predict(X_test_pca)\n",
    "accuracy_PCA= accuracy_score(y_test, y_pred_PCA)\n",
    "\n",
    "print(\"\\nPCA Accuracy:\\t\", accuracy_PCA)"
   ]
  },
  {
   "cell_type": "markdown",
   "id": "01a03ecc",
   "metadata": {},
   "source": [
    "# Handling class imbalance."
   ]
  },
  {
   "cell_type": "code",
   "execution_count": 12,
   "id": "a6a22eeb",
   "metadata": {},
   "outputs": [
    {
     "name": "stdout",
     "output_type": "stream",
     "text": [
      "Majority length:\t 500\n",
      "Minority length:\t 268\n",
      "====================================================================================================\n",
      "(1000, 9)\n",
      "\n",
      "Axes(0.125,0.11;0.775x0.77)\n"
     ]
    },
    {
     "data": {
      "image/png": "[encoded data removed]",
      "text/plain": [
       "<Figure size 640x480 with 1 Axes>"
      ]
     },
     "metadata": {},
     "output_type": "display_data"
    }
   ],
   "source": [
    "from sklearn.utils import resample\n",
    "\n",
    "# Split the data into majority and minority classes\n",
    "df_majority = data[data.Outcome == 0]\n",
    "df_minority = data[data.Outcome == 1]\n",
    "\n",
    "print('Majority length:\\t', len(df_majority))\n",
    "print('Minority length:\\t', len(df_minority))\n",
    "print('='*100)\n",
    "\n",
    "# Upsample the minority class\n",
    "df_minority_upsampled = resample(df_minority,\n",
    "    replace=True,  # Sample with replacement\n",
    "    n_samples=len(df_majority),  # To match the majority class\n",
    "    random_state=12\n",
    ")\n",
    "\n",
    "# Combine the upsampled minority class with the majority class\n",
    "df_upsampled = pd.concat([df_majority, df_minority_upsampled])\n",
    "\n",
    "print(df_upsampled.shape)\n",
    "print()\n",
    "print(sns.countplot(df_upsampled,x='Outcome'))\n"
   ]
  },
  {
   "cell_type": "code",
   "execution_count": 13,
   "id": "01403f7f",
   "metadata": {},
   "outputs": [
    {
     "name": "stdout",
     "output_type": "stream",
     "text": [
      "****************Training Data Shape********************\n",
      "\n",
      "Training data-X- Shape:\t (750, 8)\n",
      "\n",
      "Training data-y- Shape:\t (750, 1)\n",
      "\n",
      "****************Testing Data Shape********************\n",
      "\n",
      "Testing data(x-Input) Shape:\t (250, 8)\n",
      "\n",
      "Testing data(y-Outcome) Shape:\t (250, 1)\n"
     ]
    }
   ],
   "source": [
    "x=df_upsampled.iloc[:,:-1]\n",
    "y=df_upsampled.iloc[:,-1:]\n",
    "xtrain,xtest,ytrain,ytest=train_test_split(x,y,test_size=.25,random_state=2)\n",
    "print('****************Training Data Shape********************\\n')\n",
    "print('Training data-X- Shape:\\t',xtrain.shape)\n",
    "print()\n",
    "print('Training data-y- Shape:\\t',ytrain.shape)\n",
    "print()\n",
    "print('****************Testing Data Shape********************\\n')\n",
    "print('Testing data(x-Input) Shape:\\t',xtest.shape)\n",
    "print()\n",
    "print('Testing data(y-Outcome) Shape:\\t',ytest.shape)"
   ]
  },
  {
   "cell_type": "code",
   "execution_count": 14,
   "id": "5177dce1",
   "metadata": {},
   "outputs": [
    {
     "name": "stdout",
     "output_type": "stream",
     "text": [
      "Training the model\n",
      "\n",
      "[LibLinear]Predicted Label for the input samples:\n",
      " [1 1 1 0 1 1 1 0 0 0 1 1 1 1 1 1 0 1 1 0 1 0 1 0 0 1 0 0 1 1 1 0 1 1 0 0 0\n",
      " 1 0 0 1 1 1 0 1 0 0 1 0 1 1 0 0 1 0 1 0 1 0 1 1 1 0 1 1 0 1 0 0 0 0 0 0 1\n",
      " 0 1 0 0 0 1 1 0 1 0 1 0 1 0 1 0 0 1 1 0 1 0 1 1 0 1 1 0 1 0 1 0 0 0 1 1 1\n",
      " 1 1 1 1 0 0 1 0 0 0 0 1 0 0 1 1 1 1 1 1 1 1 1 1 0 1 0 0 0 0 0 0 0 0 0 0 1\n",
      " 1 1 1 1 1 0 0 1 0 0 0 0 0 0 0 1 1 0 0 1 1 0 1 1 0 1 1 0 1 0 1 1 1 0 0 1 0\n",
      " 0 1 0 0 0 0 0 1 0 0 1 1 1 1 0 1 1 1 1 0 1 0 1 1 1 0 1 1 1 1 0 0 1 0 1 1 0\n",
      " 1 0 1 0 0 1 1 1 1 1 0 1 1 1 0 1 1 0 0 0 0 1 0 1 0 0 0 0]\n",
      "\n",
      "Testing is completed\n",
      "\n",
      "Testing samples are: \t 250\n",
      "********************Performance Measures for Logistic Regression Classification******************\n",
      "Accuracy Score:\t\n",
      " 0.736\n",
      "\n",
      "================================================================================\n",
      "Confusion Matrix:\n",
      " [[87 34]\n",
      " [32 97]]\n",
      "\n",
      "================================================================================\n",
      "Classification Report:\n",
      "               precision    recall  f1-score   support\n",
      "\n",
      "           0       0.73      0.72      0.72       121\n",
      "           1       0.74      0.75      0.75       129\n",
      "\n",
      "    accuracy                           0.74       250\n",
      "   macro avg       0.74      0.74      0.74       250\n",
      "weighted avg       0.74      0.74      0.74       250\n",
      "\n",
      "================================================================================\n"
     ]
    },
    {
     "name": "stderr",
     "output_type": "stream",
     "text": [
      "C:\\Users\\vamsi\\AppData\\Roaming\\Python\\Python311\\site-packages\\sklearn\\utils\\validation.py:1111: DataConversionWarning: A column-vector y was passed when a 1d array was expected. Please change the shape of y to (n_samples, ), for example using ravel().\n",
      "  y = column_or_1d(y, warn=True)\n"
     ]
    }
   ],
   "source": [
    "from sklearn.linear_model import LogisticRegression\n",
    "from sklearn.metrics import accuracy_score\n",
    "from sklearn.metrics import confusion_matrix\n",
    "from sklearn.metrics import classification_report\n",
    "#invoke the log reg algorithm from sklearn\n",
    "log_reg=LogisticRegression(solver='liblinear',verbose=2)\n",
    "#Train the model\n",
    "print('Training the model\\n')\n",
    "log_reg.fit(xtrain,ytrain)\n",
    "#Test the model\n",
    "ypred=log_reg.predict(xtest)\n",
    "print('Predicted Label for the input samples:\\n',ypred)\n",
    "print()\n",
    "print('Testing is completed\\n')\n",
    "print('Testing samples are: \\t',len(ypred))\n",
    "print('********************Performance Measures for Logistic Regression Classification******************')\n",
    "accuracy_upsampled=accuracy_score(ytest,ypred)\n",
    "print('Accuracy Score:\\t\\n',accuracy_upsampled)\n",
    "print()\n",
    "print('='*80)\n",
    "print('Confusion Matrix:\\n',confusion_matrix(ytest,ypred))\n",
    "print()\n",
    "print('='*80)\n",
    "print('Classification Report:\\n',classification_report(ytest,ypred))\n",
    "print('='*80)"
   ]
  },
  {
   "cell_type": "code",
   "execution_count": 15,
   "id": "5c409437",
   "metadata": {},
   "outputs": [
    {
     "name": "stdout",
     "output_type": "stream",
     "text": [
      "Majority lenght:\t 500\n",
      "\n",
      "Minority Length:\t 268\n",
      "====================================================================================================\n",
      "(536, 9)\n",
      "\n",
      "Axes(0.125,0.11;0.775x0.77)\n"
     ]
    },
    {
     "data": {
      "image/png": "[encoded data removed]",
      "text/plain": [
       "<Figure size 640x480 with 1 Axes>"
      ]
     },
     "metadata": {},
     "output_type": "display_data"
    }
   ],
   "source": [
    "from sklearn.utils import resample\n",
    "df_majority=data[data.Outcome==0]\n",
    "df_minority=data[data.Outcome==1]\n",
    "print('Majority lenght:\\t',len(df_majority))\n",
    "print()\n",
    "print('Minority Length:\\t',len(df_minority))\n",
    "print('='*100)\n",
    "#Upsample\n",
    "df_majority_downsampled=resample(df_majority,\n",
    " replace=False, # sample with replacement\n",
    " n_samples=268, #to match the majority class\n",
    " random_state=12\n",
    " )\n",
    "df_downsampled=pd.concat([df_majority_downsampled,df_minority])\n",
    "print(df_downsampled.shape)\n",
    "print()\n",
    "print(sns.countplot(df_downsampled,x='Outcome'))"
   ]
  },
  {
   "cell_type": "code",
   "execution_count": 16,
   "id": "0d39225d",
   "metadata": {},
   "outputs": [
    {
     "name": "stdout",
     "output_type": "stream",
     "text": [
      "****************Training Data Shape********************\n",
      "\n",
      "Training data-X- Shape:\t (402, 8)\n",
      "\n",
      "Training data-y- Shape:\t (402, 1)\n",
      "\n",
      "****************Testing Data Shape********************\n",
      "\n",
      "Testing data(x-Input) Shape:\t (134, 8)\n",
      "\n",
      "Testing data(y-Outcome) Shape:\t (134, 1)\n"
     ]
    }
   ],
   "source": [
    "x=df_downsampled.iloc[:,:-1]\n",
    "y=df_downsampled.iloc[:,-1:]\n",
    "xtrain,xtest,ytrain,ytest=train_test_split(x,y,test_size=.25,random_state=2)\n",
    "print('****************Training Data Shape********************\\n')\n",
    "print('Training data-X- Shape:\\t',xtrain.shape)\n",
    "print()\n",
    "print('Training data-y- Shape:\\t',ytrain.shape)\n",
    "print()\n",
    "print('****************Testing Data Shape********************\\n')\n",
    "print('Testing data(x-Input) Shape:\\t',xtest.shape)\n",
    "print()\n",
    "print('Testing data(y-Outcome) Shape:\\t',ytest.shape)\n"
   ]
  },
  {
   "cell_type": "code",
   "execution_count": 17,
   "id": "6df9ba96",
   "metadata": {},
   "outputs": [
    {
     "name": "stdout",
     "output_type": "stream",
     "text": [
      "Training the model\n",
      "\n",
      "[LibLinear]Predicted Label for the input samples:\n",
      " [0 1 0 1 1 1 1 1 0 1 1 1 1 0 0 1 0 1 0 1 0 1 0 1 1 1 0 1 0 1 1 1 0 0 1 1 1\n",
      " 1 0 0 0 0 1 0 0 0 1 0 0 1 1 1 1 1 1 1 0 1 1 1 0 1 0 0 1 1 0 1 1 0 0 0 0 1\n",
      " 0 1 0 1 0 1 0 1 0 0 0 0 0 0 1 1 0 0 1 0 1 0 1 1 1 1 0 0 0 0 0 0 1 1 1 0 1\n",
      " 0 1 1 0 1 0 1 1 0 0 0 1 0 1 1 0 0 0 0 0 1 1 1]\n",
      "\n",
      "Testing is completed\n",
      "\n",
      "Testing samples are: \t 134\n",
      "********************Performance Measures for Logistic Regression Classification******************\n",
      "\n",
      "Accuracy Score:\t 0.7238805970149254\n",
      "\n",
      "================================================================================\n",
      "Confusion Matrix:\n",
      " [[49 22]\n",
      " [15 48]]\n",
      "\n",
      "================================================================================\n",
      "Classification Report:\n",
      "               precision    recall  f1-score   support\n",
      "\n",
      "           0       0.77      0.69      0.73        71\n",
      "           1       0.69      0.76      0.72        63\n",
      "\n",
      "    accuracy                           0.72       134\n",
      "   macro avg       0.73      0.73      0.72       134\n",
      "weighted avg       0.73      0.72      0.72       134\n",
      "\n",
      "================================================================================\n"
     ]
    },
    {
     "name": "stderr",
     "output_type": "stream",
     "text": [
      "C:\\Users\\vamsi\\AppData\\Roaming\\Python\\Python311\\site-packages\\sklearn\\utils\\validation.py:1111: DataConversionWarning: A column-vector y was passed when a 1d array was expected. Please change the shape of y to (n_samples, ), for example using ravel().\n",
      "  y = column_or_1d(y, warn=True)\n"
     ]
    }
   ],
   "source": [
    "from sklearn.linear_model import LogisticRegression\n",
    "from sklearn.metrics import accuracy_score\n",
    "from sklearn.metrics import confusion_matrix\n",
    "from sklearn.metrics import classification_report\n",
    "#invoke the log reg algorithm from sklearn\n",
    "log_reg=LogisticRegression(solver='liblinear',verbose=2)\n",
    "#Train the model\n",
    "print('Training the model\\n')\n",
    "log_reg.fit(xtrain,ytrain)\n",
    "#Test the model\n",
    "ypred=log_reg.predict(xtest)\n",
    "print('Predicted Label for the input samples:\\n',ypred)\n",
    "print()\n",
    "print('Testing is completed\\n')\n",
    "print('Testing samples are: \\t',len(ypred))\n",
    "print('********************Performance Measures for Logistic Regression Classification******************')\n",
    "accuracy_downsampled=accuracy_score(ytest,ypred)\n",
    "print('\\nAccuracy Score:\\t',accuracy_downsampled)\n",
    "print()\n",
    "print('='*80)\n",
    "print('Confusion Matrix:\\n',confusion_matrix(ytest,ypred))\n",
    "print()\n",
    "print('='*80)\n",
    "print('Classification Report:\\n',classification_report(ytest,ypred))\n",
    "print('='*80)"
   ]
  },
  {
   "cell_type": "code",
   "execution_count": 23,
   "id": "55c78a72",
   "metadata": {},
   "outputs": [
    {
     "name": "stdout",
     "output_type": "stream",
     "text": [
      "SMOTE Upsampling Accuracy: 0.7532467532467533\n",
      "RandomUnderSampler Downsampling Accuracy: 0.7402597402597403\n"
     ]
    }
   ],
   "source": [
    "from sklearn.utils import resample\n",
    "from imblearn.over_sampling import SMOTE\n",
    "from imblearn.under_sampling import RandomUnderSampler\n",
    "from sklearn.metrics import accuracy_score\n",
    "\n",
    "# Upsampling with SMOTE\n",
    "smote = SMOTE(sampling_strategy='auto')\n",
    "X_train_upsampled, y_train_upsampled = smote.fit_resample(X_train_scaled, y_train)\n",
    "\n",
    "# Downsampling with RandomUnderSampler\n",
    "rus = RandomUnderSampler(sampling_strategy='auto')\n",
    "X_train_downsampled, y_train_downsampled = rus.fit_resample(X_train_scaled, y_train)\n",
    "\n",
    "# Train and evaluate the model after upsampling\n",
    "model.fit(X_train_upsampled, y_train_upsampled)\n",
    "y_pred_upsampled = model.predict(X_test_scaled)\n",
    "accuracy_upsampled = accuracy_score(y_test, y_pred_upsampled)\n",
    "\n",
    "# Train and evaluate the model after downsampling\n",
    "model.fit(X_train_downsampled, y_train_downsampled)\n",
    "y_pred_downsampled = model.predict(X_test_scaled)\n",
    "accuracy_downsampled = accuracy_score(y_test, y_pred_downsampled)\n",
    "\n",
    "print(\"SMOTE Upsampling Accuracy:\", accuracy_upsampled)\n",
    "print(\"RandomUnderSampler Downsampling Accuracy:\", accuracy_downsampled)\n"
   ]
  },
  {
   "cell_type": "code",
   "execution_count": 30,
   "id": "460f6fbd",
   "metadata": {},
   "outputs": [
    {
     "name": "stdout",
     "output_type": "stream",
     "text": [
      "\n",
      "SMOTE Accuracy:\t 0.7402597402597403\n"
     ]
    }
   ],
   "source": [
    "# Handling class imbalance with SMOTE\n",
    "from imblearn.over_sampling import SMOTE\n",
    "\n",
    "smote = SMOTE(sampling_strategy='auto')\n",
    "X_train_resampled, y_train_resampled = smote.fit_resample(X_train_scaled, y_train)\n",
    "\n",
    "ran_f.fit(X_train_resampled, y_train_resampled)\n",
    "y_pred = ran_f.predict(X_test_scaled)\n",
    "accuracy_smote = accuracy_score(y_test, y_pred)\n",
    "\n",
    "print(\"\\nSMOTE Accuracy:\\t\", accuracy_smote)"
   ]
  },
  {
   "cell_type": "markdown",
   "id": "50306841",
   "metadata": {},
   "source": [
    "# GridSearchCV"
   ]
  },
  {
   "cell_type": "code",
   "execution_count": 31,
   "id": "fd66d56d",
   "metadata": {},
   "outputs": [
    {
     "name": "stdout",
     "output_type": "stream",
     "text": [
      "\n",
      "GridSearchCV Best Parameters: {'max_depth': 20, 'n_estimators': 300}\n",
      "\n",
      "GridSearchCV Accuracy:\t 0.7597402597402597\n"
     ]
    }
   ],
   "source": [
    "# Model\n",
    "from sklearn.ensemble import RandomForestClassifier\n",
    "\n",
    "model = RandomForestClassifier()  \n",
    "\n",
    "# Hyperparameter tuning with GridSearchCV\n",
    "from sklearn.model_selection import GridSearchCV\n",
    "\n",
    "param_grid = {'n_estimators': [100, 200, 300], 'max_depth': [10, 20, 30]}\n",
    "grid_search = GridSearchCV(model, param_grid, cv=5)\n",
    "grid_search.fit(X_train_resampled, y_train_resampled)\n",
    "print(\"\\nGridSearchCV Best Parameters:\", grid_search.best_params_)\n",
    "\n",
    "best_model = grid_search.best_estimator_\n",
    "y_pred = best_model.predict(X_test_scaled)\n",
    "accuracy_grid_search_cv = accuracy_score(y_test, y_pred)\n",
    "\n",
    "print(\"\\nGridSearchCV Accuracy:\\t\", accuracy_grid_search_cv)\n"
   ]
  },
  {
   "cell_type": "markdown",
   "id": "6763c60f",
   "metadata": {},
   "source": [
    "# RandomizedSearchCV"
   ]
  },
  {
   "cell_type": "code",
   "execution_count": 32,
   "id": "2ced13e7",
   "metadata": {},
   "outputs": [
    {
     "name": "stdout",
     "output_type": "stream",
     "text": [
      "\n",
      "RandomizedSearchCV Best Parameters: {'n_estimators': 900, 'max_depth': 80}\n",
      "\n",
      "RandomizedSearchCV Accuracy:\t 0.7337662337662337\n"
     ]
    }
   ],
   "source": [
    "# Hyperparameter tuning with RandomizedSearchCV\n",
    "from sklearn.model_selection import RandomizedSearchCV\n",
    "\n",
    "random_param_grid = {'n_estimators': np.arange(100, 1000, 100), 'max_depth': np.arange(10, 100, 10)}\n",
    "random_search = RandomizedSearchCV(model, random_param_grid, n_iter=10, cv=5)\n",
    "random_search.fit(X_train_resampled, y_train_resampled)\n",
    "print(\"\\nRandomizedSearchCV Best Parameters:\", random_search.best_params_)\n",
    "\n",
    "best_model = random_search.best_estimator_\n",
    "y_pred = best_model.predict(X_test_scaled)\n",
    "accuracy_ran_search_cv = accuracy_score(y_test, y_pred)\n",
    "\n",
    "print(\"\\nRandomizedSearchCV Accuracy:\\t\", accuracy_ran_search_cv)"
   ]
  },
  {
   "cell_type": "markdown",
   "id": "b154005c",
   "metadata": {},
   "source": [
    "# Cross-validation"
   ]
  },
  {
   "cell_type": "code",
   "execution_count": 33,
   "id": "3159707a",
   "metadata": {},
   "outputs": [
    {
     "name": "stdout",
     "output_type": "stream",
     "text": [
      "\n",
      "K-Fold Cross-Validation Accuracy:\t 0.8242546583850932\n"
     ]
    }
   ],
   "source": [
    "# Cross-validation\n",
    "from sklearn.model_selection import KFold,LeaveOneOut,cross_val_score\n",
    "\n",
    "kfold = KFold(n_splits=5)\n",
    "loocv = LeaveOneOut()\n",
    "cv_scores = cross_val_score(model, X_train_resampled, y_train_resampled, cv=kfold) \n",
    "\n",
    "average_accuracy = np.mean(cv_scores)\n",
    "\n",
    "print(\"\\nK-Fold Cross-Validation Accuracy:\\t\", average_accuracy)"
   ]
  },
  {
   "cell_type": "code",
   "execution_count": 34,
   "id": "4e32f5dc",
   "metadata": {},
   "outputs": [
    {
     "name": "stdout",
     "output_type": "stream",
     "text": [
      "\n",
      "Accuracy: 0.7532467532467533\n",
      "\n",
      "F1 Score: 0.6885245901639345\n"
     ]
    }
   ],
   "source": [
    "# Train and evaluate the model\n",
    "model.fit(X_train_resampled, y_train_resampled)\n",
    "y_pred = model.predict(X_test_scaled)\n",
    "accuracy = accuracy_score(y_test, y_pred)\n",
    "print(\"\\nAccuracy:\", accuracy)\n",
    "f1 = f1_score(y_test, y_pred)\n",
    "print(\"\\nF1 Score:\", f1)"
   ]
  },
  {
   "cell_type": "markdown",
   "id": "9f698358",
   "metadata": {},
   "source": [
    "# Receiver Operating Characteristic "
   ]
  },
  {
   "cell_type": "code",
   "execution_count": 35,
   "id": "e23b24c1",
   "metadata": {},
   "outputs": [
    {
     "name": "stdout",
     "output_type": "stream",
     "text": [
      "\n",
      "Confusion Matrix:\n",
      "[[74 25]\n",
      " [13 42]]\n",
      "\n",
      "AUC: 0.8220385674931129\n",
      "\n",
      "Feature Importance:\n",
      "                    Feature  Importance\n",
      "1                   Glucose    0.247180\n",
      "5                       BMI    0.178709\n",
      "7                       Age    0.160977\n",
      "6  DiabetesPedigreeFunction    0.103804\n",
      "2             BloodPressure    0.087795\n",
      "0               Pregnancies    0.086403\n",
      "3             SkinThickness    0.070862\n",
      "4                   Insulin    0.064270\n"
     ]
    }
   ],
   "source": [
    "print(\"\\nConfusion Matrix:\")\n",
    "print(confusion_matrix(y_test, y_pred))\n",
    "# Receiver Operating Characteristic (ROC) Curve and Area Under the Curve (AUC)\n",
    "y_prob = model.predict_proba(X_test_scaled)[:, 1]\n",
    "fpr, tpr, thresholds = roc_curve(y_test, y_prob)\n",
    "auc = roc_auc_score(y_test, y_prob)\n",
    "print(\"\\nAUC:\", auc)\n",
    "\n",
    "# Feature Importance\n",
    "feature_importances = model.feature_importances_\n",
    "feature_names = X.columns\n",
    "importance_df = pd.DataFrame({'Feature': feature_names, 'Importance': feature_importances})\n",
    "importance_df = importance_df.sort_values(by='Importance', ascending=False)\n",
    "print(\"\\nFeature Importance:\")\n",
    "print(importance_df)"
   ]
  },
  {
   "cell_type": "markdown",
   "id": "40339e3a",
   "metadata": {},
   "source": [
    "# Summary"
   ]
  },
  {
   "cell_type": "code",
   "execution_count": 36,
   "id": "ea38ca29",
   "metadata": {},
   "outputs": [
    {
     "name": "stdout",
     "output_type": "stream",
     "text": [
      "Summary:\n",
      "\n",
      "Accuracy: 0.7532467532467533\n",
      "\n",
      "F1 Score: 0.6885245901639345\n",
      "\n",
      "AUC: 0.8220385674931129\n",
      "\n",
      "GridSearchCV Best Parameters: {'max_depth': 20, 'n_estimators': 300}\n",
      "\n",
      "RandomizedSearchCV Best Parameters: {'n_estimators': 900, 'max_depth': 80}\n",
      "\n",
      "Feature Importance:\n",
      "                    Feature  Importance\n",
      "1                   Glucose    0.247180\n",
      "5                       BMI    0.178709\n",
      "7                       Age    0.160977\n",
      "6  DiabetesPedigreeFunction    0.103804\n",
      "2             BloodPressure    0.087795\n",
      "0               Pregnancies    0.086403\n",
      "3             SkinThickness    0.070862\n",
      "4                   Insulin    0.064270\n",
      "\n",
      "\n",
      "Feature Scaling Accuracy:\t 0.7467532467532467\n",
      "\n",
      "LDA Accuracy:\t 0.7597402597402597\n",
      "\n",
      "PCA Accuracy:\t 0.6753246753246753\n",
      "\n",
      "SMOTE Accuracy:\t 0.7402597402597403\n",
      "\n",
      "SMOTE Upsampling Accuracy:\t 0.7532467532467533\n",
      "\n",
      "Accuracy Score after Down sampling:\t 0.7402597402597403\n",
      "\n",
      "RandomUnderSampler Downsampling Accuracy:\t 0.7402597402597403\n",
      "\n",
      "GridSearchCV Accuracy:\t 0.7597402597402597\n",
      "\n",
      "RandomizedSearchCV Accuracy:\t 0.7337662337662337\n",
      "\n",
      "K-Fold Cross-Validation Accuracy:\t 0.8242546583850932\n"
     ]
    }
   ],
   "source": [
    "# Summary\n",
    "print(\"Summary:\")\n",
    "print(\"\\nAccuracy:\", accuracy)\n",
    "print(\"\\nF1 Score:\", f1)\n",
    "print(\"\\nAUC:\", auc)\n",
    "print(\"\\nGridSearchCV Best Parameters:\", grid_search.best_params_)\n",
    "print(\"\\nRandomizedSearchCV Best Parameters:\", random_search.best_params_)\n",
    "print(\"\\nFeature Importance:\")\n",
    "print(importance_df)\n",
    "\n",
    "print(\"\\n\\nFeature Scaling Accuracy:\\t\", accuracy_scalling)\n",
    "print(\"\\nLDA Accuracy:\\t\", accuracy_LDA)\n",
    "print(\"\\nPCA Accuracy:\\t\", accuracy_PCA)\n",
    "print(\"\\nSMOTE Accuracy:\\t\", accuracy_smote)\n",
    "print(\"\\nSMOTE Upsampling Accuracy:\\t\", accuracy_upsampled)\n",
    "print('\\nAccuracy Score after Down sampling:\\t',accuracy_downsampled)\n",
    "print(\"\\nRandomUnderSampler Downsampling Accuracy:\\t\", accuracy_downsampled)\n",
    "print(\"\\nGridSearchCV Accuracy:\\t\", accuracy_grid_search_cv)\n",
    "print(\"\\nRandomizedSearchCV Accuracy:\\t\", accuracy_ran_search_cv)\n",
    "print(\"\\nK-Fold Cross-Validation Accuracy:\\t\", average_accuracy)\n"
   ]
  },
  {
   "cell_type": "markdown",
   "id": "0447586e",
   "metadata": {},
   "source": [
    "# ROC Curve"
   ]
  },
  {
   "cell_type": "code",
   "execution_count": 37,
   "id": "843adac4",
   "metadata": {},
   "outputs": [
    {
     "data": {
      "image/png": "[encoded data removed]",
      "text/plain": [
       "<Figure size 640x480 with 1 Axes>"
      ]
     },
     "metadata": {},
     "output_type": "display_data"
    }
   ],
   "source": [
    "# Plot ROC Curve\n",
    "plt.figure()\n",
    "plt.plot(fpr, tpr, label=f'ROC Curve (AUC = {auc:.2f})')\n",
    "plt.plot([0, 1], [0, 1], 'k--')\n",
    "plt.xlim([0.0, 1.0])\n",
    "plt.ylim([0.0, 1.05])\n",
    "plt.xlabel('False Positive Rate')\n",
    "plt.ylabel('True Positive Rate')\n",
    "plt.title('Receiver Operating Characteristic (ROC) Curve')\n",
    "plt.legend(loc='lower right')\n",
    "plt.show()\n",
    "\n"
   ]
  },
  {
   "cell_type": "code",
   "execution_count": null,
   "id": "497ad0f7",
   "metadata": {},
   "outputs": [],
   "source": []
  },
  {
   "cell_type": "code",
   "execution_count": null,
   "id": "181a6cb0",
   "metadata": {},
   "outputs": [],
   "source": []
  },
  {
   "cell_type": "code",
   "execution_count": null,
   "id": "44b81f91",
   "metadata": {},
   "outputs": [],
   "source": []
  }
 ],
 "metadata": {
  "kernelspec": {
   "display_name": "Python 3 (ipykernel)",
   "language": "python",
   "name": "python3"
  },
  "language_info": {
   "codemirror_mode": {
    "name": "ipython",
    "version": 3
   },
   "file_extension": ".py",
   "mimetype": "text/x-python",
   "name": "python",
   "nbconvert_exporter": "python",
   "pygments_lexer": "ipython3",
   "version": "3.11.4"
  }
 },
 "nbformat": 4,
 "nbformat_minor": 5
}
