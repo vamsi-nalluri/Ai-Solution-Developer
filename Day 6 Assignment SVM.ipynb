{
 "cells": [
  {
   "cell_type": "markdown",
   "id": "3bbf1970",
   "metadata": {},
   "source": [
    "# SVM"
   ]
  },
  {
   "cell_type": "code",
   "execution_count": 1,
   "id": "46b087fd",
   "metadata": {},
   "outputs": [],
   "source": [
    "import numpy as np\n",
    "import pandas as pd\n",
    "import matplotlib.pyplot as plt\n",
    "import seaborn as sns\n",
    "from sklearn.svm import SVR,SVC\n",
    "from sklearn.model_selection import train_test_split\n",
    "from sklearn.metrics import mean_squared_error,r2_score,f1_score,accuracy_score,precision_score,recall_score"
   ]
  },
  {
   "cell_type": "code",
   "execution_count": 2,
   "id": "28bc8e3e",
   "metadata": {},
   "outputs": [],
   "source": [
    "import warnings\n",
    "# Suppress future warnings\n",
    "warnings.simplefilter(action='ignore', category=FutureWarning)"
   ]
  },
  {
   "cell_type": "code",
   "execution_count": 3,
   "id": "b9e2043c",
   "metadata": {},
   "outputs": [
    {
     "data": {
      "text/html": [
       "<div>\n",
       "<style scoped>\n",
       "    .dataframe tbody tr th:only-of-type {\n",
       "        vertical-align: middle;\n",
       "    }\n",
       "\n",
       "    .dataframe tbody tr th {\n",
       "        vertical-align: top;\n",
       "    }\n",
       "\n",
       "    .dataframe thead th {\n",
       "        text-align: right;\n",
       "    }\n",
       "</style>\n",
       "<table border=\"1\" class=\"dataframe\">\n",
       "  <thead>\n",
       "    <tr style=\"text-align: right;\">\n",
       "      <th></th>\n",
       "      <th>clientid</th>\n",
       "      <th>income</th>\n",
       "      <th>age</th>\n",
       "      <th>loan</th>\n",
       "      <th>Credit_risk_score</th>\n",
       "    </tr>\n",
       "  </thead>\n",
       "  <tbody>\n",
       "    <tr>\n",
       "      <th>0</th>\n",
       "      <td>1</td>\n",
       "      <td>66155.92510</td>\n",
       "      <td>59.017015</td>\n",
       "      <td>8106.532131</td>\n",
       "      <td>0</td>\n",
       "    </tr>\n",
       "    <tr>\n",
       "      <th>1</th>\n",
       "      <td>2</td>\n",
       "      <td>34415.15397</td>\n",
       "      <td>48.117153</td>\n",
       "      <td>6564.745018</td>\n",
       "      <td>0</td>\n",
       "    </tr>\n",
       "    <tr>\n",
       "      <th>2</th>\n",
       "      <td>3</td>\n",
       "      <td>57317.17006</td>\n",
       "      <td>63.108049</td>\n",
       "      <td>8020.953296</td>\n",
       "      <td>0</td>\n",
       "    </tr>\n",
       "    <tr>\n",
       "      <th>3</th>\n",
       "      <td>4</td>\n",
       "      <td>42709.53420</td>\n",
       "      <td>45.751972</td>\n",
       "      <td>6103.642260</td>\n",
       "      <td>0</td>\n",
       "    </tr>\n",
       "    <tr>\n",
       "      <th>4</th>\n",
       "      <td>5</td>\n",
       "      <td>66952.68885</td>\n",
       "      <td>18.584336</td>\n",
       "      <td>8770.099235</td>\n",
       "      <td>1</td>\n",
       "    </tr>\n",
       "  </tbody>\n",
       "</table>\n",
       "</div>"
      ],
      "text/plain": [
       "   clientid       income        age         loan  Credit_risk_score\n",
       "0         1  66155.92510  59.017015  8106.532131                  0\n",
       "1         2  34415.15397  48.117153  6564.745018                  0\n",
       "2         3  57317.17006  63.108049  8020.953296                  0\n",
       "3         4  42709.53420  45.751972  6103.642260                  0\n",
       "4         5  66952.68885  18.584336  8770.099235                  1"
      ]
     },
     "execution_count": 3,
     "metadata": {},
     "output_type": "execute_result"
    }
   ],
   "source": [
    "data=pd.read_csv('SVM.csv')\n",
    "data.head()"
   ]
  },
  {
   "cell_type": "code",
   "execution_count": 4,
   "id": "fd1261f9",
   "metadata": {},
   "outputs": [
    {
     "data": {
      "text/plain": [
       "clientid             0\n",
       "income               0\n",
       "age                  3\n",
       "loan                 0\n",
       "Credit_risk_score    0\n",
       "dtype: int64"
      ]
     },
     "execution_count": 4,
     "metadata": {},
     "output_type": "execute_result"
    }
   ],
   "source": [
    "data.isna().sum()"
   ]
  },
  {
   "cell_type": "code",
   "execution_count": 5,
   "id": "b955bf02",
   "metadata": {},
   "outputs": [],
   "source": [
    "data=data.fillna(method='bfill')"
   ]
  },
  {
   "cell_type": "code",
   "execution_count": 6,
   "id": "6cf6ee56",
   "metadata": {},
   "outputs": [
    {
     "data": {
      "text/plain": [
       "clientid             0\n",
       "income               0\n",
       "age                  0\n",
       "loan                 0\n",
       "Credit_risk_score    0\n",
       "dtype: int64"
      ]
     },
     "execution_count": 6,
     "metadata": {},
     "output_type": "execute_result"
    }
   ],
   "source": [
    "data.isna().sum()"
   ]
  },
  {
   "cell_type": "code",
   "execution_count": 7,
   "id": "369115d8",
   "metadata": {},
   "outputs": [
    {
     "name": "stdout",
     "output_type": "stream",
     "text": [
      "X shape:\t (2000, 4)\n",
      "\n",
      "Y shape:\t (2000, 1)\n"
     ]
    }
   ],
   "source": [
    "x=data.iloc[:,:-1]\n",
    "y=data.iloc[:,-1:]\n",
    "print('X shape:\\t',x.shape)\n",
    "print()\n",
    "print('Y shape:\\t',y.shape)"
   ]
  },
  {
   "cell_type": "code",
   "execution_count": 8,
   "id": "44d045f8",
   "metadata": {},
   "outputs": [
    {
     "name": "stdout",
     "output_type": "stream",
     "text": [
      "****************Training Data Shape********************\n",
      "\n",
      "Training data-X- Shape:\t (1800, 4)\n",
      "\n",
      "Training data-y- Shape:\t (1800, 1)\n",
      "\n",
      "****************Testing Data Shape********************\n",
      "\n",
      "Testing data(x-Input) Shape:\t (200, 4)\n",
      "\n",
      "Testing data(y-Outcome) Shape:\t (200, 1)\n"
     ]
    }
   ],
   "source": [
    "xtrain,xtest,ytrain,ytest=train_test_split(x,y,test_size=.1,random_state=2)\n",
    "print('****************Training Data Shape********************\\n')\n",
    "print('Training data-X- Shape:\\t',xtrain.shape)\n",
    "print()\n",
    "print('Training data-y- Shape:\\t',ytrain.shape)\n",
    "print()\n",
    "print('****************Testing Data Shape********************\\n')\n",
    "print('Testing data(x-Input) Shape:\\t',xtest.shape)\n",
    "print()\n",
    "print('Testing data(y-Outcome) Shape:\\t',ytest.shape)\n"
   ]
  },
  {
   "cell_type": "code",
   "execution_count": 9,
   "id": "3bc07303",
   "metadata": {},
   "outputs": [
    {
     "name": "stdout",
     "output_type": "stream",
     "text": [
      "====================================================================================================\n",
      "Hyperparameter:\n",
      " {'C': 1.0, 'break_ties': False, 'cache_size': 200, 'class_weight': None, 'coef0': 0.0, 'decision_function_shape': 'ovr', 'degree': 3, 'gamma': 'scale', 'kernel': 'linear', 'max_iter': -1, 'probability': False, 'random_state': None, 'shrinking': True, 'tol': 0.001, 'verbose': False}\n",
      "====================================================================================================\n",
      "Predicted price:\n",
      " [1 1 0 0 0 0 0 0 1 0 0 0 0 0 0 0 0 0 0 1 0 0 0 0 0 0 0 0 0 0 0 0 0 0 0 0 1\n",
      " 0 0 0 0 0 0 1 0 0 0 0 0 0 0 0 0 1 0 1 1 0 0 1 1 0 1 1 1 0 0 1 0 0 0 0 0 0\n",
      " 1 0 0 1 0 0 0 0 1 0 0 0 1 0 0 0 0 0 0 1 0 0 0 1 1 1 0 0 0 0 0 0 1 0 0 0 1\n",
      " 0 0 0 1 1 1 0 0 0 1 0 0 0 0 0 0 0 0 1 0 0 1 0 0 0 0 0 0 0 0 0 0 0 0 0 0 0\n",
      " 0 1 0 0 0 0 0 0 0 0 0 0 0 0 0 0 0 1 0 1 0 0 1 0 0 0 0 0 0 0 0 1 1 1 0 1 0\n",
      " 0 0 0 0 0 1 1 1 0 0 0 1 0 1 1]\n",
      "====================================================================================================\n",
      "Mean Squared Error:\t 0.065\n",
      "\n",
      "RMSE:\t 0.25495097567963926\n",
      "\n",
      "R-Square value:\t 0.6081977094635322\n",
      "\n",
      "F1 Score value:\t 0.8505747126436781\n",
      "\n",
      "Recall Score value:\t 0.8809523809523809\n",
      "\n",
      "Precision Score value:\t 0.8222222222222222\n"
     ]
    }
   ],
   "source": [
    "#SVC with linear kernal \n",
    "ytrain = ytrain.values.ravel()\n",
    "ytest = ytest.values.ravel()\n",
    "lin_svc=SVC(kernel='linear')\n",
    "print('='*100)\n",
    "print('Hyperparameter:\\n',lin_svc.get_params())\n",
    "print('='*100)\n",
    "#Train phase\n",
    "lin_svc.fit(xtrain,ytrain)\n",
    "#Testing phase\n",
    "ypred=lin_svc.predict(xtest)\n",
    "print('Predicted price:\\n',ypred)\n",
    "print('='*100)\n",
    "#Performance measures\n",
    "print('Mean Squared Error:\\t',mean_squared_error(ytest,ypred))\n",
    "print()\n",
    "print('RMSE:\\t',np.sqrt(mean_squared_error(ytest,ypred)))\n",
    "print()\n",
    "print('R-Square value:\\t',r2_score(ytest,ypred))\n",
    "print()\n",
    "print('F1 Score value:\\t',f1_score(ytest,ypred))\n",
    "print()\n",
    "print('Recall Score value:\\t',recall_score(ytest,ypred))\n",
    "print()\n",
    "print('Precision Score value:\\t',precision_score(ytest,ypred))\n",
    "support_vectors_lin = lin_svc.support_vectors_\n"
   ]
  },
  {
   "cell_type": "code",
   "execution_count": 10,
   "id": "c64026eb",
   "metadata": {},
   "outputs": [],
   "source": [
    "from sklearn.model_selection import GridSearchCV\n",
    "from sklearn.metrics import roc_curve, auc\n",
    "from sklearn.preprocessing import label_binarize\n",
    "from sklearn.multiclass import OneVsRestClassifier\n",
    "from sklearn.preprocessing import StandardScaler"
   ]
  },
  {
   "cell_type": "code",
   "execution_count": 11,
   "id": "2c20466c",
   "metadata": {},
   "outputs": [],
   "source": [
    "# Hyperparameter Tuning\n",
    "# For Linear SVM\n",
    "param_grid_linear = {'C': [0.001, 0.01, 0.1, 1, 10]}\n",
    "grid_linear = GridSearchCV(SVC(kernel='linear'), param_grid=param_grid_linear, cv=5)\n",
    "grid_linear.fit(xtrain, ytrain)\n",
    "best_linear_svc = grid_linear.best_estimator_"
   ]
  },
  {
   "cell_type": "code",
   "execution_count": 12,
   "id": "3f8e19ba",
   "metadata": {},
   "outputs": [
    {
     "name": "stdout",
     "output_type": "stream",
     "text": [
      "\n",
      "\n",
      "Support Vectors in Linear SVM: 201\n",
      "\n",
      "\n",
      "Accuracy of Linear SVM: 0.925\n"
     ]
    }
   ],
   "source": [
    "# Support Vectors\n",
    "n_support_vectors_linear = len(best_linear_svc.support_)\n",
    "# Model Comparison\n",
    "linear_svc_accuracy = best_linear_svc.score(xtest, ytest)\n",
    "\n",
    "print(\"\\n\\nSupport Vectors in Linear SVM:\", n_support_vectors_linear)\n",
    "print()\n",
    "print(\"\\nAccuracy of Linear SVM:\", linear_svc_accuracy)\n"
   ]
  },
  {
   "cell_type": "code",
   "execution_count": 13,
   "id": "25f8b8d4",
   "metadata": {},
   "outputs": [
    {
     "name": "stdout",
     "output_type": "stream",
     "text": [
      "====================================================================================================\n",
      "Hyperparameter:\n",
      " {'C': 1.0, 'break_ties': False, 'cache_size': 200, 'class_weight': None, 'coef0': 0.0, 'decision_function_shape': 'ovr', 'degree': 3, 'gamma': 'scale', 'kernel': 'rbf', 'max_iter': -1, 'probability': False, 'random_state': None, 'shrinking': True, 'tol': 0.001, 'verbose': False}\n",
      "====================================================================================================\n",
      "Predicted price:\n",
      " [0 0 0 0 0 0 0 0 0 0 0 0 0 0 0 0 0 0 0 0 0 0 0 0 0 0 0 0 0 0 0 0 0 0 0 0 0\n",
      " 0 0 0 0 0 0 0 0 0 0 0 0 0 0 0 0 0 0 0 0 0 0 0 0 0 0 0 0 0 0 0 0 0 0 0 0 0\n",
      " 0 0 0 0 0 0 0 0 0 0 0 0 0 0 0 0 0 0 0 0 0 0 0 0 0 0 0 0 0 0 0 0 0 0 0 0 0\n",
      " 0 0 0 0 0 0 0 0 0 0 0 0 0 0 0 0 0 0 0 0 0 0 0 0 0 0 0 0 0 0 0 0 0 0 0 0 0\n",
      " 0 0 0 0 0 0 0 0 0 0 0 0 0 0 0 0 0 0 0 0 0 0 0 0 0 0 0 0 0 0 0 0 0 0 0 0 0\n",
      " 0 0 0 0 0 0 0 0 0 0 0 0 0 0 0]\n",
      "====================================================================================================\n",
      "Mean Squared Error:\t 0.21\n",
      "\n",
      "RMSE:\t 0.458257569495584\n",
      "\n",
      "R-Square value:\t -0.26582278481012667\n",
      "\n",
      "F1 Score value:\t 0.0\n",
      "\n",
      "Recall Score value:\t 0.0\n",
      "\n",
      "Precision Score value:\t 0.0\n"
     ]
    }
   ],
   "source": [
    "#SVC with non linear kernal \n",
    "non_lin_svc=SVC(kernel='rbf')\n",
    "print('='*100)\n",
    "print('Hyperparameter:\\n',non_lin_svc.get_params())\n",
    "print('='*100)\n",
    "#Train phase\n",
    "non_lin_svc.fit(xtrain,ytrain)\n",
    "#Testing phase\n",
    "ypred=non_lin_svc.predict(xtest)\n",
    "print('Predicted price:\\n',ypred)\n",
    "print('='*100)\n",
    "#Performance measures\n",
    "print('Mean Squared Error:\\t',mean_squared_error(ytest,ypred))\n",
    "print()\n",
    "print('RMSE:\\t',np.sqrt(mean_squared_error(ytest,ypred)))\n",
    "print()\n",
    "print('R-Square value:\\t',r2_score(ytest,ypred))\n",
    "print()\n",
    "print('F1 Score value:\\t',f1_score(ytest,ypred))\n",
    "print()\n",
    "print('Recall Score value:\\t',recall_score(ytest,ypred))\n",
    "print()\n",
    "print('Precision Score value:\\t',precision_score(ytest,ypred,zero_division=0))\n",
    "support_vectors_non_lin = non_lin_svc.support_vectors_\n"
   ]
  },
  {
   "cell_type": "code",
   "execution_count": 14,
   "id": "30e5eff9",
   "metadata": {},
   "outputs": [],
   "source": [
    "# Hyperparameter Tuning\n",
    "# For Non-linear SVM (RBF kernel)\n",
    "param_grid_rbf = {'C': [0.001, 0.01, 0.1, 1, 10], 'gamma': [0.001, 0.01, 0.1, 1]}\n",
    "grid_rbf = GridSearchCV(SVC(kernel='rbf'), param_grid=param_grid_rbf, cv=5)\n",
    "grid_rbf.fit(xtrain, ytrain)\n",
    "best_rbf_svc = grid_rbf.best_estimator_"
   ]
  },
  {
   "cell_type": "code",
   "execution_count": 15,
   "id": "47039e23",
   "metadata": {},
   "outputs": [
    {
     "name": "stdout",
     "output_type": "stream",
     "text": [
      "\n",
      "\n",
      "Support Vectors in RBF SVM: 722\n",
      "\n",
      "\n",
      "Accuracy of RBF SVM: 0.79\n"
     ]
    }
   ],
   "source": [
    "# Support Vectors\n",
    "n_support_vectors_rbf = len(best_rbf_svc.support_)\n",
    "\n",
    "# Model Comparison\n",
    "rbf_svc_accuracy = best_rbf_svc.score(xtest, ytest)\n",
    "\n",
    "print(\"\\n\\nSupport Vectors in RBF SVM:\", n_support_vectors_rbf)\n",
    "print()\n",
    "print(\"\\nAccuracy of RBF SVM:\", rbf_svc_accuracy)"
   ]
  },
  {
   "cell_type": "code",
   "execution_count": null,
   "id": "4729a218",
   "metadata": {},
   "outputs": [],
   "source": [
    "# Decision Boundary Visualization for a 2D plot (assuming you have two features)\n",
    "def plot_decision_boundary(clf, X, y, title):\n",
    "    clf.fit(X, y)\n",
    "    h = 2  # Increase the step size\n",
    "    x_min, x_max = X[:, 0].min() - 1, X[:, 0].max() + 1\n",
    "    y_min, y_max = X[:, 1].min() - 1, X[:, 1].max() + 1\n",
    "    xx, yy = np.meshgrid(np.arange(x_min, x_max, h), np.arange(y_min, y_max, h))\n",
    "    Z = clf.predict(np.c_[xx.ravel(), yy.ravel()])\n",
    "    Z = Z.reshape(xx.shape)\n",
    "    plt.contourf(xx, yy, Z, cmap=plt.cm.coolwarm, alpha=0.8)\n",
    "    plt.scatter(X[:, 0], X[:, 1], c=y, cmap=plt.cm.coolwarm)\n",
    "    plt.xlabel('Feature 1')\n",
    "    plt.ylabel('Feature 2')\n",
    "    plt.title(title)\n",
    "\n",
    "plt.figure(figsize=(12, 5))\n",
    "plt.subplot(121)\n",
    "xtrain_np = xtrain.values  # Convert xtrain to a NumPy array\n",
    "plot_decision_boundary(best_linear_svc, xtrain_np[:, :2], ytrain, \"Linear SVM Decision Boundary\")\n",
    "plt.subplot(122)\n",
    "plot_decision_boundary(best_rbf_svc, xtrain_np[:, :2], ytrain, \"RBF SVM Decision Boundary\")\n",
    "plt.show()\n"
   ]
  },
  {
   "cell_type": "code",
   "execution_count": null,
   "id": "beed69c6",
   "metadata": {},
   "outputs": [],
   "source": []
  },
  {
   "cell_type": "code",
   "execution_count": null,
   "id": "48d587a8",
   "metadata": {},
   "outputs": [],
   "source": []
  },
  {
   "cell_type": "code",
   "execution_count": null,
   "id": "6e301a08",
   "metadata": {},
   "outputs": [],
   "source": []
  },
  {
   "cell_type": "code",
   "execution_count": null,
   "id": "945718d8",
   "metadata": {},
   "outputs": [],
   "source": []
  },
  {
   "cell_type": "code",
   "execution_count": null,
   "id": "545fadfa",
   "metadata": {},
   "outputs": [],
   "source": []
  },
  {
   "cell_type": "code",
   "execution_count": 16,
   "id": "d43d4090",
   "metadata": {},
   "outputs": [
    {
     "name": "stdout",
     "output_type": "stream",
     "text": [
      "====================================================================================================\n",
      "Hyperparameter:\n",
      " {'C': 1.0, 'cache_size': 200, 'coef0': 0.0, 'degree': 3, 'epsilon': 0.1, 'gamma': 'scale', 'kernel': 'rbf', 'max_iter': -1, 'shrinking': True, 'tol': 0.001, 'verbose': False}\n",
      "====================================================================================================\n",
      "Predicted price:\n",
      " [0.10042254 0.10008862 0.10023459 0.10002392 0.09989947 0.09983988\n",
      " 0.10025629 0.09986388 0.09999985 0.10000313 0.1002814  0.0993424\n",
      " 0.09953842 0.09950034 0.09965678 0.09963458 0.09970319 0.09947028\n",
      " 0.10000169 0.10020762 0.10026903 0.09995559 0.09996819 0.0997577\n",
      " 0.09968637 0.09965524 0.09958266 0.09960992 0.099721   0.09985144\n",
      " 0.09979601 0.09969317 0.10014806 0.0995974  0.09962899 0.09946822\n",
      " 0.10002797 0.09965253 0.09984964 0.09980977 0.1000819  0.09995255\n",
      " 0.10013379 0.10023827 0.09988894 0.09947107 0.0998148  0.09962866\n",
      " 0.09983026 0.09979999 0.09990035 0.09958882 0.09937894 0.09990013\n",
      " 0.09926755 0.10025442 0.10037225 0.09991549 0.09968162 0.09988731\n",
      " 0.10006816 0.09973524 0.10007506 0.09983573 0.10003958 0.10007364\n",
      " 0.10013147 0.10033241 0.10010704 0.09962381 0.09970434 0.10025621\n",
      " 0.09938186 0.09961413 0.10033032 0.10035126 0.09996084 0.09976407\n",
      " 0.09994812 0.09958457 0.09961004 0.09996328 0.10003051 0.09989745\n",
      " 0.09959972 0.09989951 0.10013213 0.09993132 0.09972733 0.09932196\n",
      " 0.10009687 0.09960226 0.09942391 0.10006824 0.10009972 0.10012806\n",
      " 0.10003807 0.10004653 0.10015476 0.09995222 0.09987513 0.0998346\n",
      " 0.09985346 0.0996405  0.10005259 0.09952544 0.10045649 0.09988362\n",
      " 0.10021053 0.09966714 0.10009627 0.09963167 0.09989412 0.09951965\n",
      " 0.10021561 0.10019388 0.09975858 0.10003455 0.09991556 0.09992323\n",
      " 0.10027831 0.09964144 0.09990602 0.10001089 0.10013294 0.09978355\n",
      " 0.09960264 0.09969439 0.0992266  0.0998308  0.09951275 0.10015314\n",
      " 0.09992639 0.09963055 0.09972803 0.09971298 0.09967178 0.09946679\n",
      " 0.09959711 0.09994737 0.09965974 0.09958605 0.09952483 0.09961186\n",
      " 0.09947714 0.09954617 0.09977701 0.09966844 0.09988266 0.09991262\n",
      " 0.09956303 0.09956831 0.09967503 0.09990167 0.09956116 0.09950698\n",
      " 0.09945281 0.09958494 0.10054888 0.09971136 0.09963333 0.0999217\n",
      " 0.09962899 0.09994403 0.0999855  0.10029692 0.0997076  0.09969215\n",
      " 0.09963337 0.09971059 0.09972858 0.09939408 0.09988942 0.09978595\n",
      " 0.09969353 0.09957532 0.10022791 0.09994068 0.10003922 0.10018806\n",
      " 0.10013141 0.10042205 0.10004817 0.10033131 0.09985575 0.09961744\n",
      " 0.09987534 0.10007908 0.09966889 0.09949398 0.10018792 0.09973199\n",
      " 0.10023921 0.10004679 0.10019289 0.10032692 0.10009065 0.10017079\n",
      " 0.10003424 0.09987125]\n",
      "====================================================================================================\n",
      "Mean Squared Error:\t 0.17793214860435327\n",
      "\n",
      "RMSE:\t 0.42182004291445574\n",
      "\n",
      "R-Square value:\t -0.07252651358862727\n"
     ]
    }
   ],
   "source": [
    "#SVR with Non linear kernal - rbf\n",
    "support_reg=SVR()\n",
    "print('='*100)\n",
    "print('Hyperparameter:\\n',support_reg.get_params())\n",
    "print('='*100)\n",
    "#Train phase\n",
    "support_reg.fit(xtrain,ytrain)\n",
    "#Testing phase\n",
    "ypred=support_reg.predict(xtest)\n",
    "print('Predicted price:\\n',ypred)\n",
    "print('='*100)\n",
    "#Performance measures\n",
    "print('Mean Squared Error:\\t',mean_squared_error(ytest,ypred))\n",
    "print()\n",
    "print('RMSE:\\t',np.sqrt(mean_squared_error(ytest,ypred)))\n",
    "print()\n",
    "print('R-Square value:\\t',r2_score(ytest,ypred))"
   ]
  },
  {
   "cell_type": "markdown",
   "id": "244838fd",
   "metadata": {},
   "source": [
    "# SVR with Non linear kernal - linear"
   ]
  },
  {
   "cell_type": "code",
   "execution_count": 17,
   "id": "e63c8118",
   "metadata": {},
   "outputs": [
    {
     "name": "stdout",
     "output_type": "stream",
     "text": [
      "====================================================================================================\n",
      "Hyperparameter:\n",
      " {'C': 1.0, 'cache_size': 200, 'coef0': 0.0, 'degree': 3, 'epsilon': 0.1, 'gamma': 'scale', 'kernel': 'linear', 'max_iter': -1, 'shrinking': True, 'tol': 0.001, 'verbose': False}\n",
      "====================================================================================================\n",
      "Predicted price:\n",
      " [-575.36725096 -467.96657376 -473.09642486  307.20193429  107.18898793\n",
      " -119.5582314  -260.7762392  -138.13820414 -402.28533797    4.21568341\n",
      " -353.94393234  431.7150578   323.65113158  711.72948404   73.70597883\n",
      "   89.12649913  701.34525581  221.23289247 -279.35602407 -264.39973025\n",
      " -216.71538167 -103.12929992   -8.04839711   -4.75655465  271.28206868\n",
      "  722.97652526  536.30484195  471.91586776  616.80668588  168.97672601\n",
      " -280.23625736  -97.79457049   16.5298719   549.34170146  369.43466802\n",
      "  500.86729093 -513.99680643   71.07591839  -99.2236505   485.36347146\n",
      " -413.3245378  -188.10716061 -411.59468703 -399.17864995 -132.3966773\n",
      "  617.04153152  183.61275859  165.59307356 -188.67982845  174.77146192\n",
      "   61.14053531  174.85273786  767.33115525 -240.35924773  901.40741439\n",
      " -439.46773677 -480.70695739  -77.93745308  557.11615367  -96.09583525\n",
      " -634.95338492  -76.70355944 -426.91952662 -213.42683177 -318.93036608\n",
      "  109.88983007  477.98195787 -392.56050496 -384.17723422  253.9532537\n",
      "  405.09158607 -108.88370375  314.9299366   328.79565854 -402.83529525\n",
      " -441.42375355 -261.15634279 -158.32496886  663.84780545  135.69318981\n",
      "  135.25433727 -269.75626402 -369.597297   -228.63971691  848.06706233\n",
      "  312.84189363 -313.75867419 -186.47350507  489.2265472   560.65396662\n",
      "  -81.59167127  288.7889833   525.74220796 -477.47091346  407.36939187\n",
      " -166.17892794 1155.28189321 -518.60115843 -427.36509995 -422.74116854\n",
      "  273.34503503  423.02422185   69.62381931  233.40477867 -247.14420681\n",
      "  328.42512317 -540.59545784  136.95548792 -250.92227368  294.72914787\n",
      " -615.18335538  258.72935386  -69.36373191  438.29107137 -403.26764683\n",
      " -678.48103432 -139.70939641 -224.92096572  159.04260011  878.58950229\n",
      " -598.61803846  467.40138812 -173.14560346 -364.0365849  -133.61700873\n",
      "  404.53124757  493.24946399  820.63074918  913.21049495 -312.15326838\n",
      "  255.21050163   71.53261705 -287.62398438  375.37271447   30.43540497\n",
      "  238.61209388  355.57044072  707.47282834  680.92409034  -93.2000256\n",
      "   77.6885099   569.23672719  403.41237207 -209.12743835  281.44974585\n",
      "  338.42624421  117.3077714    52.42534681    6.84494014 -361.70767169\n",
      "  604.73203559  526.36757703 -293.07421093   80.60573955  501.81650539\n",
      "  676.21651407  493.12418838  217.29572292 -301.41615205  139.29077478\n",
      "  301.65176816  189.95061822   12.857547    -92.26886992 -120.53498749\n",
      " -372.66562085  147.73783107  -45.82278447  212.92734666  475.37137027\n",
      " -255.95013146  702.05628009  344.83130999 -229.8039494   147.58430834\n",
      "  527.28450389 -200.0204473   -89.62861733  242.1908545  -402.76662664\n",
      " -723.87506561 -558.34085994 -195.91712646 -543.21996741   63.42029281\n",
      "  177.0613596   247.19049497 -275.5269032   150.8560967   428.81728597\n",
      " -522.01770453 -271.07504134 -360.91757779  -13.39947991  -57.28053002\n",
      " -217.99228053 -432.67111878 -512.55143575 -515.2297831  -190.08971457]\n",
      "====================================================================================================\n",
      "Mean Squared Error:\t 154365.51579223998\n",
      "\n",
      "RMSE:\t 392.89377163839083\n",
      "\n",
      "R-Square value:\t -930472.271803737\n"
     ]
    }
   ],
   "source": [
    "#SVR with Non linear kernal - linear\n",
    "support_reg=SVR(kernel='linear')\n",
    "print('='*100)\n",
    "print('Hyperparameter:\\n',support_reg.get_params())\n",
    "print('='*100)\n",
    "#Train phase\n",
    "support_reg.fit(xtrain,ytrain)\n",
    "#Testing phase\n",
    "ypred=support_reg.predict(xtest)\n",
    "print('Predicted price:\\n',ypred)\n",
    "print('='*100)\n",
    "#Performance measures\n",
    "print('Mean Squared Error:\\t',mean_squared_error(ytest,ypred))\n",
    "print()\n",
    "print('RMSE:\\t',np.sqrt(mean_squared_error(ytest,ypred)))\n",
    "print()\n",
    "print('R-Square value:\\t',r2_score(ytest,ypred))\n"
   ]
  },
  {
   "cell_type": "markdown",
   "id": "da20d2ac",
   "metadata": {},
   "source": [
    "# SVR with Non linear kernal - sigmoid"
   ]
  },
  {
   "cell_type": "code",
   "execution_count": 18,
   "id": "1319c0b1",
   "metadata": {},
   "outputs": [
    {
     "name": "stdout",
     "output_type": "stream",
     "text": [
      "====================================================================================================\n",
      "Hyperparameter:\n",
      " {'C': 1.0, 'cache_size': 200, 'coef0': 0.0, 'degree': 3, 'epsilon': 0.1, 'gamma': 'scale', 'kernel': 'sigmoid', 'max_iter': -1, 'shrinking': True, 'tol': 0.001, 'verbose': False}\n",
      "====================================================================================================\n",
      "Predicted price:\n",
      " [ 21.53674091 -30.94207546  30.66873595   2.11192176  28.9120205\n",
      " -30.87969021  22.97377986  34.42658938  31.55503283  -2.64263191\n",
      "  20.65364167  29.85426272 -23.2936724  -62.74731236 -35.07244405\n",
      " -56.46440259 -70.77241256  36.71406368  36.92430513  -8.39721128\n",
      "   2.3834714   36.65828214  34.09649531  37.11889384 -14.30168403\n",
      " -67.24843892 -35.37786343 -20.02102685 -66.52183601 -73.47775872\n",
      "  37.22635046 -53.74022159  28.7243771  -67.6532148  -41.8234665\n",
      " -54.05939666  35.65741274  30.15695516 -35.74789938 -75.93354901\n",
      "  33.90125002  34.34202617  24.12250362  20.11258519  35.01072595\n",
      " -33.93527915 -70.36815023  33.8717662   36.03270081  29.23430471\n",
      "  29.04405303 -10.44461304 -51.11957442 -40.63834787 -28.34297431\n",
      " -16.29718621  11.67547009  36.10313529 -10.9225281  -72.28842646\n",
      "  37.06583815  34.77529393  36.00072202 -67.25936421  28.3055939\n",
      " -80.44903777 -75.9161502  -11.08989015  30.90902964 -40.92814836\n",
      " -22.73187985  13.95144704  30.27180975 -16.17590981  -5.30721502\n",
      "  27.98415185  34.38530759 -47.2013226  -77.68232433  36.74254737\n",
      "  20.18082862  36.44331665  29.20580609  35.97584585 -65.00732157\n",
      " -74.26351003 -24.14129085  36.72245527 -69.53891405  30.7779701\n",
      "  31.19933545 -35.43141378 -39.11259489 -32.43802023 -76.45615491\n",
      "  27.54640691 -77.70114864  34.79234727 -23.11102196  35.25609344\n",
      "  16.0502554   -1.42438424  32.69385938  36.34565615  31.47216765\n",
      " -45.07147928  19.70112843  29.43937755  12.31058757 -66.40490547\n",
      "  36.99449769 -38.24319156  15.06641549 -33.48645012  28.62448488\n",
      "  32.87706536 -62.66657362  34.77306361  18.22069955 -74.96631057\n",
      "  26.58436641 -68.36298449  36.67892402  36.6082578   29.17902191\n",
      "   1.35298009   0.62963014 -69.60911482 -41.09036596 -48.65760473\n",
      " -22.91743862  25.71974427 -71.24444458 -37.71097929  26.32230478\n",
      "  27.29736563 -37.46767093 -59.34436326 -64.69501833  36.40750936\n",
      "  10.70533943  10.57738418 -54.73877884  34.47461968  31.53628532\n",
      " -51.94834609  34.65466723 -62.13098074  32.9259299  -69.28371159\n",
      "  -9.68903393 -11.61618594  37.14910855 -27.00134637 -24.03730132\n",
      " -15.26349709 -53.80827095 -52.89508157  18.37932564  37.06710628\n",
      " -37.6839988   23.1252347   36.98588183  36.66714861  33.78014321\n",
      "  16.35891917   7.33338828 -62.24334008  36.99840881 -12.15354389\n",
      " -58.42108704 -10.26809565  23.65498054  37.28488519  36.12396951\n",
      "  15.41177777  23.32986667 -26.84089056  -0.31108026  27.76726046\n",
      "  36.93705728  22.48872237  32.42691528  24.24695274  35.8693621\n",
      "  29.9119427  -20.30314277  32.14375469  37.46560024 -52.49035142\n",
      "  29.96604414 -60.62198763 -17.13492594  23.62563629  17.25484337\n",
      "  -1.10986281 -30.40777327  32.0137642   37.39029001 -40.23411473]\n",
      "====================================================================================================\n",
      "Mean Squared Error:\t 1569.6485758634417\n",
      "\n",
      "RMSE:\t 39.618790691582724\n",
      "\n",
      "R-Square value:\t -9460.413959393863\n"
     ]
    }
   ],
   "source": [
    "#SVR with Non linear kernal - sigmoid\n",
    "support_reg=SVR(kernel='sigmoid')\n",
    "print('='*100)\n",
    "print('Hyperparameter:\\n',support_reg.get_params())\n",
    "print('='*100)\n",
    "#Train phase\n",
    "support_reg.fit(xtrain,ytrain)\n",
    "#Testing phase\n",
    "ypred=support_reg.predict(xtest)\n",
    "print('Predicted price:\\n',ypred)\n",
    "print('='*100)\n",
    "#Performance measures\n",
    "print('Mean Squared Error:\\t',mean_squared_error(ytest,ypred))\n",
    "print()\n",
    "print('RMSE:\\t',np.sqrt(mean_squared_error(ytest,ypred)))\n",
    "print()\n",
    "print('R-Square value:\\t',r2_score(ytest,ypred))"
   ]
  },
  {
   "cell_type": "code",
   "execution_count": null,
   "id": "72cb3046",
   "metadata": {},
   "outputs": [],
   "source": []
  }
 ],
 "metadata": {
  "kernelspec": {
   "display_name": "Python 3 (ipykernel)",
   "language": "python",
   "name": "python3"
  },
  "language_info": {
   "codemirror_mode": {
    "name": "ipython",
    "version": 3
   },
   "file_extension": ".py",
   "mimetype": "text/x-python",
   "name": "python",
   "nbconvert_exporter": "python",
   "pygments_lexer": "ipython3",
   "version": "3.11.4"
  }
 },
 "nbformat": 4,
 "nbformat_minor": 5
}
