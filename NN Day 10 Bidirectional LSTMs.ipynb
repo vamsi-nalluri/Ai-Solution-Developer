{
 "cells": [
  {
   "cell_type": "code",
   "execution_count": 3,
   "id": "2d4a980a",
   "metadata": {},
   "outputs": [],
   "source": [
    "from keras.models import Sequential\n",
    "from keras.layers import Bidirectional, TimeDistributed, Dense, LSTM\n",
    "import numpy as np\n",
    "from keras.datasets import imdb\n",
    "from keras.preprocessing import sequence\n"
   ]
  },
  {
   "cell_type": "code",
   "execution_count": 4,
   "id": "d29dd0ae",
   "metadata": {},
   "outputs": [],
   "source": [
    "# Define functions to generate a sequence and multiple sequences\n",
    "def get_sequence(n_timesteps):\n",
    "    x = np.array([np.random.random() for _ in range(n_timesteps)])\n",
    "    limit = n_timesteps / 4.0\n",
    "    y = np.array([0 if val < limit else 1 for val in np.cumsum(x)])\n",
    "    return x, y\n",
    "\n",
    "def get_sequences(n_sequences, n_timesteps):\n",
    "    seq_x, seq_y = list(), list()\n",
    "\n",
    "    for _ in range(n_sequences):\n",
    "        x, y = get_sequence(n_timesteps)\n",
    "        seq_x.append(x)\n",
    "        seq_y.append(y)\n",
    "\n",
    "    seq_x = np.array(seq_x).reshape(n_sequences, n_timesteps, 1)\n",
    "    seq_y = np.array(seq_y).reshape(n_sequences, n_timesteps, 1)\n",
    "    \n",
    "    return seq_x, seq_y\n"
   ]
  },
  {
   "cell_type": "code",
   "execution_count": 5,
   "id": "0e18bf45",
   "metadata": {},
   "outputs": [
    {
     "name": "stdout",
     "output_type": "stream",
     "text": [
      "Model: \"sequential_2\"\n",
      "_________________________________________________________________\n",
      " Layer (type)                Output Shape              Param #   \n",
      "=================================================================\n",
      " bidirectional_2 (Bidirecti  (None, 10, 100)           20800     \n",
      " onal)                                                           \n",
      "                                                                 \n",
      " time_distributed_1 (TimeDi  (None, 10, 1)             101       \n",
      " stributed)                                                      \n",
      "                                                                 \n",
      "=================================================================\n",
      "Total params: 20901 (81.64 KB)\n",
      "Trainable params: 20901 (81.64 KB)\n",
      "Non-trainable params: 0 (0.00 Byte)\n",
      "_________________________________________________________________\n"
     ]
    }
   ],
   "source": [
    "# Define the Bidirectional LSTM model\n",
    "n_timesteps = 10\n",
    "model = Sequential()\n",
    "model.add(Bidirectional(LSTM(50, return_sequences=True), input_shape=(n_timesteps, 1)))\n",
    "model.add(TimeDistributed(Dense(1, activation='sigmoid')))\n",
    "model.compile(optimizer='adam', loss='binary_crossentropy', metrics=['accuracy'])\n",
    "\n",
    "model.summary()"
   ]
  },
  {
   "cell_type": "code",
   "execution_count": 6,
   "id": "0c75fbcc",
   "metadata": {},
   "outputs": [
    {
     "name": "stdout",
     "output_type": "stream",
     "text": [
      "Epoch 1/10\n",
      "5000/5000 [==============================] - 17s 3ms/step - loss: 0.0518 - accuracy: 0.9812\n",
      "Epoch 2/10\n",
      "5000/5000 [==============================] - 17s 3ms/step - loss: 0.0210 - accuracy: 0.9925\n",
      "Epoch 3/10\n",
      "5000/5000 [==============================] - 19s 4ms/step - loss: 0.0166 - accuracy: 0.9939\n",
      "Epoch 4/10\n",
      "5000/5000 [==============================] - 19s 4ms/step - loss: 0.0149 - accuracy: 0.9944\n",
      "Epoch 5/10\n",
      "5000/5000 [==============================] - 20s 4ms/step - loss: 0.0134 - accuracy: 0.9949\n",
      "Epoch 6/10\n",
      "5000/5000 [==============================] - 21s 4ms/step - loss: 0.0124 - accuracy: 0.9953\n",
      "Epoch 7/10\n",
      "5000/5000 [==============================] - 20s 4ms/step - loss: 0.0111 - accuracy: 0.9958\n",
      "Epoch 8/10\n",
      "5000/5000 [==============================] - 20s 4ms/step - loss: 0.0109 - accuracy: 0.9957\n",
      "Epoch 9/10\n",
      "5000/5000 [==============================] - 20s 4ms/step - loss: 0.0104 - accuracy: 0.9958\n",
      "Epoch 10/10\n",
      "5000/5000 [==============================] - 20s 4ms/step - loss: 0.0096 - accuracy: 0.9963\n"
     ]
    },
    {
     "data": {
      "text/plain": [
       "<keras.src.callbacks.History at 0x10382ec0a50>"
      ]
     },
     "execution_count": 6,
     "metadata": {},
     "output_type": "execute_result"
    }
   ],
   "source": [
    "# Train the model\n",
    "x_train, y_train = get_sequences(50000, n_timesteps)\n",
    "model.fit(x_train, y_train, epochs=10, batch_size=10)\n",
    "\n"
   ]
  },
  {
   "cell_type": "code",
   "execution_count": 7,
   "id": "f7fd5fd5",
   "metadata": {},
   "outputs": [
    {
     "name": "stdout",
     "output_type": "stream",
     "text": [
      "4/4 [==============================] - 1s 3ms/step - loss: 0.0067 - accuracy: 0.9970\n",
      "\n",
      "Loss: 0.0066572739742696285, Accuracy: 99.6999979019165%\n"
     ]
    }
   ],
   "source": [
    "# Evaluate the model\n",
    "x_test, y_test = get_sequences(100, n_timesteps)\n",
    "loss, accuracy = model.evaluate(x_test, y_test, verbose=1)\n",
    "print(f'\\nLoss: {loss}, Accuracy: {accuracy * 100}%')\n",
    "\n"
   ]
  },
  {
   "cell_type": "code",
   "execution_count": 8,
   "id": "1017fbb0",
   "metadata": {},
   "outputs": [
    {
     "name": "stdout",
     "output_type": "stream",
     "text": [
      "y=[0 0 0 0 1 1 1 1 1 1], y_pred=[1.3765856e-16 3.8709262e-13 3.9304462e-12 2.3285439e-04 9.9821472e-01\n",
      " 1.0000000e+00 1.0000000e+00 1.0000000e+00 1.0000000e+00 1.0000000e+00], correct=False\n",
      "y=[0 0 0 0 1 1 1 1 1 1], y_pred=[2.7037929e-15 1.0744926e-10 8.4953762e-16 1.1107689e-02 1.0000000e+00\n",
      " 1.0000000e+00 1.0000000e+00 1.0000000e+00 1.0000000e+00 1.0000000e+00], correct=False\n",
      "y=[0 0 0 0 0 0 1 1 1 1], y_pred=[7.1033493e-17 4.6542475e-16 9.1625936e-16 6.6485649e-16 1.1137375e-11\n",
      " 1.6710980e-01 1.0000000e+00 1.0000000e+00 1.0000000e+00 1.0000000e+00], correct=False\n",
      "y=[0 0 0 0 0 0 1 1 1 1], y_pred=[3.3862719e-09 3.7834205e-13 6.2798741e-13 7.9580344e-12 3.1729383e-10\n",
      " 1.0751907e-08 9.9990988e-01 1.0000000e+00 1.0000000e+00 1.0000000e+00], correct=False\n",
      "y=[0 0 0 0 0 1 1 1 1 1], y_pred=[8.5687329e-17 1.8401999e-16 4.0032268e-14 3.5834714e-13 1.2174803e-01\n",
      " 1.0000000e+00 1.0000000e+00 1.0000000e+00 1.0000000e+00 1.0000000e+00], correct=False\n",
      "y=[0 0 0 0 0 0 1 1 1 1], y_pred=[1.2824681e-16 1.3308877e-16 3.4897268e-17 1.3687824e-10 6.7473301e-12\n",
      " 1.3884917e-02 1.0000000e+00 1.0000000e+00 1.0000000e+00 1.0000000e+00], correct=False\n",
      "y=[0 0 0 0 0 1 1 1 1 1], y_pred=[2.0657180e-10 1.3873462e-07 2.9097151e-13 1.7545275e-13 9.6427463e-03\n",
      " 1.0000000e+00 1.0000000e+00 1.0000000e+00 1.0000000e+00 1.0000000e+00], correct=False\n",
      "y=[0 0 0 0 0 1 1 1 1 1], y_pred=[3.0661248e-08 1.1627233e-14 3.1732571e-11 1.0448014e-08 1.9185041e-05\n",
      " 1.0000000e+00 1.0000000e+00 1.0000000e+00 1.0000000e+00 1.0000000e+00], correct=False\n",
      "y=[0 0 0 0 0 0 1 1 1 1], y_pred=[1.4527224e-16 1.1897233e-16 3.9235463e-13 1.0752147e-13 9.2986579e-07\n",
      " 1.2677382e-01 1.0000000e+00 1.0000000e+00 1.0000000e+00 1.0000000e+00], correct=False\n",
      "y=[0 0 0 0 0 0 1 1 1 1], y_pred=[9.0043871e-15 6.5228029e-17 1.4732920e-14 2.9882170e-15 3.4606566e-16\n",
      " 9.9836499e-05 9.1805148e-01 1.0000000e+00 1.0000000e+00 1.0000000e+00], correct=False\n"
     ]
    }
   ],
   "source": [
    "# Make predictions\n",
    "for _ in range(10):\n",
    "    x_pred, y_actual = get_sequences(1, n_timesteps)\n",
    "    y_pred = model.predict(x_pred, verbose=0)\n",
    "    actual, pred = y_actual.reshape(n_timesteps), y_pred.reshape(n_timesteps)\n",
    "    \n",
    "    print(f'y={actual}, y_pred={pred}, correct={np.array_equal(actual, pred)}')\n"
   ]
  },
  {
   "cell_type": "code",
   "execution_count": null,
   "id": "543703ab",
   "metadata": {},
   "outputs": [],
   "source": []
  },
  {
   "cell_type": "code",
   "execution_count": 9,
   "id": "f593c551",
   "metadata": {},
   "outputs": [
    {
     "name": "stdout",
     "output_type": "stream",
     "text": [
      "Model: \"sequential_3\"\n",
      "_________________________________________________________________\n",
      " Layer (type)                Output Shape              Param #   \n",
      "=================================================================\n",
      " embedding_1 (Embedding)     (None, 300, 128)          640000    \n",
      "                                                                 \n",
      " bidirectional_3 (Bidirecti  (None, 128)               98816     \n",
      " onal)                                                           \n",
      "                                                                 \n",
      " dense_3 (Dense)             (None, 1)                 129       \n",
      "                                                                 \n",
      "=================================================================\n",
      "Total params: 738945 (2.82 MB)\n",
      "Trainable params: 738945 (2.82 MB)\n",
      "Non-trainable params: 0 (0.00 Byte)\n",
      "_________________________________________________________________\n",
      "Epoch 1/3\n",
      "313/313 [==============================] - 187s 592ms/step - loss: 0.4650 - accuracy: 0.7790 - val_loss: 0.3383 - val_accuracy: 0.8568\n",
      "Epoch 2/3\n",
      "313/313 [==============================] - 157s 502ms/step - loss: 0.4381 - accuracy: 0.8059 - val_loss: 0.3874 - val_accuracy: 0.8268\n",
      "Epoch 3/3\n",
      "313/313 [==============================] - 166s 530ms/step - loss: 0.3415 - accuracy: 0.8557 - val_loss: 0.3919 - val_accuracy: 0.8402\n",
      "782/782 [==============================] - 52s 66ms/step - loss: 0.3900 - accuracy: 0.8421\n",
      "Test Loss: 0.3900, Test Accuracy: 0.8421\n"
     ]
    }
   ],
   "source": [
    "from keras.datasets import imdb\n",
    "from keras.preprocessing import sequence\n",
    "from keras.models import Sequential\n",
    "from keras.layers import Embedding, Bidirectional, LSTM, Dense\n",
    "\n",
    "\n",
    "vocab_size = 5000\n",
    "max_sequence_length = 300\n",
    "\n",
    "# Load the IMDB dataset\n",
    "(x_train, y_train), (x_test, y_test) = imdb.load_data(num_words=vocab_size)\n",
    "\n",
    "# Pad sequences to a fixed length (necessary for input to LSTM)\n",
    "x_train = sequence.pad_sequences(x_train, maxlen=max_sequence_length)\n",
    "x_test = sequence.pad_sequences(x_test, maxlen=max_sequence_length)\n",
    "\n",
    "# Create a Sequential model\n",
    "model = Sequential()\n",
    "model.add(Embedding(input_dim=vocab_size, output_dim=128, input_length=max_sequence_length))\n",
    "model.add(Bidirectional(LSTM(64)))\n",
    "model.add(Dense(1, activation='sigmoid'))\n",
    "\n",
    "# Compile the model\n",
    "model.compile(optimizer='adam', loss='binary_crossentropy', metrics=['accuracy'])\n",
    "\n",
    "model.summary()\n",
    "\n",
    "# Train the model\n",
    "model.fit(x_train, y_train, epochs=3, batch_size=64, validation_split=0.2)\n",
    "\n",
    "# Evaluate the model on the test set\n",
    "loss, accuracy = model.evaluate(x_test, y_test)\n",
    "print(f'Test Loss: {loss:.4f}, Test Accuracy: {accuracy:.4f}')\n"
   ]
  },
  {
   "cell_type": "code",
   "execution_count": null,
   "id": "fe8d98b8",
   "metadata": {},
   "outputs": [],
   "source": []
  }
 ],
 "metadata": {
  "kernelspec": {
   "display_name": "Python 3 (ipykernel)",
   "language": "python",
   "name": "python3"
  },
  "language_info": {
   "codemirror_mode": {
    "name": "ipython",
    "version": 3
   },
   "file_extension": ".py",
   "mimetype": "text/x-python",
   "name": "python",
   "nbconvert_exporter": "python",
   "pygments_lexer": "ipython3",
   "version": "3.11.4"
  }
 },
 "nbformat": 4,
 "nbformat_minor": 5
}
