{
 "cells": [
  {
   "cell_type": "markdown",
   "id": "403ad0fa",
   "metadata": {},
   "source": [
    "# Implimentation of Multi Layer Perceptron"
   ]
  },
  {
   "cell_type": "code",
   "execution_count": 1,
   "id": "dd2601b9",
   "metadata": {},
   "outputs": [],
   "source": [
    "import random\n",
    "import numpy as np"
   ]
  },
  {
   "cell_type": "markdown",
   "id": "b3f5fbc8",
   "metadata": {},
   "source": [
    "# Class-Neural Network"
   ]
  },
  {
   "cell_type": "code",
   "execution_count": 17,
   "id": "8382e0b2",
   "metadata": {},
   "outputs": [],
   "source": [
    "class NeuralNetworkMLP():\n",
    "    def __init__(self, input_size, output_size):\n",
    "         random.seed(2)\n",
    "        self.synaptic_weights = 2 * np.random.random((input_size, output_size)) - 1\n",
    "\n",
    "    def __sigmoid(self, x):\n",
    "        return 1 / (1 + np.exp(-x))\n",
    "\n",
    "    def __sigmoid_derivative(self, x):\n",
    "        return x * (1 - x)\n",
    "\n",
    "    def think(self, inputs):\n",
    "        return self.__sigmoid(np.dot(inputs, self.synaptic_weights))\n",
    "\n",
    "    def train(self, training_set_inputs, training_set_outputs, number_of_training_iterations):\n",
    "        for iteration in range(number_of_training_iterations):\n",
    "            output = self.think(training_set_inputs)\n",
    "            error = training_set_outputs - output\n",
    "            adjustment = np.dot(training_set_inputs.T, error * self.__sigmoid_derivative(output))\n",
    "            # Adjust weights\n",
    "            self.synaptic_weights += adjustment / len(training_set_inputs)\n"
   ]
  },
  {
   "cell_type": "markdown",
   "id": "6644f2f2",
   "metadata": {},
   "source": [
    "# Initialize the Network"
   ]
  },
  {
   "cell_type": "code",
   "execution_count": 18,
   "id": "f09b1a87",
   "metadata": {},
   "outputs": [
    {
     "name": "stdout",
     "output_type": "stream",
     "text": [
      "Random starting weights:\n",
      "\n",
      "[[-0.42473201  0.65740781]\n",
      " [-0.11692336  0.87512381]\n",
      " [ 0.51087379 -0.17979751]]\n"
     ]
    }
   ],
   "source": [
    "if __name__ == '__main__':\n",
    "    # Initialize a neural network with 3 input and 2 output connections\n",
    "    neural_network = NeuralNetworkMLP(3, 2)\n",
    "    print('\\nRandom starting weights:\\n')\n",
    "    print(neural_network.synaptic_weights)\n",
    "\n",
    "    training_set_inputs = np.array([[0, 0, 1], [1, 1, 1], [1, 0, 1], [0, 1, 1]])\n",
    "    training_set_outputs = np.array([[0, 1], [1, 0], [1, 1], [0, 0]])\n"
   ]
  },
  {
   "cell_type": "markdown",
   "id": "7141bc34",
   "metadata": {},
   "source": [
    "# Train the Neural Network"
   ]
  },
  {
   "cell_type": "code",
   "execution_count": 19,
   "id": "0cfea01f",
   "metadata": {},
   "outputs": [
    {
     "name": "stdout",
     "output_type": "stream",
     "text": [
      "********************* Neural Network Training Phase *****************\n",
      "New weights after training\n",
      "\n",
      "[[ 8.23451636  0.21580413]\n",
      " [-0.21518101 -8.23418355]\n",
      " [-3.90487028  3.90433164]]\n",
      "\n",
      "Considering the new situation [1, 0, 0] --> ?:\n",
      "\n",
      "[0.99973474 0.55374262]\n"
     ]
    }
   ],
   "source": [
    "# Train the network\n",
    "print('********************* Neural Network Training Phase *****************')\n",
    "neural_network.train(training_set_inputs, training_set_outputs, 10000)\n",
    "print('\\nNew weights after training\\n')\n",
    "print(neural_network.synaptic_weights)\n",
    "print()\n",
    "\n",
    "# Test the network\n",
    "print('\\nConsidering the new situation [1, 0, 0] --> ?:')\n",
    "print()\n",
    "print(neural_network.think(np.array([1, 0, 0])))\n"
   ]
  },
  {
   "cell_type": "code",
   "execution_count": null,
   "id": "7e2239ec",
   "metadata": {},
   "outputs": [],
   "source": []
  },
  {
   "cell_type": "markdown",
   "id": "8dd0c56e",
   "metadata": {},
   "source": [
    "# Class-Neural Network With Hidden Layer"
   ]
  },
  {
   "cell_type": "code",
   "execution_count": 28,
   "id": "5db14d23",
   "metadata": {},
   "outputs": [],
   "source": [
    "class NeuralNetworkMLP_H():\n",
    "    def __init__(self, input_size, hidden_size, output_size):\n",
    "        random.seed(2)\n",
    "        self.synaptic_weights_input_hidden = 2 * np.random.random((input_size, hidden_size)) - 1\n",
    "        self.synaptic_weights_hidden_output = 2 * np.random.random((hidden_size, output_size)) - 1\n",
    "\n",
    "    def __sigmoid(self, x):\n",
    "        return 1 / (1 + np.exp(-x))\n",
    "\n",
    "    def __sigmoid_derivative(self, x):\n",
    "        return x * (1 - x)\n",
    "\n",
    "    def think(self, inputs):\n",
    "        hidden_output = self.__sigmoid(np.dot(inputs, self.synaptic_weights_input_hidden))\n",
    "        output = self.__sigmoid(np.dot(hidden_output, self.synaptic_weights_hidden_output))\n",
    "        return output\n",
    "\n",
    "    def train(self, training_set_inputs, training_set_outputs, number_of_training_iterations):\n",
    "        for iteration in range(number_of_training_iterations):\n",
    "            hidden_layer_output = self.__sigmoid(np.dot(training_set_inputs, self.synaptic_weights_input_hidden))\n",
    "            output = self.__sigmoid(np.dot(hidden_layer_output, self.synaptic_weights_hidden_output))\n",
    "            output_error = training_set_outputs - output\n",
    "            hidden_layer_error = output_error.dot(self.synaptic_weights_hidden_output.T)\n",
    "            output_delta = output_error * self.__sigmoid_derivative(output)\n",
    "            hidden_layer_delta = hidden_layer_error * self.__sigmoid_derivative(hidden_layer_output)\n",
    "            self.synaptic_weights_hidden_output += hidden_layer_output.T.dot(output_delta)\n",
    "            self.synaptic_weights_input_hidden += training_set_inputs.T.dot(hidden_layer_delta)\n"
   ]
  },
  {
   "cell_type": "markdown",
   "id": "cdff8dc7",
   "metadata": {},
   "source": [
    "# Initialize the Network"
   ]
  },
  {
   "cell_type": "code",
   "execution_count": 29,
   "id": "9d89ffff",
   "metadata": {},
   "outputs": [
    {
     "name": "stdout",
     "output_type": "stream",
     "text": [
      "\n",
      "Random starting weights for input to hidden layer:\n",
      "\n",
      "[[ 0.62685604  0.97486671  0.59866858 -0.59514644]\n",
      " [-0.05353667 -0.13716162 -0.41372054 -0.15235189]\n",
      " [ 0.49894876  0.86884436  0.28520447  0.51836411]]\n",
      "\n",
      "\n",
      "Random starting weights for hidden to output layer:\n",
      "\n",
      "[[-0.25378973]\n",
      " [-0.35383671]\n",
      " [-0.40416531]\n",
      " [ 0.93230652]]\n"
     ]
    }
   ],
   "source": [
    "\n",
    "if __name__ == '__main__':\n",
    "    neural_network = NeuralNetworkMLP_H(3, 4, 1)\n",
    "    print('\\nRandom starting weights for input to hidden layer:\\n')\n",
    "    print(neural_network.synaptic_weights_input_hidden)\n",
    "    print('\\n\\nRandom starting weights for hidden to output layer:\\n')\n",
    "    print(neural_network.synaptic_weights_hidden_output)\n",
    "    training_set_inputs = np.array([[0, 0, 1], [1, 1, 1], [1, 0, 1], [0, 1, 1]])\n",
    "    training_set_outputs = np.array([[0, 1, 1, 0]]).T\n"
   ]
  },
  {
   "cell_type": "markdown",
   "id": "ac464c53",
   "metadata": {},
   "source": [
    "# Train the Neural Network"
   ]
  },
  {
   "cell_type": "code",
   "execution_count": 30,
   "id": "b2373b6d",
   "metadata": {},
   "outputs": [
    {
     "name": "stdout",
     "output_type": "stream",
     "text": [
      "********************* Neural Network Training Phase *****************\n",
      "\n",
      "New weights for input to hidden layer after training:\n",
      "\n",
      "[[ -8.79583896  -7.16925669 -10.39456621  11.31598625]\n",
      " [  0.34790108   0.31917228   0.33063837  -0.34332535]\n",
      " [  3.74439647   2.93010321   4.56217421  -5.01745622]]\n",
      "\n",
      "New weights for hidden to output layer after training:\n",
      "\n",
      "[[-1.7439883 ]\n",
      " [-0.93219157]\n",
      " [-3.34434982]\n",
      " [ 5.39438342]]\n",
      "\n",
      "\n",
      "Considering the new situation [1, 0, 0] --> ? :\t [0.99547334]\n"
     ]
    }
   ],
   "source": [
    "print('********************* Neural Network Training Phase *****************')\n",
    "neural_network.train(training_set_inputs, training_set_outputs, 10000)\n",
    "print('\\nNew weights for input to hidden layer after training:\\n')\n",
    "print(neural_network.synaptic_weights_input_hidden)\n",
    "print('\\nNew weights for hidden to output layer after training:\\n')\n",
    "print(neural_network.synaptic_weights_hidden_output)\n",
    "print()\n",
    "print('\\nConsidering the new situation [1, 0, 0] --> ? :\\t',neural_network.think(np.array([1, 0, 0])))"
   ]
  },
  {
   "cell_type": "code",
   "execution_count": null,
   "id": "0f985fdf",
   "metadata": {},
   "outputs": [],
   "source": []
  },
  {
   "cell_type": "code",
   "execution_count": null,
   "id": "ea746963",
   "metadata": {},
   "outputs": [],
   "source": []
  }
 ],
 "metadata": {
  "kernelspec": {
   "display_name": "Python 3 (ipykernel)",
   "language": "python",
   "name": "python3"
  },
  "language_info": {
   "codemirror_mode": {
    "name": "ipython",
    "version": 3
   },
   "file_extension": ".py",
   "mimetype": "text/x-python",
   "name": "python",
   "nbconvert_exporter": "python",
   "pygments_lexer": "ipython3",
   "version": "3.11.4"
  }
 },
 "nbformat": 4,
 "nbformat_minor": 5
}
